{
  "cells": [
    {
      "cell_type": "markdown",
      "metadata": {
        "id": "view-in-github",
        "colab_type": "text"
      },
      "source": [
        "<a href=\"https://colab.research.google.com/github/joshstruggles/Local-Area-Unemployment-Statistics-California/blob/main/Time_Series_Analysis_of_LAUS.ipynb\" target=\"_parent\"><img src=\"https://colab.research.google.com/assets/colab-badge.svg\" alt=\"Open In Colab\"/></a>"
      ]
    },
    {
      "cell_type": "markdown",
      "source": [
        "# To-Do List\n",
        "\n",
        "\n",
        "- ~~We are getting random results on our RNN model due to the way Keras randomizes Numpy. We will need to figure out how to create a random_state for the functioned models~~\n",
        "- ~~Verify model performance~~\n",
        "  - ~~Equalize test data pool size for all models~~\n",
        "  - ~~if we are incorrect we will need to change models/predict on new models:~~\n",
        "    - ~~The only exception is Monterey County, the RNN model has a test score 0.0001% better than the ARIMA model~~\n",
        "- Attempt boosting RNN performance (we may not be able to keep function for RNN and may need to consider a gridsearch function).\n",
        "\n",
        "- Predict values on models with best performance\n",
        "  - We are looking for 12 months of predictions after March 2023 to say that there will still indeed be perceivable seasonality in rate of unemployment\n",
        "- Finish Markdown portions\n",
        "\n",
        "- Finish comments on all cells\n",
        "\n",
        "- Figure out how to hardcode visuals into google slides\n",
        "\n",
        "- Include section on ways the data is incomplete:\n",
        "  - Updated ag worker numbers for example\n",
        "\n",
        "- Fix visualizations in notebook"
      ],
      "metadata": {
        "id": "Z1TRw8AF9vsd"
      }
    },
    {
      "cell_type": "markdown",
      "metadata": {
        "id": "Bu1vPfCxxUgx"
      },
      "source": [
        "## Dataset\n",
        "\n",
        "__['Local Area Unemployment Statistics'](https://data.ca.gov/dataset/local-area-unemployment-statistics-laus)__  current as of March, 2023. <br>\n",
        "\n",
        "## Business Problem\n",
        "\n",
        "According to a recent article posted on what could be considered America's most uncelebrated holiday __['National Skilled Trades Day'](https://gvwire.com/2023/05/02/on-national-skilled-trades-day-americas-labor-shortage-looms/)__, there is a high need for skilled labor in the job market. Specifically, these are blue collar jobs in the trades (carpentry, HVAC, iron work, sheet metal, and aviation). There is a growing sentiment in the United States that there aren't people willing to work, but according to the article by Elen  Theodossiou and Steven F. Hipple, __['Unemployment remains high in 2010'](https://www.bls.gov/opub/mlr/2011/03/art1full.pdf)__, __\"Workers with less education continued to experience a substantially higher unemployment rate than did better educated members of the labor force.\"__(4)\n",
        "<br>\n",
        "\n",
        "Taking into consideration that ALL the jobs highlighted in the article __['National Skilled Trades Day'](https://gvwire.com/2023/05/02/on-national-skilled-trades-day-americas-labor-shortage-looms/)__ require some kind of certificate of completion from a trade school or on the job training, it is our intention to look at counties in California with high unemployment rates and attempt to identify members of specific business sectors that the EDD (State of California Employment Development Department) can recruit for training in these high demand jobs.\n",
        "<br>\n",
        "\n",
        "Are there then groups in our data on counties and unemployment rate that may shed light on a potential group of candidates for a proposal for an EDD sponsored version of job training? That is the goal of our project.\n",
        "\n",
        "## Method of Analysis/ Time Series Analysis of California's Unemployment Rate\n",
        "\n",
        "Now that we have determined that there is a relationship between higher rates of unemployment and education we will look to determine a predictive model on the time series data we have for the top five crop producing counties in California and determine when the highest rate of unemployment (seasonality) occurs for each county and determine when a potential educational program could be implemented. <br>\n",
        "\n",
        "With this data we can carefully craft the skeleton of a 6-month educational program and through the published opinions of local experts and government entities begin looking at potential fields of study/educational partners to reach out to in order to create a specialized educational program. <br>\n",
        "\n",
        "Ultimately, the reason for making these suggestions is to help improve the __[living conditions](https://www.hcd.ca.gov/planning-and-community-development/housing-elements/building-blocks/farmworkers)__ and occupational opportunities of skilled laborers in the agricultural field. <br>\n",
        "\n",
        "### College Educational Programs and Community College opportunties for trades and beyond\n",
        "\n",
        "The reason for proposing trade school opportunities primarily is that there is a significantly smaller amount of __[training to deployment](https://toptrade.school/how-long-does-trade-school-take/)__ than traditional four year schools, something to the tune of 6 months to a year for a full time student. Since our proposal is for off-season migrant and farm workers who would be able to take advantage of these programs during the off-season, time is a crucial factor. From here however, once given the ability to rise financially and educationally, our educated workforce would be able to improve living conditions and explore other educational opportunities."
      ]
    },
    {
      "cell_type": "markdown",
      "source": [
        "# Uncomment this section prior to running notebook for the first time.\n",
        "\n",
        "# __&darr;__"
      ],
      "metadata": {
        "id": "5X0GmQHuxdXJ"
      }
    },
    {
      "cell_type": "code",
      "source": [
        "# # google colab does not have fbprophet installed so we will need to pip install\n",
        "# !pip install fbprophet\n",
        "# !pip install prophet"
      ],
      "metadata": {
        "id": "eKHqk4L5wyjw"
      },
      "execution_count": 1,
      "outputs": []
    },
    {
      "cell_type": "code",
      "execution_count": 2,
      "metadata": {
        "id": "Iacd63bhxUgy"
      },
      "outputs": [],
      "source": [
        "import pandas as pd\n",
        "import matplotlib as plt\n",
        "import matplotlib.pyplot as plt\n",
        "import numpy as np\n",
        "import warnings\n",
        "warnings.filterwarnings('ignore')\n",
        "from math import sqrt\n",
        "from tensorflow import keras\n",
        "from tensorflow.keras import layers\n",
        "from keras.models import Sequential\n",
        "from keras.layers import Dense\n",
        "from keras.layers import LSTM\n",
        "from keras.preprocessing.sequence import TimeseriesGenerator\n",
        "\n",
        "from numpy.random import seed\n",
        "seed(1)\n",
        "import tensorflow as tf\n",
        "tf.keras.utils.set_random_seed(42)  # sets seeds for base-python, numpy and tf\n",
        "tf.config.experimental.enable_op_determinism()\n",
        "\n",
        "%matplotlib inline\n",
        "plt.style.use('ggplot')\n",
        "plt.style.use('fivethirtyeight')"
      ]
    },
    {
      "cell_type": "code",
      "execution_count": 3,
      "metadata": {
        "id": "7zwPrbdbxUg1",
        "outputId": "ab6d7d83-1a2a-4ab2-a92f-73f9ed72f5f4",
        "colab": {
          "base_uri": "https://localhost:8080/",
          "height": 206
        }
      },
      "outputs": [
        {
          "output_type": "execute_result",
          "data": {
            "text/plain": [
              "           County  High School Grad  4 Year College Degree  \\\n",
              "0     Los Angeles              80.9                   34.0   \n",
              "1         Alameda              89.0                   49.6   \n",
              "2  San Bernardino              81.1                   21.9   \n",
              "3       Riverside              83.0                   23.5   \n",
              "4          Placer              94.8                   41.6   \n",
              "\n",
              "   Highest Unemployment Rate  Highest UR was during Pandemic  \\\n",
              "0                       13.2                               1   \n",
              "1                       11.5                               1   \n",
              "2                       14.5                               0   \n",
              "3                       14.8                               1   \n",
              "4                       12.4                               1   \n",
              "\n",
              "   2017 Census of Agriculture Rank(Crops)  \n",
              "0                                      31  \n",
              "1                                      41  \n",
              "2                                      33  \n",
              "3                                      14  \n",
              "4                                      40  "
            ],
            "text/html": [
              "\n",
              "  <div id=\"df-e6eefe41-8474-496f-ac93-bd47a68bbb4e\">\n",
              "    <div class=\"colab-df-container\">\n",
              "      <div>\n",
              "<style scoped>\n",
              "    .dataframe tbody tr th:only-of-type {\n",
              "        vertical-align: middle;\n",
              "    }\n",
              "\n",
              "    .dataframe tbody tr th {\n",
              "        vertical-align: top;\n",
              "    }\n",
              "\n",
              "    .dataframe thead th {\n",
              "        text-align: right;\n",
              "    }\n",
              "</style>\n",
              "<table border=\"1\" class=\"dataframe\">\n",
              "  <thead>\n",
              "    <tr style=\"text-align: right;\">\n",
              "      <th></th>\n",
              "      <th>County</th>\n",
              "      <th>High School Grad</th>\n",
              "      <th>4 Year College Degree</th>\n",
              "      <th>Highest Unemployment Rate</th>\n",
              "      <th>Highest UR was during Pandemic</th>\n",
              "      <th>2017 Census of Agriculture Rank(Crops)</th>\n",
              "    </tr>\n",
              "  </thead>\n",
              "  <tbody>\n",
              "    <tr>\n",
              "      <th>0</th>\n",
              "      <td>Los Angeles</td>\n",
              "      <td>80.9</td>\n",
              "      <td>34.0</td>\n",
              "      <td>13.2</td>\n",
              "      <td>1</td>\n",
              "      <td>31</td>\n",
              "    </tr>\n",
              "    <tr>\n",
              "      <th>1</th>\n",
              "      <td>Alameda</td>\n",
              "      <td>89.0</td>\n",
              "      <td>49.6</td>\n",
              "      <td>11.5</td>\n",
              "      <td>1</td>\n",
              "      <td>41</td>\n",
              "    </tr>\n",
              "    <tr>\n",
              "      <th>2</th>\n",
              "      <td>San Bernardino</td>\n",
              "      <td>81.1</td>\n",
              "      <td>21.9</td>\n",
              "      <td>14.5</td>\n",
              "      <td>0</td>\n",
              "      <td>33</td>\n",
              "    </tr>\n",
              "    <tr>\n",
              "      <th>3</th>\n",
              "      <td>Riverside</td>\n",
              "      <td>83.0</td>\n",
              "      <td>23.5</td>\n",
              "      <td>14.8</td>\n",
              "      <td>1</td>\n",
              "      <td>14</td>\n",
              "    </tr>\n",
              "    <tr>\n",
              "      <th>4</th>\n",
              "      <td>Placer</td>\n",
              "      <td>94.8</td>\n",
              "      <td>41.6</td>\n",
              "      <td>12.4</td>\n",
              "      <td>1</td>\n",
              "      <td>40</td>\n",
              "    </tr>\n",
              "  </tbody>\n",
              "</table>\n",
              "</div>\n",
              "      <button class=\"colab-df-convert\" onclick=\"convertToInteractive('df-e6eefe41-8474-496f-ac93-bd47a68bbb4e')\"\n",
              "              title=\"Convert this dataframe to an interactive table.\"\n",
              "              style=\"display:none;\">\n",
              "        \n",
              "  <svg xmlns=\"http://www.w3.org/2000/svg\" height=\"24px\"viewBox=\"0 0 24 24\"\n",
              "       width=\"24px\">\n",
              "    <path d=\"M0 0h24v24H0V0z\" fill=\"none\"/>\n",
              "    <path d=\"M18.56 5.44l.94 2.06.94-2.06 2.06-.94-2.06-.94-.94-2.06-.94 2.06-2.06.94zm-11 1L8.5 8.5l.94-2.06 2.06-.94-2.06-.94L8.5 2.5l-.94 2.06-2.06.94zm10 10l.94 2.06.94-2.06 2.06-.94-2.06-.94-.94-2.06-.94 2.06-2.06.94z\"/><path d=\"M17.41 7.96l-1.37-1.37c-.4-.4-.92-.59-1.43-.59-.52 0-1.04.2-1.43.59L10.3 9.45l-7.72 7.72c-.78.78-.78 2.05 0 2.83L4 21.41c.39.39.9.59 1.41.59.51 0 1.02-.2 1.41-.59l7.78-7.78 2.81-2.81c.8-.78.8-2.07 0-2.86zM5.41 20L4 18.59l7.72-7.72 1.47 1.35L5.41 20z\"/>\n",
              "  </svg>\n",
              "      </button>\n",
              "      \n",
              "  <style>\n",
              "    .colab-df-container {\n",
              "      display:flex;\n",
              "      flex-wrap:wrap;\n",
              "      gap: 12px;\n",
              "    }\n",
              "\n",
              "    .colab-df-convert {\n",
              "      background-color: #E8F0FE;\n",
              "      border: none;\n",
              "      border-radius: 50%;\n",
              "      cursor: pointer;\n",
              "      display: none;\n",
              "      fill: #1967D2;\n",
              "      height: 32px;\n",
              "      padding: 0 0 0 0;\n",
              "      width: 32px;\n",
              "    }\n",
              "\n",
              "    .colab-df-convert:hover {\n",
              "      background-color: #E2EBFA;\n",
              "      box-shadow: 0px 1px 2px rgba(60, 64, 67, 0.3), 0px 1px 3px 1px rgba(60, 64, 67, 0.15);\n",
              "      fill: #174EA6;\n",
              "    }\n",
              "\n",
              "    [theme=dark] .colab-df-convert {\n",
              "      background-color: #3B4455;\n",
              "      fill: #D2E3FC;\n",
              "    }\n",
              "\n",
              "    [theme=dark] .colab-df-convert:hover {\n",
              "      background-color: #434B5C;\n",
              "      box-shadow: 0px 1px 3px 1px rgba(0, 0, 0, 0.15);\n",
              "      filter: drop-shadow(0px 1px 2px rgba(0, 0, 0, 0.3));\n",
              "      fill: #FFFFFF;\n",
              "    }\n",
              "  </style>\n",
              "\n",
              "      <script>\n",
              "        const buttonEl =\n",
              "          document.querySelector('#df-e6eefe41-8474-496f-ac93-bd47a68bbb4e button.colab-df-convert');\n",
              "        buttonEl.style.display =\n",
              "          google.colab.kernel.accessAllowed ? 'block' : 'none';\n",
              "\n",
              "        async function convertToInteractive(key) {\n",
              "          const element = document.querySelector('#df-e6eefe41-8474-496f-ac93-bd47a68bbb4e');\n",
              "          const dataTable =\n",
              "            await google.colab.kernel.invokeFunction('convertToInteractive',\n",
              "                                                     [key], {});\n",
              "          if (!dataTable) return;\n",
              "\n",
              "          const docLinkHtml = 'Like what you see? Visit the ' +\n",
              "            '<a target=\"_blank\" href=https://colab.research.google.com/notebooks/data_table.ipynb>data table notebook</a>'\n",
              "            + ' to learn more about interactive tables.';\n",
              "          element.innerHTML = '';\n",
              "          dataTable['output_type'] = 'display_data';\n",
              "          await google.colab.output.renderOutput(dataTable, element);\n",
              "          const docLink = document.createElement('div');\n",
              "          docLink.innerHTML = docLinkHtml;\n",
              "          element.appendChild(docLink);\n",
              "        }\n",
              "      </script>\n",
              "    </div>\n",
              "  </div>\n",
              "  "
            ]
          },
          "metadata": {},
          "execution_count": 3
        }
      ],
      "source": [
        "# bring in our 'county_ed' dataset\n",
        "url = 'https://raw.githubusercontent.com/joshstruggles/Local-Area-Unemployment-Statistics-California/main/data/county_ed.csv'\n",
        "df1 = pd.read_csv(url)\n",
        "df1.head()"
      ]
    },
    {
      "cell_type": "code",
      "execution_count": 4,
      "metadata": {
        "scrolled": true,
        "id": "0HB1IJgexUg2",
        "outputId": "5b935d6e-5cec-4759-c0a2-472526687998",
        "colab": {
          "base_uri": "https://localhost:8080/",
          "height": 206
        }
      },
      "outputs": [
        {
          "output_type": "execute_result",
          "data": {
            "text/plain": [
              "         County  High School Grad  4 Year College Degree  \\\n",
              "38       Fresno              77.9                   22.6   \n",
              "32     Monterey              73.0                   26.5   \n",
              "42         Kern              75.9                   17.6   \n",
              "49       Tulare              72.6                   15.2   \n",
              "46  San Joaquin              80.3                   19.5   \n",
              "\n",
              "    Highest Unemployment Rate  Highest UR was during Pandemic  \\\n",
              "38                       19.0                               0   \n",
              "32                       20.1                               0   \n",
              "42                       18.6                               1   \n",
              "49                       24.6                               0   \n",
              "46                       18.3                               0   \n",
              "\n",
              "    2017 Census of Agriculture Rank(Crops)  \n",
              "38                                       1  \n",
              "32                                       2  \n",
              "42                                       3  \n",
              "49                                       4  \n",
              "46                                       5  "
            ],
            "text/html": [
              "\n",
              "  <div id=\"df-2bb0e76c-29d7-40e3-8efb-9ba615112243\">\n",
              "    <div class=\"colab-df-container\">\n",
              "      <div>\n",
              "<style scoped>\n",
              "    .dataframe tbody tr th:only-of-type {\n",
              "        vertical-align: middle;\n",
              "    }\n",
              "\n",
              "    .dataframe tbody tr th {\n",
              "        vertical-align: top;\n",
              "    }\n",
              "\n",
              "    .dataframe thead th {\n",
              "        text-align: right;\n",
              "    }\n",
              "</style>\n",
              "<table border=\"1\" class=\"dataframe\">\n",
              "  <thead>\n",
              "    <tr style=\"text-align: right;\">\n",
              "      <th></th>\n",
              "      <th>County</th>\n",
              "      <th>High School Grad</th>\n",
              "      <th>4 Year College Degree</th>\n",
              "      <th>Highest Unemployment Rate</th>\n",
              "      <th>Highest UR was during Pandemic</th>\n",
              "      <th>2017 Census of Agriculture Rank(Crops)</th>\n",
              "    </tr>\n",
              "  </thead>\n",
              "  <tbody>\n",
              "    <tr>\n",
              "      <th>38</th>\n",
              "      <td>Fresno</td>\n",
              "      <td>77.9</td>\n",
              "      <td>22.6</td>\n",
              "      <td>19.0</td>\n",
              "      <td>0</td>\n",
              "      <td>1</td>\n",
              "    </tr>\n",
              "    <tr>\n",
              "      <th>32</th>\n",
              "      <td>Monterey</td>\n",
              "      <td>73.0</td>\n",
              "      <td>26.5</td>\n",
              "      <td>20.1</td>\n",
              "      <td>0</td>\n",
              "      <td>2</td>\n",
              "    </tr>\n",
              "    <tr>\n",
              "      <th>42</th>\n",
              "      <td>Kern</td>\n",
              "      <td>75.9</td>\n",
              "      <td>17.6</td>\n",
              "      <td>18.6</td>\n",
              "      <td>1</td>\n",
              "      <td>3</td>\n",
              "    </tr>\n",
              "    <tr>\n",
              "      <th>49</th>\n",
              "      <td>Tulare</td>\n",
              "      <td>72.6</td>\n",
              "      <td>15.2</td>\n",
              "      <td>24.6</td>\n",
              "      <td>0</td>\n",
              "      <td>4</td>\n",
              "    </tr>\n",
              "    <tr>\n",
              "      <th>46</th>\n",
              "      <td>San Joaquin</td>\n",
              "      <td>80.3</td>\n",
              "      <td>19.5</td>\n",
              "      <td>18.3</td>\n",
              "      <td>0</td>\n",
              "      <td>5</td>\n",
              "    </tr>\n",
              "  </tbody>\n",
              "</table>\n",
              "</div>\n",
              "      <button class=\"colab-df-convert\" onclick=\"convertToInteractive('df-2bb0e76c-29d7-40e3-8efb-9ba615112243')\"\n",
              "              title=\"Convert this dataframe to an interactive table.\"\n",
              "              style=\"display:none;\">\n",
              "        \n",
              "  <svg xmlns=\"http://www.w3.org/2000/svg\" height=\"24px\"viewBox=\"0 0 24 24\"\n",
              "       width=\"24px\">\n",
              "    <path d=\"M0 0h24v24H0V0z\" fill=\"none\"/>\n",
              "    <path d=\"M18.56 5.44l.94 2.06.94-2.06 2.06-.94-2.06-.94-.94-2.06-.94 2.06-2.06.94zm-11 1L8.5 8.5l.94-2.06 2.06-.94-2.06-.94L8.5 2.5l-.94 2.06-2.06.94zm10 10l.94 2.06.94-2.06 2.06-.94-2.06-.94-.94-2.06-.94 2.06-2.06.94z\"/><path d=\"M17.41 7.96l-1.37-1.37c-.4-.4-.92-.59-1.43-.59-.52 0-1.04.2-1.43.59L10.3 9.45l-7.72 7.72c-.78.78-.78 2.05 0 2.83L4 21.41c.39.39.9.59 1.41.59.51 0 1.02-.2 1.41-.59l7.78-7.78 2.81-2.81c.8-.78.8-2.07 0-2.86zM5.41 20L4 18.59l7.72-7.72 1.47 1.35L5.41 20z\"/>\n",
              "  </svg>\n",
              "      </button>\n",
              "      \n",
              "  <style>\n",
              "    .colab-df-container {\n",
              "      display:flex;\n",
              "      flex-wrap:wrap;\n",
              "      gap: 12px;\n",
              "    }\n",
              "\n",
              "    .colab-df-convert {\n",
              "      background-color: #E8F0FE;\n",
              "      border: none;\n",
              "      border-radius: 50%;\n",
              "      cursor: pointer;\n",
              "      display: none;\n",
              "      fill: #1967D2;\n",
              "      height: 32px;\n",
              "      padding: 0 0 0 0;\n",
              "      width: 32px;\n",
              "    }\n",
              "\n",
              "    .colab-df-convert:hover {\n",
              "      background-color: #E2EBFA;\n",
              "      box-shadow: 0px 1px 2px rgba(60, 64, 67, 0.3), 0px 1px 3px 1px rgba(60, 64, 67, 0.15);\n",
              "      fill: #174EA6;\n",
              "    }\n",
              "\n",
              "    [theme=dark] .colab-df-convert {\n",
              "      background-color: #3B4455;\n",
              "      fill: #D2E3FC;\n",
              "    }\n",
              "\n",
              "    [theme=dark] .colab-df-convert:hover {\n",
              "      background-color: #434B5C;\n",
              "      box-shadow: 0px 1px 3px 1px rgba(0, 0, 0, 0.15);\n",
              "      filter: drop-shadow(0px 1px 2px rgba(0, 0, 0, 0.3));\n",
              "      fill: #FFFFFF;\n",
              "    }\n",
              "  </style>\n",
              "\n",
              "      <script>\n",
              "        const buttonEl =\n",
              "          document.querySelector('#df-2bb0e76c-29d7-40e3-8efb-9ba615112243 button.colab-df-convert');\n",
              "        buttonEl.style.display =\n",
              "          google.colab.kernel.accessAllowed ? 'block' : 'none';\n",
              "\n",
              "        async function convertToInteractive(key) {\n",
              "          const element = document.querySelector('#df-2bb0e76c-29d7-40e3-8efb-9ba615112243');\n",
              "          const dataTable =\n",
              "            await google.colab.kernel.invokeFunction('convertToInteractive',\n",
              "                                                     [key], {});\n",
              "          if (!dataTable) return;\n",
              "\n",
              "          const docLinkHtml = 'Like what you see? Visit the ' +\n",
              "            '<a target=\"_blank\" href=https://colab.research.google.com/notebooks/data_table.ipynb>data table notebook</a>'\n",
              "            + ' to learn more about interactive tables.';\n",
              "          element.innerHTML = '';\n",
              "          dataTable['output_type'] = 'display_data';\n",
              "          await google.colab.output.renderOutput(dataTable, element);\n",
              "          const docLink = document.createElement('div');\n",
              "          docLink.innerHTML = docLinkHtml;\n",
              "          element.appendChild(docLink);\n",
              "        }\n",
              "      </script>\n",
              "    </div>\n",
              "  </div>\n",
              "  "
            ]
          },
          "metadata": {},
          "execution_count": 4
        }
      ],
      "source": [
        "# Since we are only planning on focusing on the rop 5 producing counties for the scope of this project, call on .head() to\n",
        "# get those 5 counties.\n",
        "df1 = df1.sort_values('2017 Census of Agriculture Rank(Crops)', ascending = True)\n",
        "df1.head()"
      ]
    },
    {
      "cell_type": "code",
      "execution_count": 5,
      "metadata": {
        "id": "52i8YnTFxUg3",
        "outputId": "82e7248a-398e-404d-ae47-e68fb223d515",
        "colab": {
          "base_uri": "https://localhost:8080/",
          "height": 206
        }
      },
      "outputs": [
        {
          "output_type": "execute_result",
          "data": {
            "text/plain": [
              "  month_year                           Area Name  Labor Force  Employment  \\\n",
              "0    1976-04                          California      9692493     8835232   \n",
              "1    1976-04                  Los Angeles County      3362757     3082562   \n",
              "2    1976-04  Los Angeles-Long Beach-Glendale MD      3362757     3082562   \n",
              "3    1976-08                          California     10115963     9196592   \n",
              "4    1976-08                  Los Angeles County      3430133     3114869   \n",
              "\n",
              "   Unemployment  Unemployment Rate  \n",
              "0        857261              0.088  \n",
              "1        280195              0.083  \n",
              "2        280195              0.083  \n",
              "3        919371              0.091  \n",
              "4        315264              0.092  "
            ],
            "text/html": [
              "\n",
              "  <div id=\"df-28186d0e-8bb8-4db8-b0c2-b200aeb9114e\">\n",
              "    <div class=\"colab-df-container\">\n",
              "      <div>\n",
              "<style scoped>\n",
              "    .dataframe tbody tr th:only-of-type {\n",
              "        vertical-align: middle;\n",
              "    }\n",
              "\n",
              "    .dataframe tbody tr th {\n",
              "        vertical-align: top;\n",
              "    }\n",
              "\n",
              "    .dataframe thead th {\n",
              "        text-align: right;\n",
              "    }\n",
              "</style>\n",
              "<table border=\"1\" class=\"dataframe\">\n",
              "  <thead>\n",
              "    <tr style=\"text-align: right;\">\n",
              "      <th></th>\n",
              "      <th>month_year</th>\n",
              "      <th>Area Name</th>\n",
              "      <th>Labor Force</th>\n",
              "      <th>Employment</th>\n",
              "      <th>Unemployment</th>\n",
              "      <th>Unemployment Rate</th>\n",
              "    </tr>\n",
              "  </thead>\n",
              "  <tbody>\n",
              "    <tr>\n",
              "      <th>0</th>\n",
              "      <td>1976-04</td>\n",
              "      <td>California</td>\n",
              "      <td>9692493</td>\n",
              "      <td>8835232</td>\n",
              "      <td>857261</td>\n",
              "      <td>0.088</td>\n",
              "    </tr>\n",
              "    <tr>\n",
              "      <th>1</th>\n",
              "      <td>1976-04</td>\n",
              "      <td>Los Angeles County</td>\n",
              "      <td>3362757</td>\n",
              "      <td>3082562</td>\n",
              "      <td>280195</td>\n",
              "      <td>0.083</td>\n",
              "    </tr>\n",
              "    <tr>\n",
              "      <th>2</th>\n",
              "      <td>1976-04</td>\n",
              "      <td>Los Angeles-Long Beach-Glendale MD</td>\n",
              "      <td>3362757</td>\n",
              "      <td>3082562</td>\n",
              "      <td>280195</td>\n",
              "      <td>0.083</td>\n",
              "    </tr>\n",
              "    <tr>\n",
              "      <th>3</th>\n",
              "      <td>1976-08</td>\n",
              "      <td>California</td>\n",
              "      <td>10115963</td>\n",
              "      <td>9196592</td>\n",
              "      <td>919371</td>\n",
              "      <td>0.091</td>\n",
              "    </tr>\n",
              "    <tr>\n",
              "      <th>4</th>\n",
              "      <td>1976-08</td>\n",
              "      <td>Los Angeles County</td>\n",
              "      <td>3430133</td>\n",
              "      <td>3114869</td>\n",
              "      <td>315264</td>\n",
              "      <td>0.092</td>\n",
              "    </tr>\n",
              "  </tbody>\n",
              "</table>\n",
              "</div>\n",
              "      <button class=\"colab-df-convert\" onclick=\"convertToInteractive('df-28186d0e-8bb8-4db8-b0c2-b200aeb9114e')\"\n",
              "              title=\"Convert this dataframe to an interactive table.\"\n",
              "              style=\"display:none;\">\n",
              "        \n",
              "  <svg xmlns=\"http://www.w3.org/2000/svg\" height=\"24px\"viewBox=\"0 0 24 24\"\n",
              "       width=\"24px\">\n",
              "    <path d=\"M0 0h24v24H0V0z\" fill=\"none\"/>\n",
              "    <path d=\"M18.56 5.44l.94 2.06.94-2.06 2.06-.94-2.06-.94-.94-2.06-.94 2.06-2.06.94zm-11 1L8.5 8.5l.94-2.06 2.06-.94-2.06-.94L8.5 2.5l-.94 2.06-2.06.94zm10 10l.94 2.06.94-2.06 2.06-.94-2.06-.94-.94-2.06-.94 2.06-2.06.94z\"/><path d=\"M17.41 7.96l-1.37-1.37c-.4-.4-.92-.59-1.43-.59-.52 0-1.04.2-1.43.59L10.3 9.45l-7.72 7.72c-.78.78-.78 2.05 0 2.83L4 21.41c.39.39.9.59 1.41.59.51 0 1.02-.2 1.41-.59l7.78-7.78 2.81-2.81c.8-.78.8-2.07 0-2.86zM5.41 20L4 18.59l7.72-7.72 1.47 1.35L5.41 20z\"/>\n",
              "  </svg>\n",
              "      </button>\n",
              "      \n",
              "  <style>\n",
              "    .colab-df-container {\n",
              "      display:flex;\n",
              "      flex-wrap:wrap;\n",
              "      gap: 12px;\n",
              "    }\n",
              "\n",
              "    .colab-df-convert {\n",
              "      background-color: #E8F0FE;\n",
              "      border: none;\n",
              "      border-radius: 50%;\n",
              "      cursor: pointer;\n",
              "      display: none;\n",
              "      fill: #1967D2;\n",
              "      height: 32px;\n",
              "      padding: 0 0 0 0;\n",
              "      width: 32px;\n",
              "    }\n",
              "\n",
              "    .colab-df-convert:hover {\n",
              "      background-color: #E2EBFA;\n",
              "      box-shadow: 0px 1px 2px rgba(60, 64, 67, 0.3), 0px 1px 3px 1px rgba(60, 64, 67, 0.15);\n",
              "      fill: #174EA6;\n",
              "    }\n",
              "\n",
              "    [theme=dark] .colab-df-convert {\n",
              "      background-color: #3B4455;\n",
              "      fill: #D2E3FC;\n",
              "    }\n",
              "\n",
              "    [theme=dark] .colab-df-convert:hover {\n",
              "      background-color: #434B5C;\n",
              "      box-shadow: 0px 1px 3px 1px rgba(0, 0, 0, 0.15);\n",
              "      filter: drop-shadow(0px 1px 2px rgba(0, 0, 0, 0.3));\n",
              "      fill: #FFFFFF;\n",
              "    }\n",
              "  </style>\n",
              "\n",
              "      <script>\n",
              "        const buttonEl =\n",
              "          document.querySelector('#df-28186d0e-8bb8-4db8-b0c2-b200aeb9114e button.colab-df-convert');\n",
              "        buttonEl.style.display =\n",
              "          google.colab.kernel.accessAllowed ? 'block' : 'none';\n",
              "\n",
              "        async function convertToInteractive(key) {\n",
              "          const element = document.querySelector('#df-28186d0e-8bb8-4db8-b0c2-b200aeb9114e');\n",
              "          const dataTable =\n",
              "            await google.colab.kernel.invokeFunction('convertToInteractive',\n",
              "                                                     [key], {});\n",
              "          if (!dataTable) return;\n",
              "\n",
              "          const docLinkHtml = 'Like what you see? Visit the ' +\n",
              "            '<a target=\"_blank\" href=https://colab.research.google.com/notebooks/data_table.ipynb>data table notebook</a>'\n",
              "            + ' to learn more about interactive tables.';\n",
              "          element.innerHTML = '';\n",
              "          dataTable['output_type'] = 'display_data';\n",
              "          await google.colab.output.renderOutput(dataTable, element);\n",
              "          const docLink = document.createElement('div');\n",
              "          docLink.innerHTML = docLinkHtml;\n",
              "          element.appendChild(docLink);\n",
              "        }\n",
              "      </script>\n",
              "    </div>\n",
              "  </div>\n",
              "  "
            ]
          },
          "metadata": {},
          "execution_count": 5
        }
      ],
      "source": [
        "# Bring in the 'counties.csv' dataset from our EDA_notebook. This data will already be pruned and marked in the EDA_notebook\n",
        "url1 = 'https://raw.githubusercontent.com/joshstruggles/Local-Area-Unemployment-Statistics-California/main/data/counties.csv'\n",
        "df = pd.read_csv(url1)\n",
        "df.head()"
      ]
    },
    {
      "cell_type": "code",
      "execution_count": 6,
      "metadata": {
        "id": "ZAVqs5rpxUg3"
      },
      "outputs": [],
      "source": [
        "df.set_index('month_year', inplace = True)"
      ]
    },
    {
      "cell_type": "code",
      "execution_count": 7,
      "metadata": {
        "id": "2U3SYJrgxUg4"
      },
      "outputs": [],
      "source": [
        "# import adfuller\n",
        "from statsmodels.tsa.stattools import adfuller\n",
        "\n",
        "# import diff() function from our work_shown notebook\n",
        "def diff(county):\n",
        "    county = county.sort_index()\n",
        "    county = county.drop(['Area Name',\n",
        "                          'Labor Force',\n",
        "                          'Employment',\n",
        "                          'Unemployment'],\n",
        "                       axis =1)\n",
        "\n",
        "    county_diff = county.diff(periods =1)\n",
        "    county_diff = county_diff.dropna()\n",
        "\n",
        "# Plot county with trends removed\n",
        "    county_diff.plot(figsize = (18,6))\n",
        "    plt.xlabel('Year', fontsize = 18)\n",
        "    plt.ylabel('Unemployment Rate')\n",
        "    plt.title(\"Stationary data\", fontsize = 18);\n",
        "\n",
        "    dftest = adfuller(county_diff)\n",
        "\n",
        "# Display testing data\n",
        "    dfoutput = pd.Series(\n",
        "                dftest[0:4],\n",
        "                index=['Test Statistic',\n",
        "                       'p-value',\n",
        "                       '#Lags Used',\n",
        "                       'Number of Observations Used']\n",
        "    )\n",
        "\n",
        "    for key,value in dftest[4].items():\n",
        "        dfoutput['Critical Value (%s)'%key] = value\n",
        "\n",
        "    display(dfoutput)"
      ]
    },
    {
      "cell_type": "code",
      "execution_count": 8,
      "metadata": {
        "id": "rlWR45i-xUg4"
      },
      "outputs": [],
      "source": [
        "# import adfuller\n",
        "from statsmodels.tsa.stattools import adfuller\n",
        "\n",
        "# import diff() function from our work_shown notebook\n",
        "def diff_unemployment(county):\n",
        "    county = county.sort_index()\n",
        "    county = county.drop(['Area Name',\n",
        "                          'Labor Force',\n",
        "                          'Employment',\n",
        "                          'Unemployment Rate'],\n",
        "                       axis =1)\n",
        "\n",
        "    county_diff = county.diff(periods =1)\n",
        "    county_diff = county_diff.dropna()\n",
        "\n",
        "# Plot county with trends removed\n",
        "    county_diff.plot(figsize = (18,6))\n",
        "    plt.xlabel('Year', fontsize = 18)\n",
        "    plt.ylabel('Unemployment Rate')\n",
        "    plt.title(\"Stationary data\", fontsize = 18);\n",
        "\n",
        "    dftest = adfuller(county_diff)\n",
        "\n",
        "# Display testing data\n",
        "    dfoutput = pd.Series(\n",
        "                dftest[0:4],\n",
        "                index=['Test Statistic',\n",
        "                       'p-value',\n",
        "                       '#Lags Used',\n",
        "                       'Number of Observations Used']\n",
        "    )\n",
        "\n",
        "    for key,value in dftest[4].items():\n",
        "        dfoutput['Critical Value (%s)'%key] = value\n",
        "\n",
        "    display(dfoutput)"
      ]
    },
    {
      "cell_type": "code",
      "execution_count": 9,
      "metadata": {
        "id": "yHkGcdc0xUg5"
      },
      "outputs": [],
      "source": [
        "# Break dataset into county areas using county name minus\n",
        "# the word, 'county' in variable name\n",
        "Los_Angeles = df.loc[df['Area Name'] == 'Los Angeles County']\n",
        "Alameda = df.loc[df['Area Name'] == 'Alameda County']\n",
        "San_Bernardino = df.loc[df['Area Name'] == 'San Bernardino County']\n",
        "Riverside = df.loc[df['Area Name'] == 'Riverside County']\n",
        "Placer = df.loc[df['Area Name'] == 'Placer County']\n",
        "Siskiyou = df.loc[df['Area Name'] == 'Siskiyou County']\n",
        "Madera = df.loc[df['Area Name'] == 'Madera County']\n",
        "El_Dorado = df.loc[df['Area Name'] == 'El Dorado County']\n",
        "Calaveras = df.loc[df['Area Name'] == 'Calaveras County']\n",
        "Sutter = df.loc[df['Area Name'] == 'Sutter County']\n",
        "Colusa = df.loc[df['Area Name'] == 'Colusa County']\n",
        "Butte = df.loc[df['Area Name'] == 'Butte County']\n",
        "Lake = df.loc[df['Area Name'] == 'Lake County']\n",
        "Yuba = df.loc[df['Area Name'] == 'Yuba County']\n",
        "Del_Norte = df.loc[df['Area Name'] == 'Del Norte County']\n",
        "Yolo = df.loc[df['Area Name'] == 'Yolo County']\n",
        "San_Diego = df.loc[df['Area Name'] == 'San Diego County']\n",
        "Humboldt = df.loc[df['Area Name'] == 'Humboldt County']\n",
        "Amador = df.loc[df['Area Name'] == 'Amador County']\n",
        "Glenn = df.loc[df['Area Name'] == 'Glenn County']\n",
        "Mono = df.loc[df['Area Name'] == 'Mono County']\n",
        "Ventura = df.loc[df['Area Name'] == 'Ventura County']\n",
        "Plumas = df.loc[df['Area Name'] == 'Plumas County']\n",
        "Solano = df.loc[df['Area Name'] == 'Solano County']\n",
        "Napa = df.loc[df['Area Name'] == 'Napa County']\n",
        "San_Luis_Obispo = df.loc[df['Area Name'] == 'San Luis Obispo County']\n",
        "Tuolumne = df.loc[df['Area Name'] == 'Tuolumne County']\n",
        "Alpine = df.loc[df['Area Name'] == 'Alpine County']\n",
        "Sierra = df.loc[df['Area Name'] == 'Sierra County']\n",
        "Tehama = df.loc[df['Area Name'] == 'Tehama County']\n",
        "Marin = df.loc[df['Area Name'] == 'Marin County']\n",
        "Trinity = df.loc[df['Area Name'] == 'Trinity County']\n",
        "Monterey = df.loc[df['Area Name'] == 'Monterey County']\n",
        "Orange = df.loc[df['Area Name'] == 'Orange County']\n",
        "San_Francisco = df.loc[df['Area Name'] == 'San Francisco County']\n",
        "Mendocino = df.loc[df['Area Name'] == 'Mendocino County']\n",
        "Santa_Cruz = df.loc[df['Area Name'] == 'Santa Cruz County']\n",
        "Kings = df.loc[df['Area Name'] == 'Kings County']\n",
        "Fresno = df.loc[df['Area Name'] == 'Fresno County']\n",
        "Santa_Barbara = df.loc[df['Area Name'] == 'Santa Barbara County']\n",
        "Shasta = df.loc[df['Area Name'] == 'Shasta County']\n",
        "Sonoma = df.loc[df['Area Name'] == 'Sonoma County']\n",
        "Kern = df.loc[df['Area Name'] == 'Kern County']\n",
        "Modoc = df.loc[df['Area Name'] == 'Modoc County']\n",
        "Sacramento = df.loc[df['Area Name'] == 'Sacramento County']\n",
        "Santa_Clara = df.loc[df['Area Name'] == 'Santa Clara County']\n",
        "San_Joaquin = df.loc[df['Area Name'] == 'San Joaquin County']\n",
        "Nevada = df.loc[df['Area Name'] == 'Nevada County']\n",
        "Mariposa = df.loc[df['Area Name'] == 'Mariposa County']\n",
        "Tulare = df.loc[df['Area Name'] == 'Tulare County']\n",
        "Contra_Costa = df.loc[df['Area Name'] == 'Contra Costa County']\n",
        "Merced = df.loc[df['Area Name'] == 'Merced County']\n",
        "San_Benito = df.loc[df['Area Name'] == 'San Benito County']\n",
        "Lassen = df.loc[df['Area Name'] == 'Lassen County']\n",
        "San_Mateo = df.loc[df['Area Name'] == 'San Mateo County']\n",
        "Stanislaus = df.loc[df['Area Name'] == 'Stanislaus County']\n",
        "Inyo = df.loc[df['Area Name'] == 'Inyo County']\n",
        "Imperial = df.loc[df['Area Name'] == 'Imperial County']"
      ]
    },
    {
      "cell_type": "markdown",
      "metadata": {
        "id": "SKl6EXEExUg6"
      },
      "source": [
        "## __[Fresno County](https://www.nass.usda.gov/Publications/AgCensus/2017/Online_Resources/County_Profiles/California/cp06019.pdf)__ Stationary Data\n",
        "\n",
        "Fresno County, the number one crop producing county in California has services available for migrant and farm workers to receive high school equivalent educations through several programs. One program that I am familiar with is through West Hills College and the __[Migrant High School Equivalency Program](https://westhillscollege.com/lemoore/resources/student-support/high-school-equivalency/)__ as well as college prep course through their __[College Assistance Migrant Program (CAMP)](https://westhillscollege.com/coalinga/resources/student-support/camp/services.php)__. <br>"
      ]
    },
    {
      "cell_type": "code",
      "execution_count": 10,
      "metadata": {
        "id": "vkgGw4QrxUg6",
        "outputId": "73bbb929-1604-45d5-a822-2927502e5147",
        "colab": {
          "base_uri": "https://localhost:8080/",
          "height": 751
        }
      },
      "outputs": [
        {
          "output_type": "display_data",
          "data": {
            "text/plain": [
              "Test Statistic                  -3.851484\n",
              "p-value                          0.002422\n",
              "#Lags Used                      16.000000\n",
              "Number of Observations Used    380.000000\n",
              "Critical Value (1%)             -3.447676\n",
              "Critical Value (5%)             -2.869176\n",
              "Critical Value (10%)            -2.570838\n",
              "dtype: float64"
            ]
          },
          "metadata": {}
        },
        {
          "output_type": "display_data",
          "data": {
            "text/plain": [
              "<Figure size 1800x600 with 1 Axes>"
            ],
            "image/png": "[encoded data removed]"
          },
          "metadata": {}
        }
      ],
      "source": [
        "# call our diff() function on Fresno county data to make stationary\n",
        "Fresno_stationary = diff(Fresno)\n",
        "Fresno_stationary"
      ]
    },
    {
      "cell_type": "code",
      "execution_count": 11,
      "metadata": {
        "id": "OJ-NH-E0xUg7",
        "outputId": "1e071c97-efca-42a9-a455-09221513257e",
        "colab": {
          "base_uri": "https://localhost:8080/",
          "height": 237
        }
      },
      "outputs": [
        {
          "output_type": "execute_result",
          "data": {
            "text/plain": [
              "                Area Name  Labor Force  Employment  Unemployment  \\\n",
              "month_year                                                         \n",
              "2022-10     Fresno County       454600      428400         26100   \n",
              "2022-09     Fresno County       456500      432700         23800   \n",
              "2023-02     Fresno County       466100      427600         38500   \n",
              "2023-01     Fresno County       458500      423800         34600   \n",
              "2023-03     Fresno County       467000      427000         40100   \n",
              "\n",
              "            Unemployment Rate  \n",
              "month_year                     \n",
              "2022-10                 0.058  \n",
              "2022-09                 0.052  \n",
              "2023-02                 0.083  \n",
              "2023-01                 0.076  \n",
              "2023-03                 0.086  "
            ],
            "text/html": [
              "\n",
              "  <div id=\"df-432acba1-47bf-4bb7-a39c-d24c151f8c9d\">\n",
              "    <div class=\"colab-df-container\">\n",
              "      <div>\n",
              "<style scoped>\n",
              "    .dataframe tbody tr th:only-of-type {\n",
              "        vertical-align: middle;\n",
              "    }\n",
              "\n",
              "    .dataframe tbody tr th {\n",
              "        vertical-align: top;\n",
              "    }\n",
              "\n",
              "    .dataframe thead th {\n",
              "        text-align: right;\n",
              "    }\n",
              "</style>\n",
              "<table border=\"1\" class=\"dataframe\">\n",
              "  <thead>\n",
              "    <tr style=\"text-align: right;\">\n",
              "      <th></th>\n",
              "      <th>Area Name</th>\n",
              "      <th>Labor Force</th>\n",
              "      <th>Employment</th>\n",
              "      <th>Unemployment</th>\n",
              "      <th>Unemployment Rate</th>\n",
              "    </tr>\n",
              "    <tr>\n",
              "      <th>month_year</th>\n",
              "      <th></th>\n",
              "      <th></th>\n",
              "      <th></th>\n",
              "      <th></th>\n",
              "      <th></th>\n",
              "    </tr>\n",
              "  </thead>\n",
              "  <tbody>\n",
              "    <tr>\n",
              "      <th>2022-10</th>\n",
              "      <td>Fresno County</td>\n",
              "      <td>454600</td>\n",
              "      <td>428400</td>\n",
              "      <td>26100</td>\n",
              "      <td>0.058</td>\n",
              "    </tr>\n",
              "    <tr>\n",
              "      <th>2022-09</th>\n",
              "      <td>Fresno County</td>\n",
              "      <td>456500</td>\n",
              "      <td>432700</td>\n",
              "      <td>23800</td>\n",
              "      <td>0.052</td>\n",
              "    </tr>\n",
              "    <tr>\n",
              "      <th>2023-02</th>\n",
              "      <td>Fresno County</td>\n",
              "      <td>466100</td>\n",
              "      <td>427600</td>\n",
              "      <td>38500</td>\n",
              "      <td>0.083</td>\n",
              "    </tr>\n",
              "    <tr>\n",
              "      <th>2023-01</th>\n",
              "      <td>Fresno County</td>\n",
              "      <td>458500</td>\n",
              "      <td>423800</td>\n",
              "      <td>34600</td>\n",
              "      <td>0.076</td>\n",
              "    </tr>\n",
              "    <tr>\n",
              "      <th>2023-03</th>\n",
              "      <td>Fresno County</td>\n",
              "      <td>467000</td>\n",
              "      <td>427000</td>\n",
              "      <td>40100</td>\n",
              "      <td>0.086</td>\n",
              "    </tr>\n",
              "  </tbody>\n",
              "</table>\n",
              "</div>\n",
              "      <button class=\"colab-df-convert\" onclick=\"convertToInteractive('df-432acba1-47bf-4bb7-a39c-d24c151f8c9d')\"\n",
              "              title=\"Convert this dataframe to an interactive table.\"\n",
              "              style=\"display:none;\">\n",
              "        \n",
              "  <svg xmlns=\"http://www.w3.org/2000/svg\" height=\"24px\"viewBox=\"0 0 24 24\"\n",
              "       width=\"24px\">\n",
              "    <path d=\"M0 0h24v24H0V0z\" fill=\"none\"/>\n",
              "    <path d=\"M18.56 5.44l.94 2.06.94-2.06 2.06-.94-2.06-.94-.94-2.06-.94 2.06-2.06.94zm-11 1L8.5 8.5l.94-2.06 2.06-.94-2.06-.94L8.5 2.5l-.94 2.06-2.06.94zm10 10l.94 2.06.94-2.06 2.06-.94-2.06-.94-.94-2.06-.94 2.06-2.06.94z\"/><path d=\"M17.41 7.96l-1.37-1.37c-.4-.4-.92-.59-1.43-.59-.52 0-1.04.2-1.43.59L10.3 9.45l-7.72 7.72c-.78.78-.78 2.05 0 2.83L4 21.41c.39.39.9.59 1.41.59.51 0 1.02-.2 1.41-.59l7.78-7.78 2.81-2.81c.8-.78.8-2.07 0-2.86zM5.41 20L4 18.59l7.72-7.72 1.47 1.35L5.41 20z\"/>\n",
              "  </svg>\n",
              "      </button>\n",
              "      \n",
              "  <style>\n",
              "    .colab-df-container {\n",
              "      display:flex;\n",
              "      flex-wrap:wrap;\n",
              "      gap: 12px;\n",
              "    }\n",
              "\n",
              "    .colab-df-convert {\n",
              "      background-color: #E8F0FE;\n",
              "      border: none;\n",
              "      border-radius: 50%;\n",
              "      cursor: pointer;\n",
              "      display: none;\n",
              "      fill: #1967D2;\n",
              "      height: 32px;\n",
              "      padding: 0 0 0 0;\n",
              "      width: 32px;\n",
              "    }\n",
              "\n",
              "    .colab-df-convert:hover {\n",
              "      background-color: #E2EBFA;\n",
              "      box-shadow: 0px 1px 2px rgba(60, 64, 67, 0.3), 0px 1px 3px 1px rgba(60, 64, 67, 0.15);\n",
              "      fill: #174EA6;\n",
              "    }\n",
              "\n",
              "    [theme=dark] .colab-df-convert {\n",
              "      background-color: #3B4455;\n",
              "      fill: #D2E3FC;\n",
              "    }\n",
              "\n",
              "    [theme=dark] .colab-df-convert:hover {\n",
              "      background-color: #434B5C;\n",
              "      box-shadow: 0px 1px 3px 1px rgba(0, 0, 0, 0.15);\n",
              "      filter: drop-shadow(0px 1px 2px rgba(0, 0, 0, 0.3));\n",
              "      fill: #FFFFFF;\n",
              "    }\n",
              "  </style>\n",
              "\n",
              "      <script>\n",
              "        const buttonEl =\n",
              "          document.querySelector('#df-432acba1-47bf-4bb7-a39c-d24c151f8c9d button.colab-df-convert');\n",
              "        buttonEl.style.display =\n",
              "          google.colab.kernel.accessAllowed ? 'block' : 'none';\n",
              "\n",
              "        async function convertToInteractive(key) {\n",
              "          const element = document.querySelector('#df-432acba1-47bf-4bb7-a39c-d24c151f8c9d');\n",
              "          const dataTable =\n",
              "            await google.colab.kernel.invokeFunction('convertToInteractive',\n",
              "                                                     [key], {});\n",
              "          if (!dataTable) return;\n",
              "\n",
              "          const docLinkHtml = 'Like what you see? Visit the ' +\n",
              "            '<a target=\"_blank\" href=https://colab.research.google.com/notebooks/data_table.ipynb>data table notebook</a>'\n",
              "            + ' to learn more about interactive tables.';\n",
              "          element.innerHTML = '';\n",
              "          dataTable['output_type'] = 'display_data';\n",
              "          await google.colab.output.renderOutput(dataTable, element);\n",
              "          const docLink = document.createElement('div');\n",
              "          docLink.innerHTML = docLinkHtml;\n",
              "          element.appendChild(docLink);\n",
              "        }\n",
              "      </script>\n",
              "    </div>\n",
              "  </div>\n",
              "  "
            ]
          },
          "metadata": {},
          "execution_count": 11
        }
      ],
      "source": [
        "Fresno.tail()"
      ]
    },
    {
      "cell_type": "code",
      "execution_count": 12,
      "metadata": {
        "id": "gdRcOiZexUg7",
        "outputId": "218c5223-ab9c-4852-af3a-74d039a2f1fc",
        "colab": {
          "base_uri": "https://localhost:8080/",
          "height": 237
        }
      },
      "outputs": [
        {
          "output_type": "execute_result",
          "data": {
            "text/plain": [
              "            Unemployment Rate\n",
              "month_year                   \n",
              "1990-04                 0.122\n",
              "1990-08                 0.092\n",
              "1990-12                 0.134\n",
              "1990-02                 0.139\n",
              "1990-01                 0.126"
            ],
            "text/html": [
              "\n",
              "  <div id=\"df-47ce2430-7efd-418b-afe7-b6cb0e3a2c42\">\n",
              "    <div class=\"colab-df-container\">\n",
              "      <div>\n",
              "<style scoped>\n",
              "    .dataframe tbody tr th:only-of-type {\n",
              "        vertical-align: middle;\n",
              "    }\n",
              "\n",
              "    .dataframe tbody tr th {\n",
              "        vertical-align: top;\n",
              "    }\n",
              "\n",
              "    .dataframe thead th {\n",
              "        text-align: right;\n",
              "    }\n",
              "</style>\n",
              "<table border=\"1\" class=\"dataframe\">\n",
              "  <thead>\n",
              "    <tr style=\"text-align: right;\">\n",
              "      <th></th>\n",
              "      <th>Unemployment Rate</th>\n",
              "    </tr>\n",
              "    <tr>\n",
              "      <th>month_year</th>\n",
              "      <th></th>\n",
              "    </tr>\n",
              "  </thead>\n",
              "  <tbody>\n",
              "    <tr>\n",
              "      <th>1990-04</th>\n",
              "      <td>0.122</td>\n",
              "    </tr>\n",
              "    <tr>\n",
              "      <th>1990-08</th>\n",
              "      <td>0.092</td>\n",
              "    </tr>\n",
              "    <tr>\n",
              "      <th>1990-12</th>\n",
              "      <td>0.134</td>\n",
              "    </tr>\n",
              "    <tr>\n",
              "      <th>1990-02</th>\n",
              "      <td>0.139</td>\n",
              "    </tr>\n",
              "    <tr>\n",
              "      <th>1990-01</th>\n",
              "      <td>0.126</td>\n",
              "    </tr>\n",
              "  </tbody>\n",
              "</table>\n",
              "</div>\n",
              "      <button class=\"colab-df-convert\" onclick=\"convertToInteractive('df-47ce2430-7efd-418b-afe7-b6cb0e3a2c42')\"\n",
              "              title=\"Convert this dataframe to an interactive table.\"\n",
              "              style=\"display:none;\">\n",
              "        \n",
              "  <svg xmlns=\"http://www.w3.org/2000/svg\" height=\"24px\"viewBox=\"0 0 24 24\"\n",
              "       width=\"24px\">\n",
              "    <path d=\"M0 0h24v24H0V0z\" fill=\"none\"/>\n",
              "    <path d=\"M18.56 5.44l.94 2.06.94-2.06 2.06-.94-2.06-.94-.94-2.06-.94 2.06-2.06.94zm-11 1L8.5 8.5l.94-2.06 2.06-.94-2.06-.94L8.5 2.5l-.94 2.06-2.06.94zm10 10l.94 2.06.94-2.06 2.06-.94-2.06-.94-.94-2.06-.94 2.06-2.06.94z\"/><path d=\"M17.41 7.96l-1.37-1.37c-.4-.4-.92-.59-1.43-.59-.52 0-1.04.2-1.43.59L10.3 9.45l-7.72 7.72c-.78.78-.78 2.05 0 2.83L4 21.41c.39.39.9.59 1.41.59.51 0 1.02-.2 1.41-.59l7.78-7.78 2.81-2.81c.8-.78.8-2.07 0-2.86zM5.41 20L4 18.59l7.72-7.72 1.47 1.35L5.41 20z\"/>\n",
              "  </svg>\n",
              "      </button>\n",
              "      \n",
              "  <style>\n",
              "    .colab-df-container {\n",
              "      display:flex;\n",
              "      flex-wrap:wrap;\n",
              "      gap: 12px;\n",
              "    }\n",
              "\n",
              "    .colab-df-convert {\n",
              "      background-color: #E8F0FE;\n",
              "      border: none;\n",
              "      border-radius: 50%;\n",
              "      cursor: pointer;\n",
              "      display: none;\n",
              "      fill: #1967D2;\n",
              "      height: 32px;\n",
              "      padding: 0 0 0 0;\n",
              "      width: 32px;\n",
              "    }\n",
              "\n",
              "    .colab-df-convert:hover {\n",
              "      background-color: #E2EBFA;\n",
              "      box-shadow: 0px 1px 2px rgba(60, 64, 67, 0.3), 0px 1px 3px 1px rgba(60, 64, 67, 0.15);\n",
              "      fill: #174EA6;\n",
              "    }\n",
              "\n",
              "    [theme=dark] .colab-df-convert {\n",
              "      background-color: #3B4455;\n",
              "      fill: #D2E3FC;\n",
              "    }\n",
              "\n",
              "    [theme=dark] .colab-df-convert:hover {\n",
              "      background-color: #434B5C;\n",
              "      box-shadow: 0px 1px 3px 1px rgba(0, 0, 0, 0.15);\n",
              "      filter: drop-shadow(0px 1px 2px rgba(0, 0, 0, 0.3));\n",
              "      fill: #FFFFFF;\n",
              "    }\n",
              "  </style>\n",
              "\n",
              "      <script>\n",
              "        const buttonEl =\n",
              "          document.querySelector('#df-47ce2430-7efd-418b-afe7-b6cb0e3a2c42 button.colab-df-convert');\n",
              "        buttonEl.style.display =\n",
              "          google.colab.kernel.accessAllowed ? 'block' : 'none';\n",
              "\n",
              "        async function convertToInteractive(key) {\n",
              "          const element = document.querySelector('#df-47ce2430-7efd-418b-afe7-b6cb0e3a2c42');\n",
              "          const dataTable =\n",
              "            await google.colab.kernel.invokeFunction('convertToInteractive',\n",
              "                                                     [key], {});\n",
              "          if (!dataTable) return;\n",
              "\n",
              "          const docLinkHtml = 'Like what you see? Visit the ' +\n",
              "            '<a target=\"_blank\" href=https://colab.research.google.com/notebooks/data_table.ipynb>data table notebook</a>'\n",
              "            + ' to learn more about interactive tables.';\n",
              "          element.innerHTML = '';\n",
              "          dataTable['output_type'] = 'display_data';\n",
              "          await google.colab.output.renderOutput(dataTable, element);\n",
              "          const docLink = document.createElement('div');\n",
              "          docLink.innerHTML = docLinkHtml;\n",
              "          element.appendChild(docLink);\n",
              "        }\n",
              "      </script>\n",
              "    </div>\n",
              "  </div>\n",
              "  "
            ]
          },
          "metadata": {},
          "execution_count": 12
        }
      ],
      "source": [
        "# Drop columns to prep data for time series analysis\n",
        "Fresno_tsa = Fresno.drop(['Area Name',\n",
        "             'Labor Force',\n",
        "             'Employment',\n",
        "             'Unemployment'], axis =1 )\n",
        "Fresno_tsa.head()"
      ]
    },
    {
      "cell_type": "code",
      "execution_count": 13,
      "metadata": {
        "id": "a4Ib-kTHxUg7"
      },
      "outputs": [],
      "source": [
        "# replicate stationary data\n",
        "Fresno_arma = Fresno_tsa.diff(periods =1)"
      ]
    },
    {
      "cell_type": "code",
      "execution_count": 14,
      "metadata": {
        "id": "pA_RetK8xUg8",
        "outputId": "51b34663-591d-4c36-9d7a-eabfd6642990",
        "colab": {
          "base_uri": "https://localhost:8080/"
        }
      },
      "outputs": [
        {
          "output_type": "execute_result",
          "data": {
            "text/plain": [
              "298"
            ]
          },
          "metadata": {},
          "execution_count": 14
        }
      ],
      "source": [
        "# create cutoff variable for train/test split\n",
        "cutoff = round(Fresno_arma.shape[0] * 0.75)\n",
        "cutoff"
      ]
    },
    {
      "cell_type": "markdown",
      "metadata": {
        "id": "VuFeUjiexUg8"
      },
      "source": [
        "Cell is being used as a holder for the graph function below:\n",
        "\n",
        "xmin, xmax = ax.get_xlim()\n",
        "ax.set_xticks(np.round(np.linspace(xmin, xmax), 2))\n"
      ]
    },
    {
      "cell_type": "code",
      "execution_count": 15,
      "metadata": {
        "id": "muXj3C4XxUg8",
        "outputId": "e9b2ba30-1189-4f13-b761-65a5863aebe9",
        "colab": {
          "base_uri": "https://localhost:8080/",
          "height": 766
        }
      },
      "outputs": [
        {
          "output_type": "display_data",
          "data": {
            "text/plain": [
              "<Figure size 1200x800 with 1 Axes>"
            ],
            "image/png": "[encoded data removed]"
          },
          "metadata": {}
        }
      ],
      "source": [
        "# plot our new split\n",
        "train = Fresno_arma[:cutoff]\n",
        "test = Fresno_arma[cutoff: ]\n",
        "\n",
        "fig, ax = plt.subplots(figsize = (12,8))\n",
        "plt.xticks(fontsize=8, rotation=90)\n",
        "ax.plot(train, label = 'Train')\n",
        "ax.plot(test, label = 'Test')\n",
        "ax.set_title('Fresno County Train/Test Split')\n",
        "ax.set_xticks(range(0,len(Fresno_arma), 12))\n",
        "\n",
        "plt.legend();"
      ]
    },
    {
      "cell_type": "code",
      "execution_count": 16,
      "metadata": {
        "id": "cPgcn_LZxUg9",
        "outputId": "72106f7b-0c02-4435-bfea-4afa21d10c86",
        "colab": {
          "base_uri": "https://localhost:8080/",
          "height": 479
        }
      },
      "outputs": [
        {
          "output_type": "display_data",
          "data": {
            "text/plain": [
              "<Figure size 640x480 with 1 Axes>"
            ],
            "image/png": "[encoded data removed]"
          },
          "metadata": {}
        }
      ],
      "source": [
        "# import acf, pacf and plotting tools\n",
        "from statsmodels.tsa.stattools import acf, pacf\n",
        "from statsmodels.graphics.tsaplots import plot_acf, plot_pacf\n",
        "\n",
        "plot_acf(Fresno_arma.dropna());"
      ]
    },
    {
      "cell_type": "code",
      "execution_count": 17,
      "metadata": {
        "scrolled": true,
        "id": "Qahv3fkZxUg9",
        "outputId": "ade69808-40d3-492c-b59d-60d31aeac9b7",
        "colab": {
          "base_uri": "https://localhost:8080/",
          "height": 479
        }
      },
      "outputs": [
        {
          "output_type": "display_data",
          "data": {
            "text/plain": [
              "<Figure size 640x480 with 1 Axes>"
            ],
            "image/png": "[encoded data removed]"
          },
          "metadata": {}
        }
      ],
      "source": [
        "# plot pacf and get our ar term\n",
        "plot_pacf(Fresno_arma.dropna());"
      ]
    },
    {
      "cell_type": "code",
      "execution_count": 18,
      "metadata": {
        "id": "8xbIGE_oxUg-",
        "outputId": "9178f841-b4e1-46cf-b9c4-b0879759fe3e",
        "colab": {
          "base_uri": "https://localhost:8080/"
        }
      },
      "outputs": [
        {
          "output_type": "stream",
          "name": "stderr",
          "text": [
            "/usr/local/lib/python3.10/dist-packages/statsmodels/tsa/base/tsa_model.py:471: ValueWarning: A date index has been provided, but it has no associated frequency information and so will be ignored when e.g. forecasting.\n",
            "  self._init_dates(dates, freq)\n",
            "/usr/local/lib/python3.10/dist-packages/statsmodels/tsa/base/tsa_model.py:471: ValueWarning: A date index has been provided, but it is not monotonic and so will be ignored when e.g. forecasting.\n",
            "  self._init_dates(dates, freq)\n",
            "/usr/local/lib/python3.10/dist-packages/statsmodels/tsa/base/tsa_model.py:471: ValueWarning: A date index has been provided, but it has no associated frequency information and so will be ignored when e.g. forecasting.\n",
            "  self._init_dates(dates, freq)\n",
            "/usr/local/lib/python3.10/dist-packages/statsmodels/tsa/base/tsa_model.py:471: ValueWarning: A date index has been provided, but it is not monotonic and so will be ignored when e.g. forecasting.\n",
            "  self._init_dates(dates, freq)\n",
            "/usr/local/lib/python3.10/dist-packages/statsmodels/tsa/base/tsa_model.py:471: ValueWarning: A date index has been provided, but it has no associated frequency information and so will be ignored when e.g. forecasting.\n",
            "  self._init_dates(dates, freq)\n",
            "/usr/local/lib/python3.10/dist-packages/statsmodels/tsa/base/tsa_model.py:471: ValueWarning: A date index has been provided, but it is not monotonic and so will be ignored when e.g. forecasting.\n",
            "  self._init_dates(dates, freq)\n"
          ]
        }
      ],
      "source": [
        "# import ARIMA from statsmodels.tsa.arima.model\n",
        "\n",
        "# Let's create our baseline model\n",
        "from statsmodels.tsa.arima.model import ARIMA\n",
        "arma_Fresno = ARIMA(train, order = (0,0,0)).fit()"
      ]
    },
    {
      "cell_type": "code",
      "execution_count": 19,
      "metadata": {
        "id": "ucX5jbtoxUg-",
        "outputId": "9f169fa1-9ba8-482d-fbd6-54b2776b52d8",
        "colab": {
          "base_uri": "https://localhost:8080/"
        }
      },
      "outputs": [
        {
          "output_type": "stream",
          "name": "stdout",
          "text": [
            "                               SARIMAX Results                                \n",
            "==============================================================================\n",
            "Dep. Variable:      Unemployment Rate   No. Observations:                  298\n",
            "Model:                          ARIMA   Log Likelihood                 687.520\n",
            "Date:                Thu, 15 Jun 2023   AIC                          -1371.040\n",
            "Time:                        22:24:55   BIC                          -1363.645\n",
            "Sample:                             0   HQIC                         -1368.080\n",
            "                                - 298                                         \n",
            "Covariance Type:                  opg                                         \n",
            "==============================================================================\n",
            "                 coef    std err          z      P>|z|      [0.025      0.975]\n",
            "------------------------------------------------------------------------------\n",
            "const      -4.204e-05      0.001     -0.030      0.976      -0.003       0.003\n",
            "sigma2         0.0006   5.99e-05      9.531      0.000       0.000       0.001\n",
            "===================================================================================\n",
            "Ljung-Box (L1) (Q):                  55.81   Jarque-Bera (JB):                 7.72\n",
            "Prob(Q):                              0.00   Prob(JB):                         0.02\n",
            "Heteroskedasticity (H):               0.30   Skew:                             0.11\n",
            "Prob(H) (two-sided):                  0.00   Kurtosis:                         2.24\n",
            "===================================================================================\n",
            "\n",
            "Warnings:\n",
            "[1] Covariance matrix calculated using the outer product of gradients (complex-step).\n"
          ]
        }
      ],
      "source": [
        "print(arma_Fresno.summary())"
      ]
    },
    {
      "cell_type": "code",
      "execution_count": 20,
      "metadata": {
        "id": "Q8nh2Kk2xUg_"
      },
      "outputs": [],
      "source": [
        "train = train.dropna()"
      ]
    },
    {
      "cell_type": "code",
      "execution_count": 21,
      "metadata": {
        "id": "Ci_PAB1MxUhA"
      },
      "outputs": [],
      "source": [
        "y_hat = arma_Fresno.predict(type='levels')\n",
        "y_hat = y_hat[1:]"
      ]
    },
    {
      "cell_type": "code",
      "execution_count": 22,
      "metadata": {
        "id": "uwawRuxBxUhA",
        "outputId": "a1c11b91-2dd3-4912-a162-6a466b1890d6",
        "colab": {
          "base_uri": "https://localhost:8080/"
        }
      },
      "outputs": [
        {
          "output_type": "execute_result",
          "data": {
            "text/plain": [
              "0.02390135451243794"
            ]
          },
          "metadata": {},
          "execution_count": 22
        }
      ],
      "source": [
        "# RMSE on our baseline predictor\n",
        "\n",
        "# import mean_squared_error from sklearn.metrics\n",
        "from sklearn.metrics import mean_squared_error\n",
        "\n",
        "\n",
        "np.sqrt(mean_squared_error(train, y_hat))"
      ]
    },
    {
      "cell_type": "markdown",
      "metadata": {
        "id": "DMDhDWIdxUhA"
      },
      "source": [
        "We will need to figure out how to address acf and pacf. Perhaps a gridsearch function with all of the potential values that could improve our AIC score."
      ]
    },
    {
      "cell_type": "markdown",
      "metadata": {
        "id": "YqoH-v5OxUhB"
      },
      "source": [
        "### Gridsearch Function\n",
        "\n",
        "Thank you to Ely and their __[article](https://medium.com/@ely-lin/grid-searching-time-series-models-1214dfa3de60)__ from medium.com for the two functions below. These function as gridsearch functions and will tell us our best model performance."
      ]
    },
    {
      "cell_type": "code",
      "execution_count": 23,
      "metadata": {
        "id": "8Y4RS60XxUhB"
      },
      "outputs": [],
      "source": [
        "def gridsearch(dataset, p_list, d_list, q_list):\n",
        "    # set initial best AIC score at infinity to start lowering it\n",
        "    best_aic=float('inf')\n",
        "    for p in p_list:\n",
        "        for d in d_list:\n",
        "            for q in q_list:\n",
        "                try:\n",
        "                    # fit the model to this set of parameters\n",
        "                    model = ARIMA(dataset, order=(p,d,q)).fit()\n",
        "                    # assign the model's aic attribute to a variable\n",
        "                    aic = model.aic\n",
        "                    # compare it to the previous set\n",
        "                    if aic < best_aic:\n",
        "                        best_aic=aic\n",
        "                        best_order = (p,d,q)\n",
        "                        best_model = model\n",
        "                except:\n",
        "                    continue\n",
        "    return best_aic, best_order, best_model"
      ]
    },
    {
      "cell_type": "code",
      "execution_count": 24,
      "metadata": {
        "id": "ed4PWLmXxUhC"
      },
      "outputs": [],
      "source": [
        "## Uncomment whole cell to run\n",
        "\n",
        "## runs gridsearch on train, will take about 7 minutes\n",
        "\n",
        "# b_aic, b_order, b_model = gridsearch(train,\n",
        "#                                      [0,6,12,18],\n",
        "#                                      [1,2,3,4,5,6],\n",
        "#                                      [0,6,12,18])\n",
        "# print(f'The best AIC score is {b_aic}')\n",
        "# print(f'The best order set is {b_order}')\n",
        "\n",
        "## Expected Output: The best AIC score is -1960.1035756349838\n",
        "## Expected Output: The best order set is (18, 1, 0)"
      ]
    },
    {
      "cell_type": "code",
      "execution_count": 25,
      "metadata": {
        "id": "v9BvU_KKxUhD",
        "outputId": "bc98bfdc-6038-4f27-d85a-3f8477093a3b",
        "colab": {
          "base_uri": "https://localhost:8080/"
        }
      },
      "outputs": [
        {
          "output_type": "stream",
          "name": "stderr",
          "text": [
            "/usr/local/lib/python3.10/dist-packages/statsmodels/tsa/base/tsa_model.py:471: ValueWarning: A date index has been provided, but it has no associated frequency information and so will be ignored when e.g. forecasting.\n",
            "  self._init_dates(dates, freq)\n",
            "/usr/local/lib/python3.10/dist-packages/statsmodels/tsa/base/tsa_model.py:471: ValueWarning: A date index has been provided, but it is not monotonic and so will be ignored when e.g. forecasting.\n",
            "  self._init_dates(dates, freq)\n",
            "/usr/local/lib/python3.10/dist-packages/statsmodels/tsa/base/tsa_model.py:471: ValueWarning: A date index has been provided, but it has no associated frequency information and so will be ignored when e.g. forecasting.\n",
            "  self._init_dates(dates, freq)\n",
            "/usr/local/lib/python3.10/dist-packages/statsmodels/tsa/base/tsa_model.py:471: ValueWarning: A date index has been provided, but it is not monotonic and so will be ignored when e.g. forecasting.\n",
            "  self._init_dates(dates, freq)\n",
            "/usr/local/lib/python3.10/dist-packages/statsmodels/tsa/base/tsa_model.py:471: ValueWarning: A date index has been provided, but it has no associated frequency information and so will be ignored when e.g. forecasting.\n",
            "  self._init_dates(dates, freq)\n",
            "/usr/local/lib/python3.10/dist-packages/statsmodels/tsa/base/tsa_model.py:471: ValueWarning: A date index has been provided, but it is not monotonic and so will be ignored when e.g. forecasting.\n",
            "  self._init_dates(dates, freq)\n",
            "/usr/local/lib/python3.10/dist-packages/statsmodels/base/model.py:604: ConvergenceWarning: Maximum Likelihood optimization failed to converge. Check mle_retvals\n",
            "  warnings.warn(\"Maximum Likelihood optimization failed to \"\n"
          ]
        }
      ],
      "source": [
        "arma_Fresno = ARIMA(train, order = (18,1,0)).fit()"
      ]
    },
    {
      "cell_type": "code",
      "execution_count": 26,
      "metadata": {
        "id": "RZ3LqdGCxUhD",
        "outputId": "3b7981e1-64c5-479e-94a6-0e2cd506494d",
        "colab": {
          "base_uri": "https://localhost:8080/"
        }
      },
      "outputs": [
        {
          "output_type": "stream",
          "name": "stdout",
          "text": [
            "                               SARIMAX Results                                \n",
            "==============================================================================\n",
            "Dep. Variable:      Unemployment Rate   No. Observations:                  297\n",
            "Model:                ARIMA(18, 1, 0)   Log Likelihood                 998.882\n",
            "Date:                Thu, 15 Jun 2023   AIC                          -1959.763\n",
            "Time:                        22:25:05   BIC                          -1889.646\n",
            "Sample:                             0   HQIC                         -1931.690\n",
            "                                - 297                                         \n",
            "Covariance Type:                  opg                                         \n",
            "==============================================================================\n",
            "                 coef    std err          z      P>|z|      [0.025      0.975]\n",
            "------------------------------------------------------------------------------\n",
            "ar.L1         -1.3590      0.055    -24.556      0.000      -1.467      -1.251\n",
            "ar.L2         -1.6687      0.081    -20.526      0.000      -1.828      -1.509\n",
            "ar.L3         -1.7836      0.115    -15.519      0.000      -2.009      -1.558\n",
            "ar.L4         -1.8437      0.168    -10.986      0.000      -2.173      -1.515\n",
            "ar.L5         -1.8198      0.215     -8.455      0.000      -2.242      -1.398\n",
            "ar.L6         -1.9297      0.242     -7.967      0.000      -2.404      -1.455\n",
            "ar.L7         -1.8476      0.281     -6.577      0.000      -2.398      -1.297\n",
            "ar.L8         -1.8575      0.275     -6.755      0.000      -2.396      -1.319\n",
            "ar.L9         -1.8142      0.274     -6.614      0.000      -2.352      -1.277\n",
            "ar.L10        -1.8375      0.271     -6.774      0.000      -2.369      -1.306\n",
            "ar.L11        -1.8342      0.267     -6.866      0.000      -2.358      -1.311\n",
            "ar.L12        -0.9548      0.264     -3.614      0.000      -1.473      -0.437\n",
            "ar.L13        -0.5967      0.256     -2.333      0.020      -1.098      -0.095\n",
            "ar.L14        -0.3295      0.237     -1.388      0.165      -0.795       0.136\n",
            "ar.L15        -0.1634      0.220     -0.743      0.457      -0.594       0.267\n",
            "ar.L16        -0.1035      0.180     -0.574      0.566      -0.456       0.250\n",
            "ar.L17        -0.0776      0.134     -0.580      0.562      -0.340       0.185\n",
            "ar.L18         0.0243      0.079      0.307      0.759      -0.131       0.180\n",
            "sigma2      6.328e-05   4.53e-06     13.976      0.000    5.44e-05    7.22e-05\n",
            "===================================================================================\n",
            "Ljung-Box (L1) (Q):                   0.11   Jarque-Bera (JB):                28.25\n",
            "Prob(Q):                              0.74   Prob(JB):                         0.00\n",
            "Heteroskedasticity (H):               0.66   Skew:                            -0.02\n",
            "Prob(H) (two-sided):                  0.04   Kurtosis:                         4.51\n",
            "===================================================================================\n",
            "\n",
            "Warnings:\n",
            "[1] Covariance matrix calculated using the outer product of gradients (complex-step).\n"
          ]
        }
      ],
      "source": [
        "print(arma_Fresno.summary())"
      ]
    },
    {
      "cell_type": "code",
      "execution_count": 27,
      "metadata": {
        "id": "H7BCvxC3xUhD"
      },
      "outputs": [],
      "source": [
        "# Because there is a drift of 1 we will have to drop nulls\n",
        "train = train.dropna()"
      ]
    },
    {
      "cell_type": "code",
      "execution_count": 28,
      "metadata": {
        "id": "9NNlbFrExUhE",
        "outputId": "cad8422f-48cb-4487-c5ae-e59b220d81d4",
        "colab": {
          "base_uri": "https://localhost:8080/"
        }
      },
      "outputs": [
        {
          "output_type": "execute_result",
          "data": {
            "text/plain": [
              "0.009933621406585177"
            ]
          },
          "metadata": {},
          "execution_count": 28
        }
      ],
      "source": [
        "# RMSE for our new model\n",
        "y_hat = arma_Fresno.predict(typ='levels')\n",
        "np.sqrt(mean_squared_error(train,y_hat))"
      ]
    },
    {
      "cell_type": "code",
      "execution_count": 29,
      "metadata": {
        "id": "XNb0ws0XxUhE",
        "outputId": "fcc16a7e-51d6-431b-caa0-ff41289389e1",
        "colab": {
          "base_uri": "https://localhost:8080/"
        }
      },
      "outputs": [
        {
          "output_type": "stream",
          "name": "stderr",
          "text": [
            "/usr/local/lib/python3.10/dist-packages/statsmodels/tsa/base/tsa_model.py:471: ValueWarning: A date index has been provided, but it has no associated frequency information and so will be ignored when e.g. forecasting.\n",
            "  self._init_dates(dates, freq)\n",
            "/usr/local/lib/python3.10/dist-packages/statsmodels/tsa/base/tsa_model.py:471: ValueWarning: A date index has been provided, but it is not monotonic and so will be ignored when e.g. forecasting.\n",
            "  self._init_dates(dates, freq)\n",
            "/usr/local/lib/python3.10/dist-packages/statsmodels/tsa/base/tsa_model.py:471: ValueWarning: A date index has been provided, but it has no associated frequency information and so will be ignored when e.g. forecasting.\n",
            "  self._init_dates(dates, freq)\n",
            "/usr/local/lib/python3.10/dist-packages/statsmodels/tsa/base/tsa_model.py:471: ValueWarning: A date index has been provided, but it is not monotonic and so will be ignored when e.g. forecasting.\n",
            "  self._init_dates(dates, freq)\n",
            "/usr/local/lib/python3.10/dist-packages/statsmodels/tsa/base/tsa_model.py:471: ValueWarning: A date index has been provided, but it has no associated frequency information and so will be ignored when e.g. forecasting.\n",
            "  self._init_dates(dates, freq)\n",
            "/usr/local/lib/python3.10/dist-packages/statsmodels/tsa/base/tsa_model.py:471: ValueWarning: A date index has been provided, but it is not monotonic and so will be ignored when e.g. forecasting.\n",
            "  self._init_dates(dates, freq)\n"
          ]
        }
      ],
      "source": [
        "# fit same ARIMA parameters to  test set\n",
        "arma_Fresno_test = ARIMA(test, order = (18,1,0)).fit()"
      ]
    },
    {
      "cell_type": "code",
      "execution_count": 30,
      "metadata": {
        "id": "xqCHv0PYxUhF",
        "outputId": "5e739680-eaef-4b7d-d772-3a5ea5a1d4c5",
        "colab": {
          "base_uri": "https://localhost:8080/"
        }
      },
      "outputs": [
        {
          "output_type": "stream",
          "name": "stdout",
          "text": [
            "-489.2174127815889\n"
          ]
        }
      ],
      "source": [
        "# Get aic score for test score\n",
        "print(arma_Fresno_test.aic)"
      ]
    },
    {
      "cell_type": "code",
      "execution_count": 31,
      "metadata": {
        "id": "1SEDtZmkxUhF",
        "outputId": "a018b9c5-cd1b-4da9-efb6-bffeb4a589f9",
        "colab": {
          "base_uri": "https://localhost:8080/"
        }
      },
      "outputs": [
        {
          "output_type": "execute_result",
          "data": {
            "text/plain": [
              "0.01654086775427879"
            ]
          },
          "metadata": {},
          "execution_count": 31
        }
      ],
      "source": [
        "# RMSE score for test data\n",
        "y_hat = arma_Fresno_test.predict(typ='levels')\n",
        "np.sqrt(mean_squared_error(test, y_hat))"
      ]
    },
    {
      "cell_type": "markdown",
      "metadata": {
        "id": "IhQe1zJDxUhF"
      },
      "source": [
        "### Predict Fresno County's incoming unemployment rates\n",
        "\n",
        "Our prophet model did not perform better than our gridsearch model, we will move forward with the gridsearch model and use that to make some predictions on the next year."
      ]
    },
    {
      "cell_type": "code",
      "execution_count": 32,
      "metadata": {
        "id": "La1OvYlTxUhG",
        "outputId": "20665a8c-7558-472f-eddc-db1f16ba0425",
        "colab": {
          "base_uri": "https://localhost:8080/"
        }
      },
      "outputs": [
        {
          "output_type": "stream",
          "name": "stderr",
          "text": [
            "/usr/local/lib/python3.10/dist-packages/statsmodels/tsa/base/tsa_model.py:834: ValueWarning: No supported index is available. Prediction results will be given with an integer index beginning at `start`.\n",
            "  return get_prediction_index(\n"
          ]
        },
        {
          "output_type": "execute_result",
          "data": {
            "text/plain": [
              "297    0.000637\n",
              "298   -0.009120\n",
              "299    0.005261\n",
              "300   -0.016623\n",
              "301    0.006287\n",
              "         ...   \n",
              "404   -0.001702\n",
              "405    0.004765\n",
              "406   -0.007581\n",
              "407    0.001918\n",
              "408   -0.007858\n",
              "Name: predicted_mean, Length: 112, dtype: float64"
            ]
          },
          "metadata": {},
          "execution_count": 32
        }
      ],
      "source": [
        "forecast = arma_Fresno.forecast(112)\n",
        "forecast"
      ]
    },
    {
      "cell_type": "code",
      "execution_count": 33,
      "metadata": {
        "id": "Yqq6-yR2xUhI",
        "outputId": "ace9fa80-357b-44b8-c9e5-29ef3dc47296",
        "colab": {
          "base_uri": "https://localhost:8080/"
        }
      },
      "outputs": [
        {
          "output_type": "execute_result",
          "data": {
            "text/plain": [
              "[297,\n",
              " 298,\n",
              " 299,\n",
              " 300,\n",
              " 301,\n",
              " 302,\n",
              " 303,\n",
              " 304,\n",
              " 305,\n",
              " 306,\n",
              " 307,\n",
              " 308,\n",
              " 309,\n",
              " 310,\n",
              " 311,\n",
              " 312,\n",
              " 313,\n",
              " 314,\n",
              " 315,\n",
              " 316,\n",
              " 317,\n",
              " 318,\n",
              " 319,\n",
              " 320,\n",
              " 321,\n",
              " 322,\n",
              " 323,\n",
              " 324,\n",
              " 325,\n",
              " 326,\n",
              " 327,\n",
              " 328,\n",
              " 329,\n",
              " 330,\n",
              " 331,\n",
              " 332,\n",
              " 333,\n",
              " 334,\n",
              " 335,\n",
              " 336,\n",
              " 337,\n",
              " 338,\n",
              " 339,\n",
              " 340,\n",
              " 341,\n",
              " 342,\n",
              " 343,\n",
              " 344,\n",
              " 345,\n",
              " 346,\n",
              " 347,\n",
              " 348,\n",
              " 349,\n",
              " 350,\n",
              " 351,\n",
              " 352,\n",
              " 353,\n",
              " 354,\n",
              " 355,\n",
              " 356,\n",
              " 357,\n",
              " 358,\n",
              " 359,\n",
              " 360,\n",
              " 361,\n",
              " 362,\n",
              " 363,\n",
              " 364,\n",
              " 365,\n",
              " 366,\n",
              " 367,\n",
              " 368,\n",
              " 369,\n",
              " 370,\n",
              " 371,\n",
              " 372,\n",
              " 373,\n",
              " 374,\n",
              " 375,\n",
              " 376,\n",
              " 377,\n",
              " 378,\n",
              " 379,\n",
              " 380,\n",
              " 381,\n",
              " 382,\n",
              " 383,\n",
              " 384,\n",
              " 385,\n",
              " 386,\n",
              " 387,\n",
              " 388,\n",
              " 389,\n",
              " 390,\n",
              " 391,\n",
              " 392,\n",
              " 393,\n",
              " 394,\n",
              " 395,\n",
              " 396,\n",
              " 397,\n",
              " 398,\n",
              " 399,\n",
              " 400,\n",
              " 401,\n",
              " 402,\n",
              " 403,\n",
              " 404,\n",
              " 405,\n",
              " 406,\n",
              " 407,\n",
              " 408]"
            ]
          },
          "metadata": {},
          "execution_count": 33
        }
      ],
      "source": [
        "forecast.index.tolist()"
      ]
    },
    {
      "cell_type": "code",
      "execution_count": 34,
      "metadata": {
        "id": "LR8vOVMFxUhI",
        "outputId": "5af08d42-4cbc-4887-fa78-d1e02dc9ea79",
        "colab": {
          "base_uri": "https://localhost:8080/"
        }
      },
      "outputs": [
        {
          "output_type": "execute_result",
          "data": {
            "text/plain": [
              "['2014-10',\n",
              " '2014-09',\n",
              " '2015-04',\n",
              " '2015-08',\n",
              " '2015-12',\n",
              " '2015-02',\n",
              " '2015-01',\n",
              " '2015-07',\n",
              " '2015-06',\n",
              " '2015-03',\n",
              " '2015-05',\n",
              " '2015-11',\n",
              " '2015-10',\n",
              " '2015-09',\n",
              " '2016-04',\n",
              " '2016-08',\n",
              " '2016-12',\n",
              " '2016-02',\n",
              " '2016-01',\n",
              " '2016-07',\n",
              " '2016-06',\n",
              " '2016-03',\n",
              " '2016-05',\n",
              " '2016-11',\n",
              " '2016-10',\n",
              " '2016-09',\n",
              " '2017-04',\n",
              " '2017-08',\n",
              " '2017-12',\n",
              " '2017-02',\n",
              " '2017-01',\n",
              " '2017-07',\n",
              " '2017-06',\n",
              " '2017-03',\n",
              " '2017-05',\n",
              " '2017-11',\n",
              " '2017-10',\n",
              " '2017-09',\n",
              " '2018-04',\n",
              " '2018-08',\n",
              " '2018-12',\n",
              " '2018-02',\n",
              " '2018-01',\n",
              " '2018-07',\n",
              " '2018-06',\n",
              " '2018-03',\n",
              " '2018-05',\n",
              " '2018-11',\n",
              " '2018-10',\n",
              " '2018-09',\n",
              " '2019-04',\n",
              " '2019-08',\n",
              " '2019-12',\n",
              " '2019-02',\n",
              " '2019-01',\n",
              " '2019-07',\n",
              " '2019-06',\n",
              " '2019-03',\n",
              " '2019-05',\n",
              " '2019-11',\n",
              " '2019-10',\n",
              " '2019-09',\n",
              " '2020-04',\n",
              " '2020-08',\n",
              " '2020-12',\n",
              " '2020-02',\n",
              " '2020-01',\n",
              " '2020-07',\n",
              " '2020-06',\n",
              " '2020-03',\n",
              " '2020-05',\n",
              " '2020-11',\n",
              " '2020-10',\n",
              " '2020-09',\n",
              " '2021-04',\n",
              " '2021-08',\n",
              " '2021-12',\n",
              " '2021-02',\n",
              " '2021-01',\n",
              " '2021-07',\n",
              " '2021-06',\n",
              " '2021-03',\n",
              " '2021-05',\n",
              " '2021-11',\n",
              " '2021-10',\n",
              " '2021-09',\n",
              " '2022-04',\n",
              " '2022-08',\n",
              " '2022-02',\n",
              " '2022-01',\n",
              " '2022-07',\n",
              " '2022-06',\n",
              " '2022-03',\n",
              " '2022-05',\n",
              " '2022-11',\n",
              " '2022-10',\n",
              " '2022-09',\n",
              " '2023-02',\n",
              " '2023-01',\n",
              " '2023-03']"
            ]
          },
          "metadata": {},
          "execution_count": 34
        }
      ],
      "source": [
        "test.index.tolist()"
      ]
    },
    {
      "cell_type": "code",
      "execution_count": 35,
      "metadata": {
        "id": "gkzBUgGGxUhJ"
      },
      "outputs": [],
      "source": [
        "forecast = pd.DataFrame(forecast)"
      ]
    },
    {
      "cell_type": "code",
      "execution_count": 36,
      "metadata": {
        "id": "p1dwbwBxxUhJ",
        "outputId": "92e4d4a6-9cd1-44c7-8902-8eb66d110dcd",
        "colab": {
          "base_uri": "https://localhost:8080/",
          "height": 206
        }
      },
      "outputs": [
        {
          "output_type": "execute_result",
          "data": {
            "text/plain": [
              "     predicted_mean\n",
              "404       -0.001702\n",
              "405        0.004765\n",
              "406       -0.007581\n",
              "407        0.001918\n",
              "408       -0.007858"
            ],
            "text/html": [
              "\n",
              "  <div id=\"df-767b74ea-0645-4f3a-b484-96c989c43c9e\">\n",
              "    <div class=\"colab-df-container\">\n",
              "      <div>\n",
              "<style scoped>\n",
              "    .dataframe tbody tr th:only-of-type {\n",
              "        vertical-align: middle;\n",
              "    }\n",
              "\n",
              "    .dataframe tbody tr th {\n",
              "        vertical-align: top;\n",
              "    }\n",
              "\n",
              "    .dataframe thead th {\n",
              "        text-align: right;\n",
              "    }\n",
              "</style>\n",
              "<table border=\"1\" class=\"dataframe\">\n",
              "  <thead>\n",
              "    <tr style=\"text-align: right;\">\n",
              "      <th></th>\n",
              "      <th>predicted_mean</th>\n",
              "    </tr>\n",
              "  </thead>\n",
              "  <tbody>\n",
              "    <tr>\n",
              "      <th>404</th>\n",
              "      <td>-0.001702</td>\n",
              "    </tr>\n",
              "    <tr>\n",
              "      <th>405</th>\n",
              "      <td>0.004765</td>\n",
              "    </tr>\n",
              "    <tr>\n",
              "      <th>406</th>\n",
              "      <td>-0.007581</td>\n",
              "    </tr>\n",
              "    <tr>\n",
              "      <th>407</th>\n",
              "      <td>0.001918</td>\n",
              "    </tr>\n",
              "    <tr>\n",
              "      <th>408</th>\n",
              "      <td>-0.007858</td>\n",
              "    </tr>\n",
              "  </tbody>\n",
              "</table>\n",
              "</div>\n",
              "      <button class=\"colab-df-convert\" onclick=\"convertToInteractive('df-767b74ea-0645-4f3a-b484-96c989c43c9e')\"\n",
              "              title=\"Convert this dataframe to an interactive table.\"\n",
              "              style=\"display:none;\">\n",
              "        \n",
              "  <svg xmlns=\"http://www.w3.org/2000/svg\" height=\"24px\"viewBox=\"0 0 24 24\"\n",
              "       width=\"24px\">\n",
              "    <path d=\"M0 0h24v24H0V0z\" fill=\"none\"/>\n",
              "    <path d=\"M18.56 5.44l.94 2.06.94-2.06 2.06-.94-2.06-.94-.94-2.06-.94 2.06-2.06.94zm-11 1L8.5 8.5l.94-2.06 2.06-.94-2.06-.94L8.5 2.5l-.94 2.06-2.06.94zm10 10l.94 2.06.94-2.06 2.06-.94-2.06-.94-.94-2.06-.94 2.06-2.06.94z\"/><path d=\"M17.41 7.96l-1.37-1.37c-.4-.4-.92-.59-1.43-.59-.52 0-1.04.2-1.43.59L10.3 9.45l-7.72 7.72c-.78.78-.78 2.05 0 2.83L4 21.41c.39.39.9.59 1.41.59.51 0 1.02-.2 1.41-.59l7.78-7.78 2.81-2.81c.8-.78.8-2.07 0-2.86zM5.41 20L4 18.59l7.72-7.72 1.47 1.35L5.41 20z\"/>\n",
              "  </svg>\n",
              "      </button>\n",
              "      \n",
              "  <style>\n",
              "    .colab-df-container {\n",
              "      display:flex;\n",
              "      flex-wrap:wrap;\n",
              "      gap: 12px;\n",
              "    }\n",
              "\n",
              "    .colab-df-convert {\n",
              "      background-color: #E8F0FE;\n",
              "      border: none;\n",
              "      border-radius: 50%;\n",
              "      cursor: pointer;\n",
              "      display: none;\n",
              "      fill: #1967D2;\n",
              "      height: 32px;\n",
              "      padding: 0 0 0 0;\n",
              "      width: 32px;\n",
              "    }\n",
              "\n",
              "    .colab-df-convert:hover {\n",
              "      background-color: #E2EBFA;\n",
              "      box-shadow: 0px 1px 2px rgba(60, 64, 67, 0.3), 0px 1px 3px 1px rgba(60, 64, 67, 0.15);\n",
              "      fill: #174EA6;\n",
              "    }\n",
              "\n",
              "    [theme=dark] .colab-df-convert {\n",
              "      background-color: #3B4455;\n",
              "      fill: #D2E3FC;\n",
              "    }\n",
              "\n",
              "    [theme=dark] .colab-df-convert:hover {\n",
              "      background-color: #434B5C;\n",
              "      box-shadow: 0px 1px 3px 1px rgba(0, 0, 0, 0.15);\n",
              "      filter: drop-shadow(0px 1px 2px rgba(0, 0, 0, 0.3));\n",
              "      fill: #FFFFFF;\n",
              "    }\n",
              "  </style>\n",
              "\n",
              "      <script>\n",
              "        const buttonEl =\n",
              "          document.querySelector('#df-767b74ea-0645-4f3a-b484-96c989c43c9e button.colab-df-convert');\n",
              "        buttonEl.style.display =\n",
              "          google.colab.kernel.accessAllowed ? 'block' : 'none';\n",
              "\n",
              "        async function convertToInteractive(key) {\n",
              "          const element = document.querySelector('#df-767b74ea-0645-4f3a-b484-96c989c43c9e');\n",
              "          const dataTable =\n",
              "            await google.colab.kernel.invokeFunction('convertToInteractive',\n",
              "                                                     [key], {});\n",
              "          if (!dataTable) return;\n",
              "\n",
              "          const docLinkHtml = 'Like what you see? Visit the ' +\n",
              "            '<a target=\"_blank\" href=https://colab.research.google.com/notebooks/data_table.ipynb>data table notebook</a>'\n",
              "            + ' to learn more about interactive tables.';\n",
              "          element.innerHTML = '';\n",
              "          dataTable['output_type'] = 'display_data';\n",
              "          await google.colab.output.renderOutput(dataTable, element);\n",
              "          const docLink = document.createElement('div');\n",
              "          docLink.innerHTML = docLinkHtml;\n",
              "          element.appendChild(docLink);\n",
              "        }\n",
              "      </script>\n",
              "    </div>\n",
              "  </div>\n",
              "  "
            ]
          },
          "metadata": {},
          "execution_count": 36
        }
      ],
      "source": [
        "forecast.tail()"
      ]
    },
    {
      "cell_type": "code",
      "execution_count": 37,
      "metadata": {
        "id": "E-Ej0b5_xUhK",
        "outputId": "dd81a200-15aa-4b9f-94b6-2e648b2fffed",
        "colab": {
          "base_uri": "https://localhost:8080/",
          "height": 423
        }
      },
      "outputs": [
        {
          "output_type": "execute_result",
          "data": {
            "text/plain": [
              "     predicted_mean     Year\n",
              "297        0.000637  2014-10\n",
              "298       -0.009120  2014-09\n",
              "299        0.005261  2015-04\n",
              "300       -0.016623  2015-08\n",
              "301        0.006287  2015-12\n",
              "..              ...      ...\n",
              "404       -0.001702  2023-11\n",
              "405        0.004765  2023-12\n",
              "406       -0.007581  2024-01\n",
              "407        0.001918  2024-02\n",
              "408       -0.007858  2024-03\n",
              "\n",
              "[112 rows x 2 columns]"
            ],
            "text/html": [
              "\n",
              "  <div id=\"df-7228f425-3948-48fa-9270-72aa32073463\">\n",
              "    <div class=\"colab-df-container\">\n",
              "      <div>\n",
              "<style scoped>\n",
              "    .dataframe tbody tr th:only-of-type {\n",
              "        vertical-align: middle;\n",
              "    }\n",
              "\n",
              "    .dataframe tbody tr th {\n",
              "        vertical-align: top;\n",
              "    }\n",
              "\n",
              "    .dataframe thead th {\n",
              "        text-align: right;\n",
              "    }\n",
              "</style>\n",
              "<table border=\"1\" class=\"dataframe\">\n",
              "  <thead>\n",
              "    <tr style=\"text-align: right;\">\n",
              "      <th></th>\n",
              "      <th>predicted_mean</th>\n",
              "      <th>Year</th>\n",
              "    </tr>\n",
              "  </thead>\n",
              "  <tbody>\n",
              "    <tr>\n",
              "      <th>297</th>\n",
              "      <td>0.000637</td>\n",
              "      <td>2014-10</td>\n",
              "    </tr>\n",
              "    <tr>\n",
              "      <th>298</th>\n",
              "      <td>-0.009120</td>\n",
              "      <td>2014-09</td>\n",
              "    </tr>\n",
              "    <tr>\n",
              "      <th>299</th>\n",
              "      <td>0.005261</td>\n",
              "      <td>2015-04</td>\n",
              "    </tr>\n",
              "    <tr>\n",
              "      <th>300</th>\n",
              "      <td>-0.016623</td>\n",
              "      <td>2015-08</td>\n",
              "    </tr>\n",
              "    <tr>\n",
              "      <th>301</th>\n",
              "      <td>0.006287</td>\n",
              "      <td>2015-12</td>\n",
              "    </tr>\n",
              "    <tr>\n",
              "      <th>...</th>\n",
              "      <td>...</td>\n",
              "      <td>...</td>\n",
              "    </tr>\n",
              "    <tr>\n",
              "      <th>404</th>\n",
              "      <td>-0.001702</td>\n",
              "      <td>2023-11</td>\n",
              "    </tr>\n",
              "    <tr>\n",
              "      <th>405</th>\n",
              "      <td>0.004765</td>\n",
              "      <td>2023-12</td>\n",
              "    </tr>\n",
              "    <tr>\n",
              "      <th>406</th>\n",
              "      <td>-0.007581</td>\n",
              "      <td>2024-01</td>\n",
              "    </tr>\n",
              "    <tr>\n",
              "      <th>407</th>\n",
              "      <td>0.001918</td>\n",
              "      <td>2024-02</td>\n",
              "    </tr>\n",
              "    <tr>\n",
              "      <th>408</th>\n",
              "      <td>-0.007858</td>\n",
              "      <td>2024-03</td>\n",
              "    </tr>\n",
              "  </tbody>\n",
              "</table>\n",
              "<p>112 rows × 2 columns</p>\n",
              "</div>\n",
              "      <button class=\"colab-df-convert\" onclick=\"convertToInteractive('df-7228f425-3948-48fa-9270-72aa32073463')\"\n",
              "              title=\"Convert this dataframe to an interactive table.\"\n",
              "              style=\"display:none;\">\n",
              "        \n",
              "  <svg xmlns=\"http://www.w3.org/2000/svg\" height=\"24px\"viewBox=\"0 0 24 24\"\n",
              "       width=\"24px\">\n",
              "    <path d=\"M0 0h24v24H0V0z\" fill=\"none\"/>\n",
              "    <path d=\"M18.56 5.44l.94 2.06.94-2.06 2.06-.94-2.06-.94-.94-2.06-.94 2.06-2.06.94zm-11 1L8.5 8.5l.94-2.06 2.06-.94-2.06-.94L8.5 2.5l-.94 2.06-2.06.94zm10 10l.94 2.06.94-2.06 2.06-.94-2.06-.94-.94-2.06-.94 2.06-2.06.94z\"/><path d=\"M17.41 7.96l-1.37-1.37c-.4-.4-.92-.59-1.43-.59-.52 0-1.04.2-1.43.59L10.3 9.45l-7.72 7.72c-.78.78-.78 2.05 0 2.83L4 21.41c.39.39.9.59 1.41.59.51 0 1.02-.2 1.41-.59l7.78-7.78 2.81-2.81c.8-.78.8-2.07 0-2.86zM5.41 20L4 18.59l7.72-7.72 1.47 1.35L5.41 20z\"/>\n",
              "  </svg>\n",
              "      </button>\n",
              "      \n",
              "  <style>\n",
              "    .colab-df-container {\n",
              "      display:flex;\n",
              "      flex-wrap:wrap;\n",
              "      gap: 12px;\n",
              "    }\n",
              "\n",
              "    .colab-df-convert {\n",
              "      background-color: #E8F0FE;\n",
              "      border: none;\n",
              "      border-radius: 50%;\n",
              "      cursor: pointer;\n",
              "      display: none;\n",
              "      fill: #1967D2;\n",
              "      height: 32px;\n",
              "      padding: 0 0 0 0;\n",
              "      width: 32px;\n",
              "    }\n",
              "\n",
              "    .colab-df-convert:hover {\n",
              "      background-color: #E2EBFA;\n",
              "      box-shadow: 0px 1px 2px rgba(60, 64, 67, 0.3), 0px 1px 3px 1px rgba(60, 64, 67, 0.15);\n",
              "      fill: #174EA6;\n",
              "    }\n",
              "\n",
              "    [theme=dark] .colab-df-convert {\n",
              "      background-color: #3B4455;\n",
              "      fill: #D2E3FC;\n",
              "    }\n",
              "\n",
              "    [theme=dark] .colab-df-convert:hover {\n",
              "      background-color: #434B5C;\n",
              "      box-shadow: 0px 1px 3px 1px rgba(0, 0, 0, 0.15);\n",
              "      filter: drop-shadow(0px 1px 2px rgba(0, 0, 0, 0.3));\n",
              "      fill: #FFFFFF;\n",
              "    }\n",
              "  </style>\n",
              "\n",
              "      <script>\n",
              "        const buttonEl =\n",
              "          document.querySelector('#df-7228f425-3948-48fa-9270-72aa32073463 button.colab-df-convert');\n",
              "        buttonEl.style.display =\n",
              "          google.colab.kernel.accessAllowed ? 'block' : 'none';\n",
              "\n",
              "        async function convertToInteractive(key) {\n",
              "          const element = document.querySelector('#df-7228f425-3948-48fa-9270-72aa32073463');\n",
              "          const dataTable =\n",
              "            await google.colab.kernel.invokeFunction('convertToInteractive',\n",
              "                                                     [key], {});\n",
              "          if (!dataTable) return;\n",
              "\n",
              "          const docLinkHtml = 'Like what you see? Visit the ' +\n",
              "            '<a target=\"_blank\" href=https://colab.research.google.com/notebooks/data_table.ipynb>data table notebook</a>'\n",
              "            + ' to learn more about interactive tables.';\n",
              "          element.innerHTML = '';\n",
              "          dataTable['output_type'] = 'display_data';\n",
              "          await google.colab.output.renderOutput(dataTable, element);\n",
              "          const docLink = document.createElement('div');\n",
              "          docLink.innerHTML = docLinkHtml;\n",
              "          element.appendChild(docLink);\n",
              "        }\n",
              "      </script>\n",
              "    </div>\n",
              "  </div>\n",
              "  "
            ]
          },
          "metadata": {},
          "execution_count": 37
        }
      ],
      "source": [
        "list = ['2014-10',\n",
        " '2014-09',\n",
        " '2015-04',\n",
        " '2015-08',\n",
        " '2015-12',\n",
        " '2015-02',\n",
        " '2015-01',\n",
        " '2015-07',\n",
        " '2015-06',\n",
        " '2015-03',\n",
        " '2015-05',\n",
        " '2015-11',\n",
        " '2015-10',\n",
        " '2015-09',\n",
        " '2016-04',\n",
        " '2016-08',\n",
        " '2016-12',\n",
        " '2016-02',\n",
        " '2016-01',\n",
        " '2016-07',\n",
        " '2016-06',\n",
        " '2016-03',\n",
        " '2016-05',\n",
        " '2016-11',\n",
        " '2016-10',\n",
        " '2016-09',\n",
        " '2017-04',\n",
        " '2017-08',\n",
        " '2017-12',\n",
        " '2017-02',\n",
        " '2017-01',\n",
        " '2017-07',\n",
        " '2017-06',\n",
        " '2017-03',\n",
        " '2017-05',\n",
        " '2017-11',\n",
        " '2017-10',\n",
        " '2017-09',\n",
        " '2018-04',\n",
        " '2018-08',\n",
        " '2018-12',\n",
        " '2018-02',\n",
        " '2018-01',\n",
        " '2018-07',\n",
        " '2018-06',\n",
        " '2018-03',\n",
        " '2018-05',\n",
        " '2018-11',\n",
        " '2018-10',\n",
        " '2018-09',\n",
        " '2019-04',\n",
        " '2019-08',\n",
        " '2019-12',\n",
        " '2019-02',\n",
        " '2019-01',\n",
        " '2019-07',\n",
        " '2019-06',\n",
        " '2019-03',\n",
        " '2019-05',\n",
        " '2019-11',\n",
        " '2019-10',\n",
        " '2019-09',\n",
        " '2020-04',\n",
        " '2020-08',\n",
        " '2020-12',\n",
        " '2020-02',\n",
        " '2020-01',\n",
        " '2020-07',\n",
        " '2020-06',\n",
        " '2020-03',\n",
        " '2020-05',\n",
        " '2020-11',\n",
        " '2020-10',\n",
        " '2020-09',\n",
        " '2021-04',\n",
        " '2021-08',\n",
        " '2021-12',\n",
        " '2021-02',\n",
        " '2021-01',\n",
        " '2021-07',\n",
        " '2021-06',\n",
        " '2021-03',\n",
        " '2021-05',\n",
        " '2021-11',\n",
        " '2021-10',\n",
        " '2021-09',\n",
        " '2022-04',\n",
        " '2022-08',\n",
        " '2022-02',\n",
        " '2022-01',\n",
        " '2022-07',\n",
        " '2022-06',\n",
        " '2022-03',\n",
        " '2022-05',\n",
        " '2022-11',\n",
        " '2022-10',\n",
        " '2022-09',\n",
        " '2023-02',\n",
        " '2023-01',\n",
        " '2023-03',\n",
        "       '2023-04',\n",
        "       '2023-05',\n",
        "       '2023-06',\n",
        "       '2023-07',\n",
        "       '2023-08',\n",
        "       '2023-09',\n",
        "       '2023-10',\n",
        "       '2023-11',\n",
        "       '2023-12',\n",
        "       '2024-01',\n",
        "       '2024-02',\n",
        "       '2024-03'\n",
        "       ]\n",
        "\n",
        "forecast['Year'] = list\n",
        "\n",
        "forecast"
      ]
    },
    {
      "cell_type": "code",
      "execution_count": 38,
      "metadata": {
        "id": "tDGMD4KfxUhL"
      },
      "outputs": [],
      "source": [
        "forecast = forecast.set_index('Year')"
      ]
    },
    {
      "cell_type": "code",
      "execution_count": 39,
      "metadata": {
        "id": "du7YLFCaxUhM",
        "outputId": "8b18c5c1-8805-41bd-fb71-24f4cb335dc8",
        "colab": {
          "base_uri": "https://localhost:8080/",
          "height": 795
        }
      },
      "outputs": [
        {
          "output_type": "display_data",
          "data": {
            "text/plain": [
              "<Figure size 1200x800 with 1 Axes>"
            ],
            "image/png": "[encoded data removed]"
          },
          "metadata": {}
        }
      ],
      "source": [
        "fig, ax = plt.subplots(figsize = (12,8))\n",
        "plt.xticks(fontsize=8, rotation=90)\n",
        "xmin, xmax = ax.get_xlim()\n",
        "ax.set_xticks(np.round(np.linspace(xmin, xmax), 2))\n",
        "# ax.plot(train, label = 'Train')\n",
        "ax.plot(forecast, label = 'Forecast')\n",
        "ax.plot(test, label = 'Test')\n",
        "ax.set_title('Fresno County Unemployment Rate Prediction to 2023')\n",
        "ax.set_xlabel('Year')\n",
        "ax.set_xticks(range(0,len(forecast), 6))\n",
        "ax.legend();"
      ]
    },
    {
      "cell_type": "code",
      "source": [
        "one_year = forecast.reset_index()\n",
        "one_year"
      ],
      "metadata": {
        "colab": {
          "base_uri": "https://localhost:8080/",
          "height": 423
        },
        "id": "DoPDPhg2Jpm-",
        "outputId": "529bc13f-da83-4239-d81b-58f6f5dc5daf"
      },
      "execution_count": 44,
      "outputs": [
        {
          "output_type": "execute_result",
          "data": {
            "text/plain": [
              "        Year  predicted_mean\n",
              "0    2014-10        0.000637\n",
              "1    2014-09       -0.009120\n",
              "2    2015-04        0.005261\n",
              "3    2015-08       -0.016623\n",
              "4    2015-12        0.006287\n",
              "..       ...             ...\n",
              "107  2023-11       -0.001702\n",
              "108  2023-12        0.004765\n",
              "109  2024-01       -0.007581\n",
              "110  2024-02        0.001918\n",
              "111  2024-03       -0.007858\n",
              "\n",
              "[112 rows x 2 columns]"
            ],
            "text/html": [
              "\n",
              "  <div id=\"df-07a27730-ddd6-470c-bdd8-34ac74aa301e\">\n",
              "    <div class=\"colab-df-container\">\n",
              "      <div>\n",
              "<style scoped>\n",
              "    .dataframe tbody tr th:only-of-type {\n",
              "        vertical-align: middle;\n",
              "    }\n",
              "\n",
              "    .dataframe tbody tr th {\n",
              "        vertical-align: top;\n",
              "    }\n",
              "\n",
              "    .dataframe thead th {\n",
              "        text-align: right;\n",
              "    }\n",
              "</style>\n",
              "<table border=\"1\" class=\"dataframe\">\n",
              "  <thead>\n",
              "    <tr style=\"text-align: right;\">\n",
              "      <th></th>\n",
              "      <th>Year</th>\n",
              "      <th>predicted_mean</th>\n",
              "    </tr>\n",
              "  </thead>\n",
              "  <tbody>\n",
              "    <tr>\n",
              "      <th>0</th>\n",
              "      <td>2014-10</td>\n",
              "      <td>0.000637</td>\n",
              "    </tr>\n",
              "    <tr>\n",
              "      <th>1</th>\n",
              "      <td>2014-09</td>\n",
              "      <td>-0.009120</td>\n",
              "    </tr>\n",
              "    <tr>\n",
              "      <th>2</th>\n",
              "      <td>2015-04</td>\n",
              "      <td>0.005261</td>\n",
              "    </tr>\n",
              "    <tr>\n",
              "      <th>3</th>\n",
              "      <td>2015-08</td>\n",
              "      <td>-0.016623</td>\n",
              "    </tr>\n",
              "    <tr>\n",
              "      <th>4</th>\n",
              "      <td>2015-12</td>\n",
              "      <td>0.006287</td>\n",
              "    </tr>\n",
              "    <tr>\n",
              "      <th>...</th>\n",
              "      <td>...</td>\n",
              "      <td>...</td>\n",
              "    </tr>\n",
              "    <tr>\n",
              "      <th>107</th>\n",
              "      <td>2023-11</td>\n",
              "      <td>-0.001702</td>\n",
              "    </tr>\n",
              "    <tr>\n",
              "      <th>108</th>\n",
              "      <td>2023-12</td>\n",
              "      <td>0.004765</td>\n",
              "    </tr>\n",
              "    <tr>\n",
              "      <th>109</th>\n",
              "      <td>2024-01</td>\n",
              "      <td>-0.007581</td>\n",
              "    </tr>\n",
              "    <tr>\n",
              "      <th>110</th>\n",
              "      <td>2024-02</td>\n",
              "      <td>0.001918</td>\n",
              "    </tr>\n",
              "    <tr>\n",
              "      <th>111</th>\n",
              "      <td>2024-03</td>\n",
              "      <td>-0.007858</td>\n",
              "    </tr>\n",
              "  </tbody>\n",
              "</table>\n",
              "<p>112 rows × 2 columns</p>\n",
              "</div>\n",
              "      <button class=\"colab-df-convert\" onclick=\"convertToInteractive('df-07a27730-ddd6-470c-bdd8-34ac74aa301e')\"\n",
              "              title=\"Convert this dataframe to an interactive table.\"\n",
              "              style=\"display:none;\">\n",
              "        \n",
              "  <svg xmlns=\"http://www.w3.org/2000/svg\" height=\"24px\"viewBox=\"0 0 24 24\"\n",
              "       width=\"24px\">\n",
              "    <path d=\"M0 0h24v24H0V0z\" fill=\"none\"/>\n",
              "    <path d=\"M18.56 5.44l.94 2.06.94-2.06 2.06-.94-2.06-.94-.94-2.06-.94 2.06-2.06.94zm-11 1L8.5 8.5l.94-2.06 2.06-.94-2.06-.94L8.5 2.5l-.94 2.06-2.06.94zm10 10l.94 2.06.94-2.06 2.06-.94-2.06-.94-.94-2.06-.94 2.06-2.06.94z\"/><path d=\"M17.41 7.96l-1.37-1.37c-.4-.4-.92-.59-1.43-.59-.52 0-1.04.2-1.43.59L10.3 9.45l-7.72 7.72c-.78.78-.78 2.05 0 2.83L4 21.41c.39.39.9.59 1.41.59.51 0 1.02-.2 1.41-.59l7.78-7.78 2.81-2.81c.8-.78.8-2.07 0-2.86zM5.41 20L4 18.59l7.72-7.72 1.47 1.35L5.41 20z\"/>\n",
              "  </svg>\n",
              "      </button>\n",
              "      \n",
              "  <style>\n",
              "    .colab-df-container {\n",
              "      display:flex;\n",
              "      flex-wrap:wrap;\n",
              "      gap: 12px;\n",
              "    }\n",
              "\n",
              "    .colab-df-convert {\n",
              "      background-color: #E8F0FE;\n",
              "      border: none;\n",
              "      border-radius: 50%;\n",
              "      cursor: pointer;\n",
              "      display: none;\n",
              "      fill: #1967D2;\n",
              "      height: 32px;\n",
              "      padding: 0 0 0 0;\n",
              "      width: 32px;\n",
              "    }\n",
              "\n",
              "    .colab-df-convert:hover {\n",
              "      background-color: #E2EBFA;\n",
              "      box-shadow: 0px 1px 2px rgba(60, 64, 67, 0.3), 0px 1px 3px 1px rgba(60, 64, 67, 0.15);\n",
              "      fill: #174EA6;\n",
              "    }\n",
              "\n",
              "    [theme=dark] .colab-df-convert {\n",
              "      background-color: #3B4455;\n",
              "      fill: #D2E3FC;\n",
              "    }\n",
              "\n",
              "    [theme=dark] .colab-df-convert:hover {\n",
              "      background-color: #434B5C;\n",
              "      box-shadow: 0px 1px 3px 1px rgba(0, 0, 0, 0.15);\n",
              "      filter: drop-shadow(0px 1px 2px rgba(0, 0, 0, 0.3));\n",
              "      fill: #FFFFFF;\n",
              "    }\n",
              "  </style>\n",
              "\n",
              "      <script>\n",
              "        const buttonEl =\n",
              "          document.querySelector('#df-07a27730-ddd6-470c-bdd8-34ac74aa301e button.colab-df-convert');\n",
              "        buttonEl.style.display =\n",
              "          google.colab.kernel.accessAllowed ? 'block' : 'none';\n",
              "\n",
              "        async function convertToInteractive(key) {\n",
              "          const element = document.querySelector('#df-07a27730-ddd6-470c-bdd8-34ac74aa301e');\n",
              "          const dataTable =\n",
              "            await google.colab.kernel.invokeFunction('convertToInteractive',\n",
              "                                                     [key], {});\n",
              "          if (!dataTable) return;\n",
              "\n",
              "          const docLinkHtml = 'Like what you see? Visit the ' +\n",
              "            '<a target=\"_blank\" href=https://colab.research.google.com/notebooks/data_table.ipynb>data table notebook</a>'\n",
              "            + ' to learn more about interactive tables.';\n",
              "          element.innerHTML = '';\n",
              "          dataTable['output_type'] = 'display_data';\n",
              "          await google.colab.output.renderOutput(dataTable, element);\n",
              "          const docLink = document.createElement('div');\n",
              "          docLink.innerHTML = docLinkHtml;\n",
              "          element.appendChild(docLink);\n",
              "        }\n",
              "      </script>\n",
              "    </div>\n",
              "  </div>\n",
              "  "
            ]
          },
          "metadata": {},
          "execution_count": 44
        }
      ]
    },
    {
      "cell_type": "code",
      "source": [
        "one_year = one_year[99:111]\n",
        "one_year"
      ],
      "metadata": {
        "colab": {
          "base_uri": "https://localhost:8080/",
          "height": 425
        },
        "id": "uZf5UgpOLGui",
        "outputId": "0751044e-6e35-497d-e7dc-db5bbb63a857"
      },
      "execution_count": 45,
      "outputs": [
        {
          "output_type": "execute_result",
          "data": {
            "text/plain": [
              "        Year  predicted_mean\n",
              "99   2023-03       -0.008686\n",
              "100  2023-04       -0.001151\n",
              "101  2023-05        0.008308\n",
              "102  2023-06        0.002999\n",
              "103  2023-07       -0.013091\n",
              "104  2023-08       -0.001542\n",
              "105  2023-09        0.014958\n",
              "106  2023-10       -0.014682\n",
              "107  2023-11       -0.001702\n",
              "108  2023-12        0.004765\n",
              "109  2024-01       -0.007581\n",
              "110  2024-02        0.001918"
            ],
            "text/html": [
              "\n",
              "  <div id=\"df-e1610122-3bcf-4557-8ae6-28c4233c4b8a\">\n",
              "    <div class=\"colab-df-container\">\n",
              "      <div>\n",
              "<style scoped>\n",
              "    .dataframe tbody tr th:only-of-type {\n",
              "        vertical-align: middle;\n",
              "    }\n",
              "\n",
              "    .dataframe tbody tr th {\n",
              "        vertical-align: top;\n",
              "    }\n",
              "\n",
              "    .dataframe thead th {\n",
              "        text-align: right;\n",
              "    }\n",
              "</style>\n",
              "<table border=\"1\" class=\"dataframe\">\n",
              "  <thead>\n",
              "    <tr style=\"text-align: right;\">\n",
              "      <th></th>\n",
              "      <th>Year</th>\n",
              "      <th>predicted_mean</th>\n",
              "    </tr>\n",
              "  </thead>\n",
              "  <tbody>\n",
              "    <tr>\n",
              "      <th>99</th>\n",
              "      <td>2023-03</td>\n",
              "      <td>-0.008686</td>\n",
              "    </tr>\n",
              "    <tr>\n",
              "      <th>100</th>\n",
              "      <td>2023-04</td>\n",
              "      <td>-0.001151</td>\n",
              "    </tr>\n",
              "    <tr>\n",
              "      <th>101</th>\n",
              "      <td>2023-05</td>\n",
              "      <td>0.008308</td>\n",
              "    </tr>\n",
              "    <tr>\n",
              "      <th>102</th>\n",
              "      <td>2023-06</td>\n",
              "      <td>0.002999</td>\n",
              "    </tr>\n",
              "    <tr>\n",
              "      <th>103</th>\n",
              "      <td>2023-07</td>\n",
              "      <td>-0.013091</td>\n",
              "    </tr>\n",
              "    <tr>\n",
              "      <th>104</th>\n",
              "      <td>2023-08</td>\n",
              "      <td>-0.001542</td>\n",
              "    </tr>\n",
              "    <tr>\n",
              "      <th>105</th>\n",
              "      <td>2023-09</td>\n",
              "      <td>0.014958</td>\n",
              "    </tr>\n",
              "    <tr>\n",
              "      <th>106</th>\n",
              "      <td>2023-10</td>\n",
              "      <td>-0.014682</td>\n",
              "    </tr>\n",
              "    <tr>\n",
              "      <th>107</th>\n",
              "      <td>2023-11</td>\n",
              "      <td>-0.001702</td>\n",
              "    </tr>\n",
              "    <tr>\n",
              "      <th>108</th>\n",
              "      <td>2023-12</td>\n",
              "      <td>0.004765</td>\n",
              "    </tr>\n",
              "    <tr>\n",
              "      <th>109</th>\n",
              "      <td>2024-01</td>\n",
              "      <td>-0.007581</td>\n",
              "    </tr>\n",
              "    <tr>\n",
              "      <th>110</th>\n",
              "      <td>2024-02</td>\n",
              "      <td>0.001918</td>\n",
              "    </tr>\n",
              "  </tbody>\n",
              "</table>\n",
              "</div>\n",
              "      <button class=\"colab-df-convert\" onclick=\"convertToInteractive('df-e1610122-3bcf-4557-8ae6-28c4233c4b8a')\"\n",
              "              title=\"Convert this dataframe to an interactive table.\"\n",
              "              style=\"display:none;\">\n",
              "        \n",
              "  <svg xmlns=\"http://www.w3.org/2000/svg\" height=\"24px\"viewBox=\"0 0 24 24\"\n",
              "       width=\"24px\">\n",
              "    <path d=\"M0 0h24v24H0V0z\" fill=\"none\"/>\n",
              "    <path d=\"M18.56 5.44l.94 2.06.94-2.06 2.06-.94-2.06-.94-.94-2.06-.94 2.06-2.06.94zm-11 1L8.5 8.5l.94-2.06 2.06-.94-2.06-.94L8.5 2.5l-.94 2.06-2.06.94zm10 10l.94 2.06.94-2.06 2.06-.94-2.06-.94-.94-2.06-.94 2.06-2.06.94z\"/><path d=\"M17.41 7.96l-1.37-1.37c-.4-.4-.92-.59-1.43-.59-.52 0-1.04.2-1.43.59L10.3 9.45l-7.72 7.72c-.78.78-.78 2.05 0 2.83L4 21.41c.39.39.9.59 1.41.59.51 0 1.02-.2 1.41-.59l7.78-7.78 2.81-2.81c.8-.78.8-2.07 0-2.86zM5.41 20L4 18.59l7.72-7.72 1.47 1.35L5.41 20z\"/>\n",
              "  </svg>\n",
              "      </button>\n",
              "      \n",
              "  <style>\n",
              "    .colab-df-container {\n",
              "      display:flex;\n",
              "      flex-wrap:wrap;\n",
              "      gap: 12px;\n",
              "    }\n",
              "\n",
              "    .colab-df-convert {\n",
              "      background-color: #E8F0FE;\n",
              "      border: none;\n",
              "      border-radius: 50%;\n",
              "      cursor: pointer;\n",
              "      display: none;\n",
              "      fill: #1967D2;\n",
              "      height: 32px;\n",
              "      padding: 0 0 0 0;\n",
              "      width: 32px;\n",
              "    }\n",
              "\n",
              "    .colab-df-convert:hover {\n",
              "      background-color: #E2EBFA;\n",
              "      box-shadow: 0px 1px 2px rgba(60, 64, 67, 0.3), 0px 1px 3px 1px rgba(60, 64, 67, 0.15);\n",
              "      fill: #174EA6;\n",
              "    }\n",
              "\n",
              "    [theme=dark] .colab-df-convert {\n",
              "      background-color: #3B4455;\n",
              "      fill: #D2E3FC;\n",
              "    }\n",
              "\n",
              "    [theme=dark] .colab-df-convert:hover {\n",
              "      background-color: #434B5C;\n",
              "      box-shadow: 0px 1px 3px 1px rgba(0, 0, 0, 0.15);\n",
              "      filter: drop-shadow(0px 1px 2px rgba(0, 0, 0, 0.3));\n",
              "      fill: #FFFFFF;\n",
              "    }\n",
              "  </style>\n",
              "\n",
              "      <script>\n",
              "        const buttonEl =\n",
              "          document.querySelector('#df-e1610122-3bcf-4557-8ae6-28c4233c4b8a button.colab-df-convert');\n",
              "        buttonEl.style.display =\n",
              "          google.colab.kernel.accessAllowed ? 'block' : 'none';\n",
              "\n",
              "        async function convertToInteractive(key) {\n",
              "          const element = document.querySelector('#df-e1610122-3bcf-4557-8ae6-28c4233c4b8a');\n",
              "          const dataTable =\n",
              "            await google.colab.kernel.invokeFunction('convertToInteractive',\n",
              "                                                     [key], {});\n",
              "          if (!dataTable) return;\n",
              "\n",
              "          const docLinkHtml = 'Like what you see? Visit the ' +\n",
              "            '<a target=\"_blank\" href=https://colab.research.google.com/notebooks/data_table.ipynb>data table notebook</a>'\n",
              "            + ' to learn more about interactive tables.';\n",
              "          element.innerHTML = '';\n",
              "          dataTable['output_type'] = 'display_data';\n",
              "          await google.colab.output.renderOutput(dataTable, element);\n",
              "          const docLink = document.createElement('div');\n",
              "          docLink.innerHTML = docLinkHtml;\n",
              "          element.appendChild(docLink);\n",
              "        }\n",
              "      </script>\n",
              "    </div>\n",
              "  </div>\n",
              "  "
            ]
          },
          "metadata": {},
          "execution_count": 45
        }
      ]
    },
    {
      "cell_type": "code",
      "source": [
        "one_year = one_year.set_index('Year')"
      ],
      "metadata": {
        "id": "HTvB8ZYuLRTr"
      },
      "execution_count": 47,
      "outputs": []
    },
    {
      "cell_type": "code",
      "source": [
        "fig, ax = plt.subplots(figsize = (12,8))\n",
        "plt.xticks(fontsize=8, rotation=90)\n",
        "xmin, xmax = ax.get_xlim()\n",
        "ax.set_xticks(np.round(np.linspace(xmin, xmax), 2))\n",
        "\n",
        "ax.plot(one_year, label = 'Forecast')\n",
        "\n",
        "ax.set_title('Fresno County One Year Forecast March 2023 to 2024')\n",
        "ax.set_xlabel('Year')\n",
        "ax.set_xticks(range(0,len(one_year), 1))\n",
        "ax.legend();"
      ],
      "metadata": {
        "colab": {
          "base_uri": "https://localhost:8080/",
          "height": 795
        },
        "id": "AXXrNW-fHNpe",
        "outputId": "2f5e9bab-91be-4f29-ac83-6280f4e56df6"
      },
      "execution_count": 49,
      "outputs": [
        {
          "output_type": "display_data",
          "data": {
            "text/plain": [
              "<Figure size 1200x800 with 1 Axes>"
            ],
            "image/png": "[encoded data removed]"
          },
          "metadata": {}
        }
      ]
    },
    {
      "cell_type": "markdown",
      "metadata": {
        "id": "2DK5tGgrxUhM"
      },
      "source": [
        "According to our predictive model (set for 12 months from March 2023) we will see a lower rate of unemployment than we have historically."
      ]
    },
    {
      "cell_type": "markdown",
      "metadata": {
        "id": "LjQvMc48xUhN"
      },
      "source": [
        "### FB Prophet: Fresno\n",
        "\n",
        "Let's try Facebook's Prophet model to see if we can create a better performant model than our Gridsearch Function."
      ]
    },
    {
      "cell_type": "code",
      "execution_count": null,
      "metadata": {
        "id": "IRuBgpmMxUhN"
      },
      "outputs": [],
      "source": [
        "import prophet\n",
        "# import tools for prophet\n",
        "from prophet.plot import plot_plotly, plot_components_plotly\n",
        "from prophet import Prophet"
      ]
    },
    {
      "cell_type": "code",
      "execution_count": null,
      "metadata": {
        "id": "6bduJd0ixUhO"
      },
      "outputs": [],
      "source": [
        "# Call on original 'Fresno' variable and reset_index()\n",
        "fresno = Fresno.copy()\n",
        "Fresno = Fresno.reset_index()"
      ]
    },
    {
      "cell_type": "code",
      "execution_count": null,
      "metadata": {
        "id": "PBud3kHYxUhO"
      },
      "outputs": [],
      "source": [
        "Fresno = Fresno.drop(['Area Name', 'Labor Force', 'Employment',\n",
        "             'Unemployment'], axis =1)"
      ]
    },
    {
      "cell_type": "code",
      "execution_count": null,
      "metadata": {
        "id": "fJFRaAnYxUhP"
      },
      "outputs": [],
      "source": [
        "Fresno.head()"
      ]
    },
    {
      "cell_type": "code",
      "execution_count": null,
      "metadata": {
        "id": "nSTdiWDGxUhP"
      },
      "outputs": [],
      "source": [
        "# Based on documentation, column names are hard coded as 'ds' and 'y'\n",
        "Fresno.columns = ['ds', 'y']"
      ]
    },
    {
      "cell_type": "code",
      "execution_count": null,
      "metadata": {
        "id": "n3TpuUHwxUhQ"
      },
      "outputs": [],
      "source": [
        "Fresno['ds'] = pd.to_datetime(Fresno['ds'])\n",
        "Fresno.tail()"
      ]
    },
    {
      "cell_type": "code",
      "execution_count": null,
      "metadata": {
        "scrolled": true,
        "id": "XMIIxxARxUhR"
      },
      "outputs": [],
      "source": [
        "# plot data, should look fairly familiar\n",
        "Fresno.plot(x='ds', y='y', figsize = (18,6));"
      ]
    },
    {
      "cell_type": "code",
      "execution_count": null,
      "metadata": {
        "id": "_-agbeoNxUhS"
      },
      "outputs": [],
      "source": [
        "len(Fresno)"
      ]
    },
    {
      "cell_type": "code",
      "execution_count": null,
      "metadata": {
        "id": "59YGvW7uxUhT"
      },
      "outputs": [],
      "source": [
        "# call same cutoff block as before\n",
        "cutoff = round(Fresno.shape[0] * 0.75)\n",
        "\n",
        "    # plot our new split\n",
        "train = Fresno[:cutoff]\n",
        "test = Fresno[cutoff: ]"
      ]
    },
    {
      "cell_type": "code",
      "execution_count": null,
      "metadata": {
        "id": "9bXHSXE9xUhU"
      },
      "outputs": [],
      "source": [
        "# fit our prophet onto our training set and make some predictions,\n",
        "# for now we will just make predictions onto full test set to\n",
        "# test score and get RMSE for test set\n",
        "m = Prophet()\n",
        "m.fit(train)\n",
        "future = m.make_future_dataframe(periods = 100, freq = 'M')\n",
        "forecast = m.predict(future)"
      ]
    },
    {
      "cell_type": "code",
      "execution_count": null,
      "metadata": {
        "id": "lXWblcQixUhV"
      },
      "outputs": [],
      "source": [
        "forecast.tail()"
      ]
    },
    {
      "cell_type": "code",
      "execution_count": null,
      "metadata": {
        "id": "8QAGqRZtxUhW"
      },
      "outputs": [],
      "source": [
        "forecast[['ds', 'yhat', 'yhat_lower', 'yhat_upper']].tail()"
      ]
    },
    {
      "cell_type": "code",
      "execution_count": null,
      "metadata": {
        "id": "u2g-p4UlxUhW"
      },
      "outputs": [],
      "source": [
        "test.tail()"
      ]
    },
    {
      "cell_type": "code",
      "execution_count": null,
      "metadata": {
        "id": "hk995Oh8xUhX"
      },
      "outputs": [],
      "source": [
        "# plot our sexy prophet model\n",
        "plot_plotly(m, forecast)"
      ]
    },
    {
      "cell_type": "code",
      "execution_count": null,
      "metadata": {
        "id": "YLL4YkT7xUhY"
      },
      "outputs": [],
      "source": [
        "from statsmodels.tools.eval_measures import rmse"
      ]
    },
    {
      "cell_type": "code",
      "execution_count": null,
      "metadata": {
        "id": "QYd7YU3NxUhZ"
      },
      "outputs": [],
      "source": [
        "predictions = forecast.iloc[cutoff:]['yhat']"
      ]
    },
    {
      "cell_type": "code",
      "execution_count": null,
      "metadata": {
        "id": "yMvIQyEoxUhZ"
      },
      "outputs": [],
      "source": [
        "# Settle the bet, is this a better performant model than the previous one?\n",
        "print(\"Root Mean Squared Error between actual and  predicted values: \",rmse(predictions,test['y']))\n",
        "print(\"Mean Value of Test Dataset:\", test['y'].mean())\n"
      ]
    },
    {
      "cell_type": "markdown",
      "metadata": {
        "id": "hNLeCDVixUha"
      },
      "source": [
        "Though prophet was not able to create a better performant model than our gridsearch function, let's create a function that completes the steps from our prophet model.\n",
        "\n",
        "## FB Prophet Function"
      ]
    },
    {
      "cell_type": "code",
      "execution_count": null,
      "metadata": {
        "id": "Dui6xbK5xUhb"
      },
      "outputs": [],
      "source": [
        "# function to return graph of county's historical unemployment rate and baseline prophet model along with RMSE score\n",
        "def prophet(county):\n",
        "\n",
        "    county = county.reset_index()\n",
        "\n",
        "    county = county.drop(['Area Name', 'Labor Force', 'Employment',\n",
        "             'Unemployment'], axis =1)\n",
        "\n",
        "    county.columns = ['ds', 'y']\n",
        "\n",
        "    county['ds'] = pd.to_datetime(county['ds'])\n",
        "\n",
        "\n",
        "\n",
        "    cutoff = round(county.shape[0] * 0.75)\n",
        "\n",
        "    train = county[:cutoff]\n",
        "    test = county[cutoff: ]\n",
        "\n",
        "    m = Prophet()\n",
        "    m.fit(train)\n",
        "    future = m.make_future_dataframe(periods = 100, freq ='M')\n",
        "    forecast = m.predict(future)\n",
        "\n",
        "    county.plot(x = 'ds', y = 'y', figsize = (18,6))\n",
        "    predictions = forecast.iloc[cutoff:]['yhat']\n",
        "    print(\"Root Mean Squared Error between actual and  predicted values: \",rmse(predictions,test['y']))\n",
        "    print(\"Mean Value of Test Dataset:\", test['y'].mean())\n",
        "    return plot_plotly(m, forecast)\n",
        "    return\n",
        "\n",
        "\n"
      ]
    },
    {
      "cell_type": "code",
      "execution_count": null,
      "metadata": {
        "id": "a_zPdMczxUhb"
      },
      "outputs": [],
      "source": [
        "# function to return graph of county's historical unemployment rate and baseline prophet model along with RMSE score\n",
        "def prophet_unemployment(county):\n",
        "\n",
        "    county = county.reset_index()\n",
        "\n",
        "    county = county.drop(['Area Name', 'Labor Force', 'Employment',\n",
        "             'Unemployment Rate'], axis =1)\n",
        "\n",
        "    county.columns = ['ds', 'y']\n",
        "\n",
        "    county['ds'] = pd.to_datetime(county['ds'])\n",
        "\n",
        "\n",
        "\n",
        "    cutoff = round(county.shape[0] * 0.75)\n",
        "\n",
        "    train = county[:cutoff]\n",
        "    test = county[cutoff: ]\n",
        "\n",
        "    m = Prophet()\n",
        "    m.fit(train)\n",
        "    future = m.make_future_dataframe(periods = 100, freq ='M')\n",
        "    forecast = m.predict(future)\n",
        "\n",
        "    county.plot(x = 'ds', y = 'y', figsize = (18,6))\n",
        "    predictions = forecast.iloc[cutoff:]['yhat']\n",
        "    print(\"Root Mean Squared Error between actual and  predicted values: \",rmse(predictions,test['y']))\n",
        "    print(\"Mean Value of Test Dataset:\", test['y'].mean())\n",
        "    return plot_plotly(m, forecast)\n",
        "    return\n",
        "\n",
        "\n"
      ]
    },
    {
      "cell_type": "markdown",
      "source": [
        "## Function for Recurrent Neural Network"
      ],
      "metadata": {
        "id": "dNULtuQQlSSh"
      }
    },
    {
      "cell_type": "code",
      "source": [
        "# function for RNN\n",
        "def RNN(county):\n",
        "\n",
        "  # make index into datetime\n",
        "  county.index = pd.to_datetime(county.index)\n",
        "\n",
        "  # sort index\n",
        "  county = county.sort_index()\n",
        "\n",
        "  # drop unnecessary columns from county\n",
        "  county = county.drop(['Area Name',\n",
        "                        'Labor Force',\n",
        "                        'Employment',\n",
        "                        'Unemployment'], axis =1)\n",
        "\n",
        "  # create cutoff variable for train/test split\n",
        "  cutoff = round(county.shape[0] * 0.75)\n",
        "  cutoff\n",
        "\n",
        "  # create train/test split\n",
        "  train = county[:cutoff]\n",
        "  test = county[cutoff:]\n",
        "\n",
        "  # call on MinMaxScaler, set on variable scaler\n",
        "  scaler = MinMaxScaler()\n",
        "\n",
        "  # fit scaler onto training data\n",
        "  scaler.fit(train)\n",
        "  scaled_train = scaler.transform(train)\n",
        "  scaled_test = scaler.transform(test)\n",
        "\n",
        "  # predict 12 months into the future\n",
        "  n_input = 12\n",
        "  generator = TimeseriesGenerator(scaled_train,\n",
        "                                  scaled_train,\n",
        "                                  length = n_input,\n",
        "                                  batch_size =1)\n",
        "\n",
        "  # define our model\n",
        "  model = Sequential()\n",
        "  model.add(LSTM(100, activation = 'linear', input_shape=(n_input, n_features)))\n",
        "  model.add(Dense(1))\n",
        "  model.compile(optimizer='adam', loss='mse')\n",
        "\n",
        "  # fit model onto generator\n",
        "  model.fit(generator, epochs = 50)\n",
        "\n",
        "  loss_per_epoch = model.history.history['loss']\n",
        "  plt.plot(range(len(loss_per_epoch)), loss_per_epoch);\n",
        "\n",
        "  test_predictions = []\n",
        "\n",
        "  first_eval_batch = scaled_train[-n_input:]\n",
        "  current_batch = first_eval_batch.reshape((1, n_input, n_features))\n",
        "\n",
        "  for i in range(len(test)):\n",
        "\n",
        "    current_pred = model.predict(current_batch)[0]\n",
        "\n",
        "    test_predictions.append(current_pred)\n",
        "\n",
        "    current_batch = np.append(current_batch[:, 1:, :], [[current_pred]], axis =1)\n",
        "\n",
        "  true_predictions = scaler.inverse_transform(test_predictions)\n",
        "\n",
        "  # plot our model predictions against actual for final 12 months of data available\n",
        "  test['Predictions'] = true_predictions\n",
        "  test.plot(figsize=(14,5));\n",
        "\n",
        "  # get rmse\n",
        "  rmse = sqrt(mean_squared_error(test['Unemployment Rate'], test['Predictions']))\n",
        "  print(rmse)\n",
        "\n",
        "\n"
      ],
      "metadata": {
        "id": "5AVto0mMjACM"
      },
      "execution_count": null,
      "outputs": []
    },
    {
      "cell_type": "markdown",
      "metadata": {
        "id": "JFAW138nxUhc"
      },
      "source": [
        "## Effect on Unemployment\n",
        "\n",
        "The most recent data available regarding __[Fresno County](https://www.nass.usda.gov/Publications/AgCensus/2017/Online_Resources/County_Profiles/California/cp06019.pdf)__'s ag workforce (2017) puts the total number of workers at 8,206. These are split into: <br>\n",
        "- 5,554 male workers\n",
        "- 2,652 female workers\n",
        "- 556 of which are under the age of 35\n",
        "- 4,760 between the ages of 35-64\n",
        "- 2,890 who are 65 or older. <br>\n",
        "\n",
        "Likely not all candidates would make it through the entire educational program for trade schools, in fact according to __[Graduation Rates at American Trade School](https://www.univstats.com/colleges/american-trade-school/graduation-rate/)__ graduation rates of this specific trade school were slightly above 50% <br>\n",
        "\n",
        "Let's take a look at the number of actual unemployed and consider that 25% (a rudimentary estimate) of our total seasonally unemployed workers make it through a trade school and are able to be employed in trades. <br>\n",
        "\n",
        "For the sake of our hypothetical scenario we can consider that 25% of the total population of workers would apply for this program, and if 50% are expected to graduate: <br>\n",
        "\n",
        "- 2051.5 potential students at a 50% anticipated graduation rate\n",
        "    - 1025.75 converted students to active trade school grads"
      ]
    },
    {
      "cell_type": "code",
      "execution_count": null,
      "metadata": {
        "id": "Ako40FBmxUhd"
      },
      "outputs": [],
      "source": [
        "fresno = fresno.sort_index()"
      ]
    },
    {
      "cell_type": "markdown",
      "metadata": {
        "id": "4RBPiqC_xUhe"
      },
      "source": [
        "Historically, February is the month with the highest level of unemployment. September looks to be the month of highest employment. With this in mind, let's take a look at our dataset's historical numbers; which year was February the highest in unemployment rate and the same for September. We could also just take median and do our research on that year. <br>\n",
        "\n",
        "Let's take 2017 (the year that we have # of employed ag/migrant workers figures) and base our effect on unemployment analysis on that."
      ]
    },
    {
      "cell_type": "code",
      "execution_count": null,
      "metadata": {
        "id": "Xte82X7uxUhe"
      },
      "outputs": [],
      "source": [
        "fresno.tail()"
      ]
    },
    {
      "cell_type": "code",
      "execution_count": null,
      "metadata": {
        "id": "H-mOF-1RxUhf"
      },
      "outputs": [],
      "source": [
        "# Our most recent/last entry was 397, March 2023. We are looking for data that is from six years ago (72 months,\n",
        "# 74 if we start from January)\n",
        "fresno_2017 = fresno.iloc[324: 336]"
      ]
    },
    {
      "cell_type": "code",
      "execution_count": null,
      "metadata": {
        "id": "526dxsl2xUhf"
      },
      "outputs": [],
      "source": [
        "fresno_2017"
      ]
    },
    {
      "cell_type": "markdown",
      "metadata": {
        "id": "Jfe-ZLcExUhf"
      },
      "source": [
        "For 2017, February was the highest level of unemployment with September being the lowest. Our proposed school year for Fresno County would be from October to March with the understanding that a large number of ag/migrant workers will still likely be unemployed/underemployed during this time and would potentially be able to take advantage of educational opportunities as they collect unemployment. <br>\n",
        "\n",
        "Let's consider that it may take up to two years (6 months to 1 year of full time education to deployment as previously stated) and take a look at the number of potential ag/migrant workers that would be fully employed and the effect it would potentially have on 2019's data."
      ]
    },
    {
      "cell_type": "code",
      "execution_count": null,
      "metadata": {
        "id": "xT9dG2s6xUhg"
      },
      "outputs": [],
      "source": [
        "fresno_2019 = fresno.iloc[348:360]\n",
        "fresno_2019_ur = fresno_2019.copy()"
      ]
    },
    {
      "cell_type": "code",
      "execution_count": null,
      "metadata": {
        "id": "Qhu8YJVYxUhg"
      },
      "outputs": [],
      "source": [
        "# labor force would be unaffected in this case as we have not actually introduced any new employable members\n",
        "fresno_2019['Employment'] = fresno_2019['Employment'].astype(int) + 1025\n",
        "\n",
        "\n"
      ]
    },
    {
      "cell_type": "code",
      "execution_count": null,
      "metadata": {
        "id": "bpxP0y7WxUhh"
      },
      "outputs": [],
      "source": [
        "fresno_2019['Unemployment'] = fresno_2019['Unemployment'].astype(int) - 1025"
      ]
    },
    {
      "cell_type": "code",
      "execution_count": null,
      "metadata": {
        "id": "6h2WpQnIxUhh"
      },
      "outputs": [],
      "source": [
        "# Unemployment Rate is unemployment/labor force\n",
        "fresno_2019['Unemployment Rate'] = fresno_2019['Unemployment'].astype(int)/fresno_2019['Labor Force'].astype(int)"
      ]
    },
    {
      "cell_type": "code",
      "execution_count": null,
      "metadata": {
        "id": "UGCZEnhSxUhi"
      },
      "outputs": [],
      "source": [
        "fresno_2019"
      ]
    },
    {
      "cell_type": "code",
      "execution_count": null,
      "metadata": {
        "id": "wd3iiUk4xUhi"
      },
      "outputs": [],
      "source": [
        "fresno_2019_ur"
      ]
    },
    {
      "cell_type": "code",
      "execution_count": null,
      "metadata": {
        "id": "8CZY0toQxUhi"
      },
      "outputs": [],
      "source": [
        "fresno_2019['Unemployment Rate Change'] = (fresno_2019_ur['Unemployment Rate'] - fresno_2019['Unemployment Rate'])"
      ]
    },
    {
      "cell_type": "code",
      "execution_count": null,
      "metadata": {
        "id": "oLdjH7OQxUhj"
      },
      "outputs": [],
      "source": [
        "fresno_2019"
      ]
    },
    {
      "cell_type": "markdown",
      "metadata": {
        "id": "baTdxM2UxUhj"
      },
      "source": [
        "Great, we were able to get a record of the effect on unemployment if our educational program were to be implemented in Fresno County!\n",
        "\n",
        "### What industries/trades in Fresno County have the largest growth/opportunity?\n",
        "\n",
        "There appear to be differing opinions on the matter but there is a significant amount of construction work available as Fresno County is still performing work on their high speed rail and construction continues to rise back toward pre-pandemic levels. The educational program that Melissa Montalvo highlights in their article in the Fresno Bee is welding and the construction training program available in Mendota, CA. __['Broken Ladders: Looking for a new job in Fresno? Here’s how you can get free career training'](https://www.fresnobee.com/fresnoland/article261398132.html)__ <br>\n",
        "\n",
        "<img src = 'https://raw.githubusercontent.com/joshstruggles/Local-Area-Unemployment-Statistics-California/main/pics/mendota-city-municipal-website-by-vortal-website-design-entrance.jpg'>\n",
        "\n"
      ]
    },
    {
      "cell_type": "markdown",
      "metadata": {
        "id": "NYEwq5swxUhl"
      },
      "source": [
        "### Function for effect on unemployment rate"
      ]
    },
    {
      "cell_type": "code",
      "execution_count": null,
      "metadata": {
        "id": "pcXftFmdxUhl"
      },
      "outputs": [],
      "source": [
        "# as a note, you will still need to do all of the preprocessing steps for a given county:\n",
        "# find ag/migrant employment numbers and consider how many of these workers would be able to\n",
        "# convert to skilled trade workers, potentially\n",
        "def effect(county, x): # x serves as our numerical value placeholder\n",
        "\n",
        "    # insurance that our index is sorted based on actual time series\n",
        "    county = county.sort_index()\n",
        "    # slice dataframe to only include 2019's data\n",
        "    county_2019 = county.iloc[348:360]\n",
        "    # create new variable copy\n",
        "    county_2019_ur = county_2019.copy()\n",
        "    # simple math for employment numbers, x is an input from our previous preprocessing steps\n",
        "    county_2019['Employment'] = county_2019['Employment'].astype(int) + x\n",
        "    # simple math for unemployment\n",
        "    county_2019['Unemployment'] = county_2019['Unemployment'].astype(int) - x\n",
        "    # divide unemployment by labor force to get our new unemployment rate\n",
        "    county_2019['Unemployment Rate'] = county_2019['Unemployment'].astype(int)/county_2019['Labor Force']\n",
        "    # create new column 'Unemployment Rate Change' to show rate of unemployment change\n",
        "    county_2019['Unemployment Rate Change'] = (county_2019_ur['Unemployment Rate'] - county_2019['Unemployment Rate'])\n",
        "    # return 2019 data\n",
        "    return county_2019"
      ]
    },
    {
      "cell_type": "markdown",
      "metadata": {
        "id": "KYmM6ks9xUhm"
      },
      "source": [
        "## __[Monterey County](https://www.nass.usda.gov/Publications/AgCensus/2017/Online_Resources/County_Profiles/California/cp06053.pdf)__ Stationary Data"
      ]
    },
    {
      "cell_type": "code",
      "execution_count": null,
      "metadata": {
        "scrolled": true,
        "id": "DG3gVXe9xUhm"
      },
      "outputs": [],
      "source": [
        "# call our diff() function on Monterey county data to make stationary\n",
        "Monterey_stationary = diff(Monterey)\n",
        "Monterey_stationary"
      ]
    },
    {
      "cell_type": "code",
      "execution_count": null,
      "metadata": {
        "id": "4S0mJJbIxUhn"
      },
      "outputs": [],
      "source": [
        "county = Monterey.drop(['Area Name',\n",
        "                          'Labor Force',\n",
        "                          'Employment',\n",
        "                          'Unemployment'], axis =1)\n",
        "\n",
        "county = county.diff(periods =1)\n",
        "\n",
        "cutoff = round(county.shape[0] * 0.75)\n",
        "\n",
        "    # plot our new split\n",
        "train = county[:cutoff]\n",
        "test = county[cutoff: ]"
      ]
    },
    {
      "cell_type": "markdown",
      "metadata": {
        "id": "eIYHJofixUhn"
      },
      "source": [
        "### Gridsearch Function Monterey County"
      ]
    },
    {
      "cell_type": "code",
      "execution_count": null,
      "metadata": {
        "id": "bmQeK0rZxUho"
      },
      "outputs": [],
      "source": [
        "# # Uncomment whole cell to run\n",
        "\n",
        "# # runs gridsearch function on training data, takes another 7 minutes\n",
        "\n",
        "# b_aic, b_order, b_model = gridsearch(train,\n",
        "#                                     [0,6,12,18],\n",
        "#                                     [1,2,3,4,5,6],\n",
        "#                                     [0,6,12,18])\n",
        "# print(f'The best AIC score is {b_aic}')\n",
        "# print(f'The best order set is {b_order}')\n",
        "# # Expected output: The best AIC score is -1919.760684917757\n",
        "# # Expected output: The best order set is (18, 1, 0)"
      ]
    },
    {
      "cell_type": "code",
      "execution_count": null,
      "metadata": {
        "id": "jpLIh2HtxUho"
      },
      "outputs": [],
      "source": [
        "arma_Monterey = ARIMA(train, order = (18,1,0)).fit()"
      ]
    },
    {
      "cell_type": "code",
      "execution_count": null,
      "metadata": {
        "id": "WxDOGEY7xUho"
      },
      "outputs": [],
      "source": [
        "print(arma_Monterey.summary())"
      ]
    },
    {
      "cell_type": "code",
      "execution_count": null,
      "metadata": {
        "id": "_qqdUEwjxUhp"
      },
      "outputs": [],
      "source": [
        "train = train.dropna()"
      ]
    },
    {
      "cell_type": "code",
      "execution_count": null,
      "metadata": {
        "id": "wpB3zaARxUhp"
      },
      "outputs": [],
      "source": [
        "y_hat = arma_Monterey.predict(typ='levels')\n",
        "y_hat = y_hat[1:]\n",
        "np.sqrt(mean_squared_error(train, y_hat))"
      ]
    },
    {
      "cell_type": "code",
      "execution_count": null,
      "metadata": {
        "id": "NjpynOjLxUhp"
      },
      "outputs": [],
      "source": [
        "arma_Monterey_test = ARIMA(test, order = (18,1,0)).fit()"
      ]
    },
    {
      "cell_type": "code",
      "execution_count": null,
      "metadata": {
        "id": "XBMFWZyYxUhq"
      },
      "outputs": [],
      "source": [
        "print(arma_Monterey_test.aic)"
      ]
    },
    {
      "cell_type": "code",
      "execution_count": null,
      "metadata": {
        "id": "o07AZDuTxUhq"
      },
      "outputs": [],
      "source": [
        "y_hat = arma_Monterey_test.predict(typ='levels')\n",
        "np.sqrt(mean_squared_error(test, y_hat))"
      ]
    },
    {
      "cell_type": "markdown",
      "metadata": {
        "id": "Ur4HPgX4xUhq"
      },
      "source": [
        "### Predict Monterey County's incoming unemployment rates"
      ]
    },
    {
      "cell_type": "code",
      "execution_count": null,
      "metadata": {
        "id": "6RD-zBCNxUhr"
      },
      "outputs": [],
      "source": [
        "forecast = arma_Monterey.forecast(112)\n",
        "forecast"
      ]
    },
    {
      "cell_type": "code",
      "execution_count": null,
      "metadata": {
        "id": "7GUlf4M7xUhr"
      },
      "outputs": [],
      "source": [
        "forecast.index.tolist()"
      ]
    },
    {
      "cell_type": "code",
      "execution_count": null,
      "metadata": {
        "id": "6KqUilYPxUhs"
      },
      "outputs": [],
      "source": [
        "test.index.tolist()"
      ]
    },
    {
      "cell_type": "code",
      "execution_count": null,
      "metadata": {
        "id": "1-J4Ep-rxUhs"
      },
      "outputs": [],
      "source": [
        "forecast = pd.DataFrame(forecast)"
      ]
    },
    {
      "cell_type": "code",
      "execution_count": null,
      "metadata": {
        "id": "5PsNWIkrxUht"
      },
      "outputs": [],
      "source": [
        "forecast.tail()"
      ]
    },
    {
      "cell_type": "code",
      "execution_count": null,
      "metadata": {
        "id": "wS_LzM2rxUht"
      },
      "outputs": [],
      "source": [
        "forecast['Year'] = list\n",
        "forecast"
      ]
    },
    {
      "cell_type": "code",
      "execution_count": null,
      "metadata": {
        "id": "Rj9qbP0fxUht"
      },
      "outputs": [],
      "source": [
        "forecast = forecast.set_index('Year')"
      ]
    },
    {
      "cell_type": "code",
      "execution_count": null,
      "metadata": {
        "scrolled": true,
        "id": "0SJ4fG0bxUhu"
      },
      "outputs": [],
      "source": [
        "fig, ax = plt.subplots(figsize = (12,8))\n",
        "plt.xticks(fontsize=8, rotation=90)\n",
        "xmin, xmax = ax.get_xlim()\n",
        "ax.set_xticks(np.round(np.linspace(xmin, xmax), 2))\n",
        "# ax.plot(train, label = 'Train')\n",
        "ax.plot(forecast, label = 'Forecast')\n",
        "ax.plot(test, label = 'Test')\n",
        "\n",
        "ax.set_title('Monterey County Prediction to 2024')\n",
        "ax.set_xlabel('Year')\n",
        "ax.set_xticks(range(0,len(forecast), 6))\n",
        "ax.legend();"
      ]
    },
    {
      "cell_type": "markdown",
      "metadata": {
        "id": "IXSyg-X0xUhu"
      },
      "source": [
        "### FB Prophet: Monterey"
      ]
    },
    {
      "cell_type": "code",
      "execution_count": null,
      "metadata": {
        "scrolled": false,
        "id": "bzVlTbpzxUhu"
      },
      "outputs": [],
      "source": [
        "prophet(Monterey)"
      ]
    },
    {
      "cell_type": "markdown",
      "metadata": {
        "id": "6mzs5Kt-xUhv"
      },
      "source": [
        "Unfortunately Prophet does not provide us with a more powerful model."
      ]
    },
    {
      "cell_type": "markdown",
      "metadata": {
        "id": "eWJ0lU61xUhv"
      },
      "source": [
        "### Effect on Unemployment Rate: Monterey County\n",
        "\n",
        "According to our data on __[Monterey County](https://www.nass.usda.gov/Publications/AgCensus/2017/Online_Resources/County_Profiles/California/cp06053.pdf)__'s ag worker data, there are: <br>\n",
        "\n",
        "- 1,356 male workers\n",
        "- 588 female workers\n",
        "- 175 of which are under the age of 35\n",
        "- 1174 between the ages of 35-64\n",
        "- 595 above the age of 65 <br>\n",
        "- total 1,944 workers\n",
        "\n",
        "Again, with consideration that not all of the workforce will take this educational opportunity, we will use the same parameters as on Fresno county's agriculture workforce. <br>\n",
        "\n",
        "So again, with 1,944 total ag workers, with an anticipated 25% taking advantage of an educational opportunity, and a 50% anticipated graduation rate we would have: <br>\n",
        "\n",
        "- 243 new skilled trade workers in 2019"
      ]
    },
    {
      "cell_type": "code",
      "execution_count": null,
      "metadata": {
        "id": "UBUw976txUhw"
      },
      "outputs": [],
      "source": [
        "effect(Monterey, 243)"
      ]
    },
    {
      "cell_type": "markdown",
      "metadata": {
        "id": "FCwSpr8zxUhw"
      },
      "source": [
        "According to a recent article from _Monterey County Weekly_ in their article __[Housing and labor shortages are holding back the Monterey Bay region’s economy](https://www.montereycountyweekly.com/blogs/news_blog/housing-and-labor-shortages-are-holding-back-the-monterey-bay-region-s-economy/article_2b1542f2-fb81-11ed-8042-47ed37dd3160.html)__ published May 25, 2023, the largest growing sector currently is manufacturing but according to Christopher Thornberg of Beacon Economics, at the MBEP’s (Monterey Bay Economic Partnership) 2023 Regional Economic Outlook virtual event, the current housing crisis in Monterey County is not based in unaffordable housing, it is due to lack of housing. <br>\n",
        "\n",
        "Rey Mashayekhi, the author of the article outlines Thornberg's sentiments, that\n",
        "<br>\n",
        "\"The “real worries,” he noted, should be around housing shortages impacting workers in places like California, which are contributing to the “enormous issue” of labor shortages that are hurting businesses. That’s led to California’s declining population and lower net migration pattern in recent years, which have affected the Monterey Bay region’s economy.\"<br>\n",
        "\n",
        "It is suggested that potential candidates take advantage of drywall, plumbing, hvac, or electrical schooling in the Monterey County area.<br>\n",
        "\n",
        "<img src = 'https://raw.githubusercontent.com/joshstruggles/Local-Area-Unemployment-Statistics-California/main/pics/MCH-L-HOUSING-1201.webp'>\n",
        "<p style=\"text-align: center;\">Housing construction in Monterey County from the Monterey Herald</p>"
      ]
    },
    {
      "cell_type": "markdown",
      "metadata": {
        "id": "yDR9_NqLxUhx"
      },
      "source": [
        "## __[Kern County](https://www.nass.usda.gov/Publications/AgCensus/2017/Online_Resources/County_Profiles/California/cp06029.pdf)__ Stationary Data"
      ]
    },
    {
      "cell_type": "code",
      "execution_count": null,
      "metadata": {
        "id": "bXTydDD4xUhx"
      },
      "outputs": [],
      "source": [
        "Kern_stationary = diff(Kern)\n",
        "Kern_stationary"
      ]
    },
    {
      "cell_type": "code",
      "execution_count": null,
      "metadata": {
        "id": "e5CDXEFixUhx"
      },
      "outputs": [],
      "source": [
        "county = Kern.drop(['Area Name',\n",
        "                          'Labor Force',\n",
        "                          'Employment',\n",
        "                          'Unemployment'], axis =1)\n",
        "\n",
        "county = county.diff(periods =1)\n",
        "\n",
        "cutoff = round(county.shape[0] * 0.75)\n",
        "\n",
        "    # plot our new split\n",
        "train = county[:cutoff]\n",
        "test = county[cutoff: ]"
      ]
    },
    {
      "cell_type": "markdown",
      "metadata": {
        "id": "giGui86BxUhy"
      },
      "source": [
        "### Gridsearch Function Kern County"
      ]
    },
    {
      "cell_type": "code",
      "execution_count": null,
      "metadata": {
        "id": "Dv7Ag4xVxUhy"
      },
      "outputs": [],
      "source": [
        "# # Uncomment whole cell to run\n",
        "\n",
        "# # runs gridsearch function on training data, takes another 7 minutes\n",
        "\n",
        "# b_aic, b_order, b_model = gridsearch(train,\n",
        "#                                     [0,6,12,18],\n",
        "#                                     [1,2,3,4,5,6],\n",
        "#                                     [0,6,12,18])\n",
        "# print(f'The best AIC score is {b_aic}')\n",
        "# print(f'The best order set is {b_order}')\n",
        "# # Expected output: The best AIC score is -1926.5166750777462\n",
        "# # Expected output: The best order set is (12, 1, 18)"
      ]
    },
    {
      "cell_type": "code",
      "execution_count": null,
      "metadata": {
        "id": "9l00sASsxUhz"
      },
      "outputs": [],
      "source": [
        "arma_Kern = ARIMA(train, order = (12,1,18)).fit()"
      ]
    },
    {
      "cell_type": "code",
      "execution_count": null,
      "metadata": {
        "id": "6pBckYHjxUhz"
      },
      "outputs": [],
      "source": [
        "print(arma_Kern.summary())"
      ]
    },
    {
      "cell_type": "code",
      "execution_count": null,
      "metadata": {
        "id": "3EI3s4ZaxUh0"
      },
      "outputs": [],
      "source": [
        "train = train.dropna()"
      ]
    },
    {
      "cell_type": "code",
      "execution_count": null,
      "metadata": {
        "id": "jfcG2PH4xUh0"
      },
      "outputs": [],
      "source": [
        "y_hat = arma_Kern.predict(typ = 'levels')\n",
        "y_hat = y_hat[1:]\n",
        "np.sqrt(mean_squared_error(train, y_hat))"
      ]
    },
    {
      "cell_type": "code",
      "execution_count": null,
      "metadata": {
        "id": "3yoAXOV3xUh0"
      },
      "outputs": [],
      "source": [
        "arma_Kern_test = ARIMA(test, order = (12,1,18)).fit()"
      ]
    },
    {
      "cell_type": "code",
      "execution_count": null,
      "metadata": {
        "id": "i6LiLnDixUh1"
      },
      "outputs": [],
      "source": [
        "print(arma_Kern_test.aic)"
      ]
    },
    {
      "cell_type": "code",
      "execution_count": null,
      "metadata": {
        "id": "xl3HlwRUxUh1"
      },
      "outputs": [],
      "source": [
        "y_hat = arma_Kern_test.predict(typ='levels')\n",
        "np.sqrt(mean_squared_error(test, y_hat))"
      ]
    },
    {
      "cell_type": "markdown",
      "metadata": {
        "id": "V5cSlDSExUh2"
      },
      "source": [
        "### Predict Kern County's incoming unemployment rates"
      ]
    },
    {
      "cell_type": "code",
      "execution_count": null,
      "metadata": {
        "id": "FpVgb51VxUh2"
      },
      "outputs": [],
      "source": [
        "forecast = arma_Kern.forecast(112)\n",
        "forecast.index.tolist()\n",
        "test.index.tolist()"
      ]
    },
    {
      "cell_type": "code",
      "execution_count": null,
      "metadata": {
        "id": "3vlb81vDxUh2"
      },
      "outputs": [],
      "source": [
        "forecast = pd.DataFrame(forecast)\n",
        "forecast.tail()"
      ]
    },
    {
      "cell_type": "code",
      "execution_count": null,
      "metadata": {
        "id": "UgUzuadSxUh3"
      },
      "outputs": [],
      "source": [
        "forecast['Year'] = list\n",
        "forecast = forecast.set_index('Year')"
      ]
    },
    {
      "cell_type": "code",
      "execution_count": null,
      "metadata": {
        "scrolled": true,
        "id": "n6MSFZk2xUh3"
      },
      "outputs": [],
      "source": [
        "fig, ax = plt.subplots(figsize = (12,8))\n",
        "plt.xticks(fontsize=8, rotation=90)\n",
        "xmin, xmax = ax.get_xlim()\n",
        "ax.set_xticks(np.round(np.linspace(xmin, xmax), 2))\n",
        "# ax.plot(train, label = 'Train')\n",
        "ax.plot(forecast, label = 'Forecast')\n",
        "ax.plot(test, label = 'Test')\n",
        "\n",
        "ax.set_title('Kern County Prediction to 2024')\n",
        "ax.set_xlabel('Year')\n",
        "ax.set_xticks(range(0,len(forecast), 6))\n",
        "ax.legend();"
      ]
    },
    {
      "cell_type": "markdown",
      "metadata": {
        "id": "rDF1hAsYxUh3"
      },
      "source": [
        "### FB Prophet: Kern County"
      ]
    },
    {
      "cell_type": "code",
      "execution_count": null,
      "metadata": {
        "id": "FzHLj_aGxUh4"
      },
      "outputs": [],
      "source": [
        "prophet(Kern)"
      ]
    },
    {
      "cell_type": "markdown",
      "metadata": {
        "id": "SiFtD810xUh4"
      },
      "source": [
        "### Effect on Unemployment Rate: Kern County\n",
        "\n",
        "__[Kern County](https://www.nass.usda.gov/Publications/AgCensus/2017/Online_Resources/County_Profiles/California/cp06029.pdf)__'s ag worker data shows that in 2017 there were: <br>\n",
        "\n",
        "- 2,162 male workers\n",
        "- 997 female workers\n",
        "- 230 under the age of 35\n",
        "- 1,820 between the ages of 35-64\n",
        "- 1,109 over the age of 65\n",
        "- in total there are 3,159 workers in Kern County <br>\n",
        "\n",
        "We anticipate that somewhere around 394 workers would become skilled trade workers in 2019.\n"
      ]
    },
    {
      "cell_type": "code",
      "execution_count": null,
      "metadata": {
        "id": "TwZV5f4FxUh4"
      },
      "outputs": [],
      "source": [
        "effect(Kern, 394)"
      ]
    },
    {
      "cell_type": "markdown",
      "metadata": {
        "id": "VxLtGSkVxUh5"
      },
      "source": [
        "According to the __[Kern County Economic Forecast](https://dot.ca.gov/-/media/dot-media/programs/transportation-planning/documents/data-analytics-services/transportation-economics/socioeconomic-forecasts/2021/2021-pdf/kern-profile-a11y.pdf)__, published in 2021, \"Construction saw a relatively large decline\" but was anticipated to have \"a full recovery ... expected in 2023 or 2024.\""
      ]
    },
    {
      "cell_type": "markdown",
      "metadata": {
        "id": "pk89WGyLxUh5"
      },
      "source": [
        "## __[Tulare County](https://www.nass.usda.gov/Publications/AgCensus/2017/Online_Resources/County_Profiles/California/cp06107.pdf)__ Stationary Data"
      ]
    },
    {
      "cell_type": "code",
      "execution_count": null,
      "metadata": {
        "id": "mEfoqyLDxUh5"
      },
      "outputs": [],
      "source": [
        "Tulare_stationary = diff(Tulare)\n",
        "Tulare_stationary"
      ]
    },
    {
      "cell_type": "code",
      "execution_count": null,
      "metadata": {
        "id": "RlPG9RGVxUh6"
      },
      "outputs": [],
      "source": [
        "county = Tulare.drop(['Area Name',\n",
        "                          'Labor Force',\n",
        "                          'Employment',\n",
        "                          'Unemployment'], axis =1)\n",
        "\n",
        "county = county.diff(periods =1)\n",
        "\n",
        "cutoff = round(county.shape[0] * 0.75)\n",
        "\n",
        "    # plot our new split\n",
        "train = county[:cutoff]\n",
        "test = county[cutoff: ]"
      ]
    },
    {
      "cell_type": "markdown",
      "metadata": {
        "id": "iG7-FWNPxUh6"
      },
      "source": [
        "### Gridsearch Function Tulare County"
      ]
    },
    {
      "cell_type": "code",
      "execution_count": null,
      "metadata": {
        "id": "exnCzBWwxUh6"
      },
      "outputs": [],
      "source": [
        "# # Uncomment whole cell to run\n",
        "\n",
        "# # runs gridsearch function on training data, takes another 7 minutes\n",
        "\n",
        "# b_aic, b_order, b_model = gridsearch(train,\n",
        "#                                     [0,6,12,18],\n",
        "#                                     [1,2,3,4,5,6],\n",
        "#                                     [0,6,12,18])\n",
        "# print(f'The best AIC score is {b_aic}')\n",
        "# print(f'The best order set is {b_order}')\n",
        "# # Expected output: The best AIC score is -1708.1863069146839\n",
        "# # Expected output: The best order set is (18, 1, 18)"
      ]
    },
    {
      "cell_type": "code",
      "execution_count": null,
      "metadata": {
        "id": "xAGLcGMnxUh8"
      },
      "outputs": [],
      "source": [
        "arma_Tulare = ARIMA(train, order = (18,1,18)).fit()"
      ]
    },
    {
      "cell_type": "code",
      "execution_count": null,
      "metadata": {
        "id": "2kqtyC_oxUh8"
      },
      "outputs": [],
      "source": [
        "print(arma_Tulare.summary())"
      ]
    },
    {
      "cell_type": "code",
      "execution_count": null,
      "metadata": {
        "id": "OGzjjX4lxUh9"
      },
      "outputs": [],
      "source": [
        "train = train.dropna()"
      ]
    },
    {
      "cell_type": "code",
      "execution_count": null,
      "metadata": {
        "id": "qOHRgisfxUh-"
      },
      "outputs": [],
      "source": [
        "y_hat = arma_Tulare.predict(typ='levels')\n",
        "y_hat = y_hat[1:]\n",
        "np.sqrt(mean_squared_error(train, y_hat))"
      ]
    },
    {
      "cell_type": "code",
      "execution_count": null,
      "metadata": {
        "id": "vBgr7OsvxUh-"
      },
      "outputs": [],
      "source": [
        "arma_Tulare_test = ARIMA(test, order= (18,1,18)).fit()"
      ]
    },
    {
      "cell_type": "code",
      "execution_count": null,
      "metadata": {
        "id": "Hg47V2rlxUh-"
      },
      "outputs": [],
      "source": [
        "print(arma_Tulare_test.aic)"
      ]
    },
    {
      "cell_type": "code",
      "execution_count": null,
      "metadata": {
        "id": "Wovx7ZzpxUh_"
      },
      "outputs": [],
      "source": [
        "y_hat = arma_Tulare_test.predict(typ='levels')\n",
        "np.sqrt(mean_squared_error(test, y_hat))"
      ]
    },
    {
      "cell_type": "markdown",
      "metadata": {
        "id": "LGmJX8qQxUh_"
      },
      "source": [
        "### Predict Tulare County's incoming unemployment rates"
      ]
    },
    {
      "cell_type": "code",
      "execution_count": null,
      "metadata": {
        "id": "UviKc1TWxUh_"
      },
      "outputs": [],
      "source": [
        "forecast = arma_Tulare.forecast(112)\n",
        "forecast.index.tolist()\n",
        "test.index.tolist()"
      ]
    },
    {
      "cell_type": "code",
      "execution_count": null,
      "metadata": {
        "id": "L9yyzCqExUiA"
      },
      "outputs": [],
      "source": [
        "forecast = pd.DataFrame(forecast)"
      ]
    },
    {
      "cell_type": "code",
      "execution_count": null,
      "metadata": {
        "id": "0Op9IdUzxUiA"
      },
      "outputs": [],
      "source": [
        "forecast['Year'] = list\n",
        "forecast"
      ]
    },
    {
      "cell_type": "code",
      "execution_count": null,
      "metadata": {
        "id": "uCt7bDz1xUiA"
      },
      "outputs": [],
      "source": [
        "forecast = forecast.set_index('Year')"
      ]
    },
    {
      "cell_type": "code",
      "execution_count": null,
      "metadata": {
        "id": "TmkbLaA0xUiB"
      },
      "outputs": [],
      "source": [
        "fig, ax = plt.subplots(figsize = (12,8))\n",
        "plt.xticks(fontsize=8, rotation=90)\n",
        "xmin, xmax = ax.get_xlim()\n",
        "ax.set_xticks(np.round(np.linspace(xmin, xmax), 2))\n",
        "# ax.plot(train, label = 'Train')\n",
        "ax.plot(forecast, label = 'Forecast')\n",
        "ax.plot(test, label = 'Test')\n",
        "\n",
        "ax.set_title('Tulare County Prediction to 2024')\n",
        "ax.set_xlabel('Year')\n",
        "ax.set_xticks(range(0,len(forecast), 6))\n",
        "ax.legend();"
      ]
    },
    {
      "cell_type": "markdown",
      "metadata": {
        "id": "CWGKJEmTxUiC"
      },
      "source": [
        "### FB Prophet: Tulare County"
      ]
    },
    {
      "cell_type": "code",
      "execution_count": null,
      "metadata": {
        "id": "dmpk7uDUxUiC"
      },
      "outputs": [],
      "source": [
        "prophet(Tulare)"
      ]
    },
    {
      "cell_type": "markdown",
      "metadata": {
        "id": "dArQ80dzxUiC"
      },
      "source": [
        "### Effect on Unemployment Rate: Tulare County\n",
        "\n",
        "__[Tulare County](https://www.nass.usda.gov/Publications/AgCensus/2017/Online_Resources/County_Profiles/California/cp06107.pdf)__ has a total of 7,163 ag workers, with an anticipated 895 that would apply and graduate from an educational program."
      ]
    },
    {
      "cell_type": "code",
      "execution_count": null,
      "metadata": {
        "id": "CufGTSTsxUiD"
      },
      "outputs": [],
      "source": [
        "effect(Tulare, 895)"
      ]
    },
    {
      "cell_type": "markdown",
      "metadata": {
        "id": "-CMfFvvDxUiD"
      },
      "source": [
        "Reggie Ellis wrote a piece on __[Chris Thornberg's presentation to Tulare County officials in 2022](https://thesungazette.com/article/news/2022/02/22/economist-chris-thornberg-tells-tulare-county-to-focus-on-workers-workers-workers/)__, Ellis outlines Thornberg's presentation on the labor shortage as a shortage of amenities, affordable homes for families, and lack of workforce. This would seem paradoxical, as Thornburg explains, \"There is not enough housing for people to live in this state,\" and that \"if you don't build them, people aren't going to come.\" <br>\n",
        "\n",
        "There appears to be a clear push for construction work to be done in the Central Valley.\n",
        "\n",
        "<img src='https://github.com/joshstruggles/Local-Area-Unemployment-Statistics-California/blob/main/pics/2-18_re-summit_chris-thornberg-labor-market-1.jpg?raw=1'>\n",
        "<center>Chris Thornberg of Beacon Economics giving a presentation to Tulare County officials in 2022 on the labor shortage</center>"
      ]
    },
    {
      "cell_type": "markdown",
      "metadata": {
        "id": "t-0n3VcKxUiE"
      },
      "source": [
        "## __[San Joaquin County](https://www.nass.usda.gov/Publications/AgCensus/2017/Online_Resources/County_Profiles/California/cp06077.pdf)__ Stationary Data"
      ]
    },
    {
      "cell_type": "code",
      "execution_count": null,
      "metadata": {
        "id": "dzE6Cb8TxUiF"
      },
      "outputs": [],
      "source": [
        "San_Joaquin_stationary = diff(San_Joaquin)\n",
        "San_Joaquin_stationary"
      ]
    },
    {
      "cell_type": "code",
      "execution_count": null,
      "metadata": {
        "id": "6HBDxQ6AxUiF"
      },
      "outputs": [],
      "source": [
        "county = San_Joaquin.drop(['Area Name',\n",
        "                          'Labor Force',\n",
        "                          'Employment',\n",
        "                          'Unemployment'], axis =1)\n",
        "\n",
        "county = county.diff(periods =1)\n",
        "\n",
        "cutoff = round(county.shape[0] * 0.75)\n",
        "\n",
        "    # plot our new split\n",
        "train = county[:cutoff]\n",
        "test = county[cutoff: ]"
      ]
    },
    {
      "cell_type": "code",
      "execution_count": null,
      "metadata": {
        "id": "5dYEuxU7xUiF"
      },
      "outputs": [],
      "source": [
        "# # Uncomment whole cell to run\n",
        "\n",
        "# # runs gridsearch function on training data, takes another 7 minutes\n",
        "\n",
        "# b_aic, b_order, b_model = gridsearch(train,\n",
        "#                                     [0,6,12,18],\n",
        "#                                     [1,2,3,4,5,6],\n",
        "#                                     [0,6,12,18])\n",
        "# print(f'The best AIC score is {b_aic}')\n",
        "# print(f'The best order set is {b_order}')\n",
        "# # Expected output: The best AIC score is -2030.3340755639715\n",
        "# # Expected output: The best order set is (18, 1, 0)"
      ]
    },
    {
      "cell_type": "code",
      "execution_count": null,
      "metadata": {
        "id": "Xwd2mpnGxUiG"
      },
      "outputs": [],
      "source": [
        "arma_SJ = ARIMA(train, order = (18,1,0)).fit()"
      ]
    },
    {
      "cell_type": "code",
      "execution_count": null,
      "metadata": {
        "id": "IPS-BRl8xUiG"
      },
      "outputs": [],
      "source": [
        "print(arma_SJ.summary())"
      ]
    },
    {
      "cell_type": "code",
      "execution_count": null,
      "metadata": {
        "id": "ZaZvxEtfxUiH"
      },
      "outputs": [],
      "source": [
        "train = train.dropna()"
      ]
    },
    {
      "cell_type": "code",
      "execution_count": null,
      "metadata": {
        "id": "AhVHMnqXxUiH"
      },
      "outputs": [],
      "source": [
        "y_hat = arma_SJ.predict(typ='levels')\n",
        "y_hat = y_hat[1:]\n",
        "np.sqrt(mean_squared_error(train, y_hat))"
      ]
    },
    {
      "cell_type": "code",
      "execution_count": null,
      "metadata": {
        "id": "Tq9vL0DNxUiH"
      },
      "outputs": [],
      "source": [
        "arma_SJ_test = ARIMA(test, order = (18,1,0)).fit()"
      ]
    },
    {
      "cell_type": "code",
      "execution_count": null,
      "metadata": {
        "id": "-0NoN8NExUiI"
      },
      "outputs": [],
      "source": [
        "print(arma_SJ_test.aic)"
      ]
    },
    {
      "cell_type": "code",
      "execution_count": null,
      "metadata": {
        "id": "FnU-Hx3AxUiI"
      },
      "outputs": [],
      "source": [
        "y_hat = arma_SJ_test.predict(typ='levels')\n",
        "np.sqrt(mean_squared_error(test, y_hat))"
      ]
    },
    {
      "cell_type": "markdown",
      "metadata": {
        "id": "GXdkJqc6xUiI"
      },
      "source": [
        "### Predict San Joaquin County's incoming unemployment rates"
      ]
    },
    {
      "cell_type": "code",
      "execution_count": null,
      "metadata": {
        "id": "0mmaoYAKxUiJ"
      },
      "outputs": [],
      "source": [
        "forecast = arma_SJ.forecast(112)\n",
        "forecast.index.tolist()\n",
        "test.index.tolist()"
      ]
    },
    {
      "cell_type": "code",
      "execution_count": null,
      "metadata": {
        "id": "zGhWaa0rxUiJ"
      },
      "outputs": [],
      "source": [
        "forecast = pd.DataFrame(forecast)"
      ]
    },
    {
      "cell_type": "code",
      "execution_count": null,
      "metadata": {
        "id": "PVX9sus6xUiJ"
      },
      "outputs": [],
      "source": [
        "forecast['Year'] = list\n",
        "forecast"
      ]
    },
    {
      "cell_type": "code",
      "execution_count": null,
      "metadata": {
        "id": "-tqAsXLdxUiK"
      },
      "outputs": [],
      "source": [
        "forecast = forecast.set_index('Year')"
      ]
    },
    {
      "cell_type": "code",
      "execution_count": null,
      "metadata": {
        "id": "94EiHf3HxUiL"
      },
      "outputs": [],
      "source": [
        "fig, ax = plt.subplots(figsize = (12,8))\n",
        "plt.xticks(fontsize=8, rotation=90)\n",
        "xmin, xmax = ax.get_xlim()\n",
        "ax.set_xticks(np.round(np.linspace(xmin, xmax), 2))\n",
        "# ax.plot(train, label = 'Train')\n",
        "ax.plot(forecast, label = 'Forecast')\n",
        "ax.plot(test, label = 'Test')\n",
        "\n",
        "ax.set_title('San Joaquin County Prediction to 2024')\n",
        "ax.set_xlabel('Year')\n",
        "ax.set_xticks(range(0,len(forecast), 6))\n",
        "ax.legend();"
      ]
    },
    {
      "cell_type": "markdown",
      "metadata": {
        "id": "-6X-toHMxUiM"
      },
      "source": [
        "### FB Prophet: San Joaquin County"
      ]
    },
    {
      "cell_type": "code",
      "execution_count": null,
      "metadata": {
        "id": "kpQ_q5d8xUiN"
      },
      "outputs": [],
      "source": [
        "prophet(San_Joaquin)"
      ]
    },
    {
      "cell_type": "markdown",
      "metadata": {
        "id": "S5j2IERKxUiN"
      },
      "source": [
        "### Effect on Unemployment Rate:  __[San Joaquin County](https://www.nass.usda.gov/Publications/AgCensus/2017/Online_Resources/County_Profiles/California/cp06077.pdf)__\n",
        "\n",
        "Of the 6,176 total ag/migrant workers in San Joaquin County we anticipate that 772 workers would graduate from a trade school given the opportunity."
      ]
    },
    {
      "cell_type": "code",
      "execution_count": null,
      "metadata": {
        "id": "lJfdlByixUiO"
      },
      "outputs": [],
      "source": [
        "effect(San_Joaquin, 772)"
      ]
    },
    {
      "cell_type": "markdown",
      "metadata": {
        "id": "j7TXasbDxUiO"
      },
      "source": [
        "According to the EDD, there is a list of the top 5 __[In-Demand Middle-Skill Occupations](https://edd.ca.gov/siteassets/files/jobs_and_training/pubs/carrerladder_sanjoaquinvalley.pdf)__ for the entire San Joaquin Valley Region (Fresno, Inyo, Kern, Kings, Madera, Merced, Mono, San Joaquin, Stanislaus, and Tulare counties), the first of which is a Heavy and Tractor-Trailer Trucker Driver. Heavy equipment driving is not what is considered skilled trade work, but there is an eduational component involved and is skilled work, non-union represented. <br>\n",
        "\n",
        "### Limitations of the data and information available\n",
        "\n",
        "The greatest limitation of data available is the number of actual migrant workers currently in employ in California. The figures that we were able to find were from 2017; this may be smaller or larger in 2023 and could affect the analysis of our potential pool of workers. This could also affect labor pool, employed, unemployed, and unemployment rate numbers.\n",
        "\n",
        "# Concluding Remarks\n",
        "\n",
        "Based on the business problem I believe that we have successfully identified a group of workers inside California that would be considered capable of filling the skilled labor gap present in our communities. <br>\n",
        "\n",
        "The groups of workers in question is ag/migrant workers and though they are critical to the infrastructure and supply of food not only for California, but for the world (California is the fourth largest supplier of crops in the world), Chris Thornberg in his __[presentation to Tulare County officials](https://thesungazette.com/article/news/2022/02/22/economist-chris-thornberg-tells-tulare-county-to-focus-on-workers-workers-workers/)__ stated that there are only three ways to increase the workforce in a region: <br>\n",
        "\n",
        "- Extensive: increasing labor force through immigration (SR) or birthrates (LR)\n",
        "- Intensive: raising participation rates among the existing population\n",
        "- Productivity enhancements: capital investments/ skill training<br>\n",
        "\n",
        "We have suggested in some part, all three of these measures: <br>\n",
        "\n",
        "- Extensive: migrant workers support the largest economy in the central valley of California but suffer the largest inequities in regards to pay, shelter, and opportunity for growth; disruption of that business model in the form of an educational program like the one suggested would inevitably shake up the structure of the current and afford more opportunity to incoming migrant workers thus filling the gaps in the laborforce while forcing __[conditions](https://calmatters.org/california-divide/2023/02/farmworkers-conditions-california-report/)__ to improve based on competition with an educational program that would afford migrant workers opportunities to further their upward mobility in America.\n",
        "- Intensive: migrant workers already live and exist in the central valley of California and suffer from unemployment due to the seasonal nature of their work. Though they are supported by a union and are given the ability to look for work during their times of unemployment, there is no built in educational program that might afford migrant workers the ability to find work.\n",
        "- Productivity enhancements: skilled labor would be considered a form of skill training; the beauty of skilled labor is that oftentimes once an apprenticeship has begun there are opportunities to be paid for work and at higher rates than what is offered to migrant and seasonal farm workers."
      ]
    },
    {
      "cell_type": "markdown",
      "metadata": {
        "id": "BUDtd-aExUiP"
      },
      "source": [
        "## Forecasting with RNN (__[Recurrent Neural Networks](https://towardsdatascience.com/temporal-loops-intro-to-recurrent-neural-networks-for-time-series-forecasting-in-python-b0398963dc1f#:~:text=Recurrent%20Neural%20Networks%3A%20The%20Concept,data%20such%20as%20time%20series.)__)\n",
        "\n",
        "RNN's are deep learning models, typically used to solve problems with sequential input data such as time series. RNN's are a type of neural network that retains a memory of what it has already processed and thus can learn from previous iterations during its training. Majority of code is taken from walkthrough by __[Nachiketa Hebbar](https://www.youtube.com/watch?v=S8tpSG6Q2H0)__"
      ]
    },
    {
      "cell_type": "code",
      "execution_count": null,
      "metadata": {
        "id": "KcTC3XbOxUiP"
      },
      "outputs": [],
      "source": [
        "fresno.index = pd.to_datetime(fresno.index)"
      ]
    },
    {
      "cell_type": "code",
      "execution_count": null,
      "metadata": {
        "id": "S9WwMaBSxUiP"
      },
      "outputs": [],
      "source": [
        "fresno = fresno.sort_index()"
      ]
    },
    {
      "cell_type": "code",
      "execution_count": null,
      "metadata": {
        "id": "i5NtG718xUiP"
      },
      "outputs": [],
      "source": [
        "# For the sake of this exercise let's try using whole percentages\n",
        "fresno['Unemployment Rate'] *= 100"
      ]
    },
    {
      "cell_type": "code",
      "execution_count": null,
      "metadata": {
        "id": "3deHQxJJxUiQ"
      },
      "outputs": [],
      "source": [
        "# let's try this out on the fresno dataset\n",
        "# import seasonal_decompose from statsmodels.tsa.seasonal\n",
        "# from statsmodels.tsa.seasonal import seasonal_decompose"
      ]
    },
    {
      "cell_type": "code",
      "execution_count": null,
      "metadata": {
        "id": "wSZAV6LHxUiQ"
      },
      "outputs": [],
      "source": [
        "# plt.style.use('ggplot')\n",
        "# plt.style.use('classic')"
      ]
    },
    {
      "cell_type": "code",
      "execution_count": null,
      "metadata": {
        "id": "pN0gAT8pxUiR"
      },
      "outputs": [],
      "source": [
        "# results = seasonal_decompose(fresno['Unemployment Rate'], period =1)\n",
        "# results.plot();"
      ]
    },
    {
      "cell_type": "markdown",
      "metadata": {
        "id": "TtahGvFnxUiR"
      },
      "source": [
        "Nothing too impressive going on with our seasonal_decompose. Let's move on."
      ]
    },
    {
      "cell_type": "code",
      "execution_count": null,
      "metadata": {
        "id": "Gs3bdhbPxUiR"
      },
      "outputs": [],
      "source": [
        "# let's remind ourselves how long this dataset is.\n",
        "\n",
        "len(fresno)"
      ]
    },
    {
      "cell_type": "code",
      "execution_count": null,
      "metadata": {
        "id": "REiW44UJxUiS"
      },
      "outputs": [],
      "source": [
        "fresno.head()"
      ]
    },
    {
      "cell_type": "code",
      "execution_count": null,
      "metadata": {
        "id": "3x4zy_eZxUiS"
      },
      "outputs": [],
      "source": [
        "fresno = fresno.drop(['Area Name',\n",
        "             'Labor Force',\n",
        "             'Employment',\n",
        "             'Unemployment'], axis =1)"
      ]
    },
    {
      "cell_type": "code",
      "execution_count": null,
      "metadata": {
        "id": "eEwbi6avxUiS"
      },
      "outputs": [],
      "source": [
        "# Let's use the same train/test split from earlier in the notebook\n",
        "cutoff = round(fresno.shape[0] * 0.75)\n",
        "cutoff\n",
        "\n",
        "train = fresno[:cutoff]\n",
        "test = fresno[cutoff:]"
      ]
    },
    {
      "cell_type": "code",
      "execution_count": null,
      "metadata": {
        "id": "cdVHDD5xxUiT"
      },
      "outputs": [],
      "source": [
        "# part of the reason that we wanted to look at percentage as\n",
        "# whole numbers was to make the job of MinMaxScaler a bit\n",
        "# more effective\n",
        "from sklearn.preprocessing import MinMaxScaler\n",
        "scaler = MinMaxScaler()"
      ]
    },
    {
      "cell_type": "code",
      "execution_count": null,
      "metadata": {
        "id": "iMCeOz4AxUiU"
      },
      "outputs": [],
      "source": [
        "scaler.fit(train)\n",
        "scaled_train = scaler.transform(train)\n",
        "scaled_test = scaler.transform(test)"
      ]
    },
    {
      "cell_type": "code",
      "execution_count": null,
      "metadata": {
        "id": "0nsDngjjxUiW"
      },
      "outputs": [],
      "source": [
        "# define generator\n",
        "\n",
        "n_input = 3\n",
        "n_features = 1\n",
        "\n",
        "generator = TimeseriesGenerator(scaled_train,\n",
        "                                scaled_train,\n",
        "                                length=n_input,\n",
        "                                batch_size=1)"
      ]
    },
    {
      "cell_type": "code",
      "execution_count": null,
      "metadata": {
        "id": "_58d9_d1xUiX"
      },
      "outputs": [],
      "source": [
        "X,y = generator[0]\n",
        "print(f'Given the Array: \\n{X.flatten()}')\n",
        "print(f'Predict this y: \\n{y}')"
      ]
    },
    {
      "cell_type": "code",
      "execution_count": null,
      "metadata": {
        "id": "x2ET_-bixUiX"
      },
      "outputs": [],
      "source": [
        "X.shape"
      ]
    },
    {
      "cell_type": "code",
      "execution_count": null,
      "metadata": {
        "id": "VdPcc81zxUiX"
      },
      "outputs": [],
      "source": [
        "# Let's do the same thing but for one year\n",
        "n_input = 12\n",
        "generator = TimeseriesGenerator(scaled_train,\n",
        "                                scaled_train,\n",
        "                                length = n_input,\n",
        "                                batch_size = 1)"
      ]
    },
    {
      "cell_type": "code",
      "execution_count": null,
      "metadata": {
        "id": "JfC7vEZvxUiY"
      },
      "outputs": [],
      "source": [
        "# define our model\n",
        "model = Sequential()\n",
        "model.add(LSTM(100, activation='linear', input_shape=(n_input, n_features)))\n",
        "model.add(Dense(1))\n",
        "model.compile(optimizer='adam', loss='mse')"
      ]
    },
    {
      "cell_type": "code",
      "source": [
        "model.summary()"
      ],
      "metadata": {
        "id": "nUKE_s5Ngzns"
      },
      "execution_count": null,
      "outputs": []
    },
    {
      "cell_type": "code",
      "source": [
        "# fit model onto generator\n",
        "model.fit(generator, epochs=50)"
      ],
      "metadata": {
        "id": "shKGT5bFh5xO"
      },
      "execution_count": null,
      "outputs": []
    },
    {
      "cell_type": "code",
      "source": [
        "loss_per_epoch = model.history.history['loss']\n",
        "plt.plot(range(len(loss_per_epoch)), loss_per_epoch);"
      ],
      "metadata": {
        "id": "Xqvodun_iZ1_"
      },
      "execution_count": null,
      "outputs": []
    },
    {
      "cell_type": "markdown",
      "source": [
        "Great! 50 epochs might have been a bit overkill. Looks like 30 maybe would have been sufficient."
      ],
      "metadata": {
        "id": "4wcxf-xoixVY"
      }
    },
    {
      "cell_type": "code",
      "source": [
        "last_train_batch = scaled_train[-12:]"
      ],
      "metadata": {
        "id": "ZrFrmDI3ijyD"
      },
      "execution_count": null,
      "outputs": []
    },
    {
      "cell_type": "code",
      "source": [
        "last_train_batch = last_train_batch.reshape((1, n_input, n_features))"
      ],
      "metadata": {
        "id": "7ia9e7g4i7hA"
      },
      "execution_count": null,
      "outputs": []
    },
    {
      "cell_type": "code",
      "source": [
        "model.predict(last_train_batch)"
      ],
      "metadata": {
        "id": "WOulx7UZjDRH"
      },
      "execution_count": null,
      "outputs": []
    },
    {
      "cell_type": "code",
      "source": [
        "scaled_test[0]"
      ],
      "metadata": {
        "id": "hl1gKEyMjIsN"
      },
      "execution_count": null,
      "outputs": []
    },
    {
      "cell_type": "code",
      "source": [
        "test_predictions = []\n",
        "\n",
        "first_eval_batch = scaled_train[-n_input:]\n",
        "current_batch = first_eval_batch.reshape((1, n_input, n_features))\n",
        "\n",
        "for i in range(len(test)):\n",
        "\n",
        "  current_pred = model.predict(current_batch)[0]\n",
        "\n",
        "  test_predictions.append(current_pred)\n",
        "\n",
        "  current_batch = np.append(current_batch[:, 1:, :], [[current_pred]], axis =1)"
      ],
      "metadata": {
        "id": "ujvT8DjTjN9V"
      },
      "execution_count": null,
      "outputs": []
    },
    {
      "cell_type": "code",
      "source": [
        "test_predictions"
      ],
      "metadata": {
        "id": "KWLn6nVJjncT"
      },
      "execution_count": null,
      "outputs": []
    },
    {
      "cell_type": "code",
      "source": [
        "test.tail()"
      ],
      "metadata": {
        "id": "e6jOCJ9KkH18"
      },
      "execution_count": null,
      "outputs": []
    },
    {
      "cell_type": "code",
      "source": [
        "true_predictions = scaler.inverse_transform(test_predictions)"
      ],
      "metadata": {
        "id": "fMZbvsGkkNtC"
      },
      "execution_count": null,
      "outputs": []
    },
    {
      "cell_type": "code",
      "source": [
        "test['Predictions'] = true_predictions\n",
        "test.plot(figsize=(14,5));"
      ],
      "metadata": {
        "id": "nDaE4mhckSU9"
      },
      "execution_count": null,
      "outputs": []
    },
    {
      "cell_type": "code",
      "source": [
        "rmse = sqrt(mean_squared_error(test['Unemployment Rate'], test['Predictions']))\n",
        "print(rmse)"
      ],
      "metadata": {
        "id": "eqQwoY1FkiGO"
      },
      "execution_count": null,
      "outputs": []
    },
    {
      "cell_type": "markdown",
      "source": [
        "This is significantly worse than the performance we got from our gridsearch ARIMA models, but let's see if we can improve the performance by placing a similar gridsearch function onto our RNN model.\n",
        "\n",
        "## Improving RNN Performance\n",
        "\n",
        "Though not necessary under every circumstance, let's see if we get a lower RMSE (therefore more accurate) score on a stationary model."
      ],
      "metadata": {
        "id": "uxbBVqfQVS0Q"
      }
    },
    {
      "cell_type": "code",
      "source": [
        "# make stationary data out of our fresno dataset\n",
        "county = fresno.diff(periods =1)\n",
        "county.head()"
      ],
      "metadata": {
        "id": "0kG4AQ-hzfce"
      },
      "execution_count": null,
      "outputs": []
    },
    {
      "cell_type": "code",
      "source": [
        "# Drop null values\n",
        "county = county.dropna()"
      ],
      "metadata": {
        "id": "8PZ7aNnpzyE3"
      },
      "execution_count": null,
      "outputs": []
    },
    {
      "cell_type": "code",
      "source": [
        "cutoff = round(county.shape[0] *0.75)\n",
        "cutoff\n",
        "\n",
        "train = county[:cutoff]\n",
        "test = county[cutoff: ]"
      ],
      "metadata": {
        "id": "2TId7geWz7GW"
      },
      "execution_count": null,
      "outputs": []
    },
    {
      "cell_type": "code",
      "source": [
        "scaler.fit(train)\n",
        "scaled_train = scaler.transform(train)\n",
        "scaled_test = scaler.transform(test)"
      ],
      "metadata": {
        "id": "alyl78IS2L9_"
      },
      "execution_count": null,
      "outputs": []
    },
    {
      "cell_type": "code",
      "source": [
        "n_input = 12\n",
        "generator = TimeseriesGenerator(scaled_train,\n",
        "                                scaled_train,\n",
        "                                length = n_input,\n",
        "                                batch_size = 1)"
      ],
      "metadata": {
        "id": "C2t9kDZj2UpN"
      },
      "execution_count": null,
      "outputs": []
    },
    {
      "cell_type": "code",
      "source": [
        "model = Sequential()\n",
        "model.add(LSTM(100, activation='linear', input_shape=(n_input, n_features)))\n",
        "model.add(Dense(1))\n",
        "model.compile(optimizer='adam', loss='mse')"
      ],
      "metadata": {
        "id": "6jyyufjR3GRn"
      },
      "execution_count": null,
      "outputs": []
    },
    {
      "cell_type": "code",
      "source": [
        "model.summary()"
      ],
      "metadata": {
        "id": "cIXLrygL3MQG"
      },
      "execution_count": null,
      "outputs": []
    },
    {
      "cell_type": "code",
      "source": [
        "model.fit(generator, epochs = 50)"
      ],
      "metadata": {
        "id": "nByjx8Yw3PDp"
      },
      "execution_count": null,
      "outputs": []
    },
    {
      "cell_type": "code",
      "source": [
        "loss_per_epoch = model.history.history['loss']\n",
        "plt.plot(range(len(loss_per_epoch)), loss_per_epoch);"
      ],
      "metadata": {
        "id": "RskFCnCA3YW3"
      },
      "execution_count": null,
      "outputs": []
    },
    {
      "cell_type": "code",
      "source": [
        "last_train_batch = scaled_train[-12:]"
      ],
      "metadata": {
        "id": "YEiC4zp83f-Q"
      },
      "execution_count": null,
      "outputs": []
    },
    {
      "cell_type": "code",
      "source": [
        "last_train_batch = last_train_batch.reshape((1, n_input, n_features))"
      ],
      "metadata": {
        "id": "0WMh56NE3uG8"
      },
      "execution_count": null,
      "outputs": []
    },
    {
      "cell_type": "code",
      "source": [
        "model.predict(last_train_batch)"
      ],
      "metadata": {
        "id": "T2IF3FUI3yT6"
      },
      "execution_count": null,
      "outputs": []
    },
    {
      "cell_type": "code",
      "source": [
        "scaled_test[0]"
      ],
      "metadata": {
        "id": "Xk_aXsbb30th"
      },
      "execution_count": null,
      "outputs": []
    },
    {
      "cell_type": "code",
      "source": [
        "test_predictions = []\n",
        "\n",
        "first_eval_batch = scaled_train[-n_input:]\n",
        "current_batch = first_eval_batch.reshape((1, n_input, n_features))\n",
        "\n",
        "for i in range(len(test)):\n",
        "\n",
        "  current_pred = model.predict(current_batch)[0]\n",
        "\n",
        "  test_predictions.append(current_pred)\n",
        "\n",
        "  current_batch = np.append(current_batch[:, 1:, :], [[current_pred]], axis =1)"
      ],
      "metadata": {
        "id": "_VUc7XQt33UG"
      },
      "execution_count": null,
      "outputs": []
    },
    {
      "cell_type": "code",
      "source": [
        "test_predictions"
      ],
      "metadata": {
        "id": "7tCaMNqT35UF"
      },
      "execution_count": null,
      "outputs": []
    },
    {
      "cell_type": "code",
      "source": [
        "test.tail()"
      ],
      "metadata": {
        "id": "mEp3XYcJ3_Z4"
      },
      "execution_count": null,
      "outputs": []
    },
    {
      "cell_type": "code",
      "source": [
        "true_predictions = scaler.inverse_transform(test_predictions)\n",
        "test['Predictions'] = true_predictions\n",
        "test.plot(figsize=(14,5));"
      ],
      "metadata": {
        "id": "M1iP1ZUd4Osa"
      },
      "execution_count": null,
      "outputs": []
    },
    {
      "cell_type": "markdown",
      "source": [
        "Visually this is a huge improvement. Let's see what our RMSE score is."
      ],
      "metadata": {
        "id": "zkKdqcaB4ewf"
      }
    },
    {
      "cell_type": "code",
      "source": [
        "rmse = sqrt(mean_squared_error(test['Unemployment Rate'], test['Predictions']))\n",
        "print(rmse)"
      ],
      "metadata": {
        "id": "5vgtGauO4iih"
      },
      "execution_count": null,
      "outputs": []
    },
    {
      "cell_type": "markdown",
      "source": [
        "In terms of accuracy this is a significant improvement, however our ARIMA model with gridsearch is still a better performant model."
      ],
      "metadata": {
        "id": "sG-C94sf4yao"
      }
    },
    {
      "cell_type": "markdown",
      "source": [
        "### Further improvements\n",
        "\n",
        "Let's try using a smaller test set."
      ],
      "metadata": {
        "id": "j8km8RWZ_1Dq"
      }
    },
    {
      "cell_type": "code",
      "source": [
        "index_show = county.reset_index()\n",
        "index_show"
      ],
      "metadata": {
        "id": "XzdLhd1j_0Jx"
      },
      "execution_count": null,
      "outputs": []
    },
    {
      "cell_type": "code",
      "source": [
        "# We used data from 2014 previously, let's try just using one year for our test set\n",
        "train = county[:384]\n",
        "test = county[384:]"
      ],
      "metadata": {
        "id": "b3EiPd9WBIO-"
      },
      "execution_count": null,
      "outputs": []
    },
    {
      "cell_type": "code",
      "source": [
        "scaler.fit(train)\n",
        "scaled_train = scaler.transform(train)\n",
        "scaled_test = scaler.transform(test)"
      ],
      "metadata": {
        "id": "20lxGtP4B7cY"
      },
      "execution_count": null,
      "outputs": []
    },
    {
      "cell_type": "code",
      "source": [
        "n_input = 12\n",
        "generator = TimeseriesGenerator(scaled_train,\n",
        "                                scaled_train,\n",
        "                                length = n_input,\n",
        "                                batch_size = 1)"
      ],
      "metadata": {
        "id": "wWj8x-b6Ekm4"
      },
      "execution_count": null,
      "outputs": []
    },
    {
      "cell_type": "code",
      "source": [
        "# define our model\n",
        "model = Sequential()\n",
        "model.add(LSTM(100, activation='relu', input_shape=(n_input, n_features)))\n",
        "model.add(Dense(1))\n",
        "model.compile(optimizer='adam', loss='mse')"
      ],
      "metadata": {
        "id": "iMFrmhCjEqrU"
      },
      "execution_count": null,
      "outputs": []
    },
    {
      "cell_type": "code",
      "source": [
        "model.summary()"
      ],
      "metadata": {
        "id": "JKlDpgx8Euyy"
      },
      "execution_count": null,
      "outputs": []
    },
    {
      "cell_type": "code",
      "source": [
        "model.fit(generator, epochs = 50)"
      ],
      "metadata": {
        "id": "VcABgNPhEyva"
      },
      "execution_count": null,
      "outputs": []
    },
    {
      "cell_type": "code",
      "source": [
        "loss_per_epoch = model.history.history['loss']\n",
        "plt.plot(range(len(loss_per_epoch)), loss_per_epoch);"
      ],
      "metadata": {
        "id": "gxgZPSCEE3Vg"
      },
      "execution_count": null,
      "outputs": []
    },
    {
      "cell_type": "code",
      "source": [
        "test_predictions = []\n",
        "\n",
        "first_eval_batch = scaled_train[-n_input:]\n",
        "current_batch = first_eval_batch.reshape((1, n_input, n_features))\n",
        "\n",
        "for i in range(len(test)):\n",
        "\n",
        "  current_pred = model.predict(current_batch)[0]\n",
        "\n",
        "  test_predictions.append(current_pred)\n",
        "\n",
        "  current_batch = np.append(current_batch[:, 1:, :], [[current_pred]], axis =1)"
      ],
      "metadata": {
        "id": "nahcdC5vE92S"
      },
      "execution_count": null,
      "outputs": []
    },
    {
      "cell_type": "code",
      "source": [
        "test_predictions"
      ],
      "metadata": {
        "id": "0kf25VJ9FGMw"
      },
      "execution_count": null,
      "outputs": []
    },
    {
      "cell_type": "code",
      "source": [
        "test.tail()"
      ],
      "metadata": {
        "id": "p1SQKI-fFIQO"
      },
      "execution_count": null,
      "outputs": []
    },
    {
      "cell_type": "code",
      "source": [
        "true_predictions = scaler.inverse_transform(test_predictions)"
      ],
      "metadata": {
        "id": "ckKlroiwFJE0"
      },
      "execution_count": null,
      "outputs": []
    },
    {
      "cell_type": "code",
      "source": [
        "test['Predictions'] = true_predictions\n",
        "test.plot(figsize=(14,5));"
      ],
      "metadata": {
        "id": "qN25YngBFM8k"
      },
      "execution_count": null,
      "outputs": []
    },
    {
      "cell_type": "code",
      "source": [
        "rmse = sqrt(mean_squared_error(test['Unemployment Rate'], test['Predictions']))\n",
        "print(rmse)"
      ],
      "metadata": {
        "id": "OB8FFLNiFkle"
      },
      "execution_count": null,
      "outputs": []
    },
    {
      "cell_type": "markdown",
      "source": [
        "It looks like the performance from our ARIMA gridsearch model was the best performant. Let's utilize that set of data for our analysis."
      ],
      "metadata": {
        "id": "-G_ny9wQGU2q"
      }
    },
    {
      "cell_type": "code",
      "source": [
        "# RNN(Monterey)"
      ],
      "metadata": {
        "id": "5WZGUoHA37L4"
      },
      "execution_count": null,
      "outputs": []
    },
    {
      "cell_type": "code",
      "source": [
        "# RNN(Kern)"
      ],
      "metadata": {
        "id": "tlPWtktJ4wDn"
      },
      "execution_count": null,
      "outputs": []
    },
    {
      "cell_type": "code",
      "source": [
        "# RNN(Tulare)"
      ],
      "metadata": {
        "id": "jDkNE4Ni4tm9"
      },
      "execution_count": null,
      "outputs": []
    },
    {
      "cell_type": "code",
      "source": [
        "# RNN(San_Joaquin)"
      ],
      "metadata": {
        "id": "U-wHVr_64xzB"
      },
      "execution_count": null,
      "outputs": []
    }
  ],
  "metadata": {
    "kernelspec": {
      "display_name": "Python 3",
      "name": "python3"
    },
    "language_info": {
      "name": "python"
    },
    "toc": {
      "base_numbering": 1,
      "nav_menu": {},
      "number_sections": true,
      "sideBar": true,
      "skip_h1_title": true,
      "title_cell": "Table of Contents",
      "title_sidebar": "Contents",
      "toc_cell": true,
      "toc_position": {
        "height": "calc(100% - 180px)",
        "left": "10px",
        "top": "150px",
        "width": "165px"
      },
      "toc_section_display": true,
      "toc_window_display": true
    },
    "colab": {
      "provenance": [],
      "include_colab_link": true
    }
  },
  "nbformat": 4,
  "nbformat_minor": 0
}