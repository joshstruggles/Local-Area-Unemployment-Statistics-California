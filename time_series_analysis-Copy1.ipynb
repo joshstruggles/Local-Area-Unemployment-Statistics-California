{
 "cells": [
  {
   "cell_type": "markdown",
   "metadata": {
    "toc": true
   },
   "source": [
    "<h1>Table of Contents<span class=\"tocSkip\"></span></h1>\n",
    "<div class=\"toc\"><ul class=\"toc-item\"><li><span><a href=\"#Dataset\" data-toc-modified-id=\"Dataset-1\"><span class=\"toc-item-num\">1&nbsp;&nbsp;</span>Dataset</a></span></li><li><span><a href=\"#Business-Problem\" data-toc-modified-id=\"Business-Problem-2\"><span class=\"toc-item-num\">2&nbsp;&nbsp;</span>Business Problem</a></span></li><li><span><a href=\"#Method-of-Analysis/-Time-Series-Analysis-of-California's-Unemployment-Rate\" data-toc-modified-id=\"Method-of-Analysis/-Time-Series-Analysis-of-California's-Unemployment-Rate-3\"><span class=\"toc-item-num\">3&nbsp;&nbsp;</span>Method of Analysis/ Time Series Analysis of California's Unemployment Rate</a></span><ul class=\"toc-item\"><li><span><a href=\"#College-Educational-Programs-and-Community-College-opportunties-for-trades-and-beyond\" data-toc-modified-id=\"College-Educational-Programs-and-Community-College-opportunties-for-trades-and-beyond-3.1\"><span class=\"toc-item-num\">3.1&nbsp;&nbsp;</span>College Educational Programs and Community College opportunties for trades and beyond</a></span></li></ul></li><li><span><a href=\"#Fresno-County-Stationary-Data\" data-toc-modified-id=\"Fresno-County-Stationary-Data-4\"><span class=\"toc-item-num\">4&nbsp;&nbsp;</span><strong><a href=\"https://www.nass.usda.gov/Publications/AgCensus/2017/Online_Resources/County_Profiles/California/cp06019.pdf\" target=\"_blank\">Fresno County</a></strong> Stationary Data</a></span><ul class=\"toc-item\"><li><span><a href=\"#Gridsearch-Function\" data-toc-modified-id=\"Gridsearch-Function-4.1\"><span class=\"toc-item-num\">4.1&nbsp;&nbsp;</span>Gridsearch Function</a></span></li><li><span><a href=\"#Predict-Fresno-County's-incoming-unemployment-rates\" data-toc-modified-id=\"Predict-Fresno-County's-incoming-unemployment-rates-4.2\"><span class=\"toc-item-num\">4.2&nbsp;&nbsp;</span>Predict Fresno County's incoming unemployment rates</a></span></li><li><span><a href=\"#FB-Prophet:-Fresno\" data-toc-modified-id=\"FB-Prophet:-Fresno-4.3\"><span class=\"toc-item-num\">4.3&nbsp;&nbsp;</span>FB Prophet: Fresno</a></span></li></ul></li><li><span><a href=\"#FB-Prophet-Function\" data-toc-modified-id=\"FB-Prophet-Function-5\"><span class=\"toc-item-num\">5&nbsp;&nbsp;</span>FB Prophet Function</a></span></li><li><span><a href=\"#Effect-on-Unemployment\" data-toc-modified-id=\"Effect-on-Unemployment-6\"><span class=\"toc-item-num\">6&nbsp;&nbsp;</span>Effect on Unemployment</a></span><ul class=\"toc-item\"><li><span><a href=\"#What-industries/trades-in-Fresno-County-have-the-largest-growth/opportunity?\" data-toc-modified-id=\"What-industries/trades-in-Fresno-County-have-the-largest-growth/opportunity?-6.1\"><span class=\"toc-item-num\">6.1&nbsp;&nbsp;</span>What industries/trades in Fresno County have the largest growth/opportunity?</a></span></li><li><span><a href=\"#Function-for-effect-on-unemployment-rate\" data-toc-modified-id=\"Function-for-effect-on-unemployment-rate-6.2\"><span class=\"toc-item-num\">6.2&nbsp;&nbsp;</span>Function for effect on unemployment rate</a></span></li></ul></li><li><span><a href=\"#Monterey-County-Stationary-Data\" data-toc-modified-id=\"Monterey-County-Stationary-Data-7\"><span class=\"toc-item-num\">7&nbsp;&nbsp;</span><strong><a href=\"https://www.nass.usda.gov/Publications/AgCensus/2017/Online_Resources/County_Profiles/California/cp06053.pdf\" target=\"_blank\">Monterey County</a></strong> Stationary Data</a></span><ul class=\"toc-item\"><li><span><a href=\"#Gridsearch-Function-Monterey-County\" data-toc-modified-id=\"Gridsearch-Function-Monterey-County-7.1\"><span class=\"toc-item-num\">7.1&nbsp;&nbsp;</span>Gridsearch Function Monterey County</a></span></li><li><span><a href=\"#Predict-Monterey-County's-incoming-unemployment-rates\" data-toc-modified-id=\"Predict-Monterey-County's-incoming-unemployment-rates-7.2\"><span class=\"toc-item-num\">7.2&nbsp;&nbsp;</span>Predict Monterey County's incoming unemployment rates</a></span></li><li><span><a href=\"#FB-Prophet:-Monterey\" data-toc-modified-id=\"FB-Prophet:-Monterey-7.3\"><span class=\"toc-item-num\">7.3&nbsp;&nbsp;</span>FB Prophet: Monterey</a></span></li><li><span><a href=\"#Effect-on-Unemployment-Rate:-Monterey-County\" data-toc-modified-id=\"Effect-on-Unemployment-Rate:-Monterey-County-7.4\"><span class=\"toc-item-num\">7.4&nbsp;&nbsp;</span>Effect on Unemployment Rate: Monterey County</a></span></li></ul></li><li><span><a href=\"#Kern-County-Stationary-Data\" data-toc-modified-id=\"Kern-County-Stationary-Data-8\"><span class=\"toc-item-num\">8&nbsp;&nbsp;</span><strong><a href=\"https://www.nass.usda.gov/Publications/AgCensus/2017/Online_Resources/County_Profiles/California/cp06029.pdf\" target=\"_blank\">Kern County</a></strong> Stationary Data</a></span><ul class=\"toc-item\"><li><span><a href=\"#Gridsearch-Function-Kern-County\" data-toc-modified-id=\"Gridsearch-Function-Kern-County-8.1\"><span class=\"toc-item-num\">8.1&nbsp;&nbsp;</span>Gridsearch Function Kern County</a></span></li><li><span><a href=\"#Predict-Kern-County's-incoming-unemployment-rates\" data-toc-modified-id=\"Predict-Kern-County's-incoming-unemployment-rates-8.2\"><span class=\"toc-item-num\">8.2&nbsp;&nbsp;</span>Predict Kern County's incoming unemployment rates</a></span></li><li><span><a href=\"#FB-Prophet:-Kern-County\" data-toc-modified-id=\"FB-Prophet:-Kern-County-8.3\"><span class=\"toc-item-num\">8.3&nbsp;&nbsp;</span>FB Prophet: Kern County</a></span></li><li><span><a href=\"#Effect-on-Unemployment-Rate:-Kern-County\" data-toc-modified-id=\"Effect-on-Unemployment-Rate:-Kern-County-8.4\"><span class=\"toc-item-num\">8.4&nbsp;&nbsp;</span>Effect on Unemployment Rate: Kern County</a></span></li></ul></li><li><span><a href=\"#Tulare-County-Stationary-Data\" data-toc-modified-id=\"Tulare-County-Stationary-Data-9\"><span class=\"toc-item-num\">9&nbsp;&nbsp;</span><strong><a href=\"https://www.nass.usda.gov/Publications/AgCensus/2017/Online_Resources/County_Profiles/California/cp06107.pdf\" target=\"_blank\">Tulare County</a></strong> Stationary Data</a></span><ul class=\"toc-item\"><li><span><a href=\"#Gridsearch-Function-Tulare-County\" data-toc-modified-id=\"Gridsearch-Function-Tulare-County-9.1\"><span class=\"toc-item-num\">9.1&nbsp;&nbsp;</span>Gridsearch Function Tulare County</a></span></li><li><span><a href=\"#Predict-Tulare-County's-incoming-unemployment-rates\" data-toc-modified-id=\"Predict-Tulare-County's-incoming-unemployment-rates-9.2\"><span class=\"toc-item-num\">9.2&nbsp;&nbsp;</span>Predict Tulare County's incoming unemployment rates</a></span></li><li><span><a href=\"#FB-Prophet:-Tulare-County\" data-toc-modified-id=\"FB-Prophet:-Tulare-County-9.3\"><span class=\"toc-item-num\">9.3&nbsp;&nbsp;</span>FB Prophet: Tulare County</a></span></li><li><span><a href=\"#Effect-on-Unemployment-Rate:-Tulare-County\" data-toc-modified-id=\"Effect-on-Unemployment-Rate:-Tulare-County-9.4\"><span class=\"toc-item-num\">9.4&nbsp;&nbsp;</span>Effect on Unemployment Rate: Tulare County</a></span></li></ul></li><li><span><a href=\"#San-Joaquin-County-Stationary-Data\" data-toc-modified-id=\"San-Joaquin-County-Stationary-Data-10\"><span class=\"toc-item-num\">10&nbsp;&nbsp;</span><strong><a href=\"https://www.nass.usda.gov/Publications/AgCensus/2017/Online_Resources/County_Profiles/California/cp06077.pdf\" target=\"_blank\">San Joaquin County</a></strong> Stationary Data</a></span><ul class=\"toc-item\"><li><span><a href=\"#Predict-San-Joaquin-County's-incoming-unemployment-rates\" data-toc-modified-id=\"Predict-San-Joaquin-County's-incoming-unemployment-rates-10.1\"><span class=\"toc-item-num\">10.1&nbsp;&nbsp;</span>Predict San Joaquin County's incoming unemployment rates</a></span></li><li><span><a href=\"#FB-Prophet:-San-Joaquin-County\" data-toc-modified-id=\"FB-Prophet:-San-Joaquin-County-10.2\"><span class=\"toc-item-num\">10.2&nbsp;&nbsp;</span>FB Prophet: San Joaquin County</a></span></li><li><span><a href=\"#Effect-on-Unemployment-Rate:--San-Joaquin-County\" data-toc-modified-id=\"Effect-on-Unemployment-Rate:--San-Joaquin-County-10.3\"><span class=\"toc-item-num\">10.3&nbsp;&nbsp;</span>Effect on Unemployment Rate:  <strong><a href=\"https://www.nass.usda.gov/Publications/AgCensus/2017/Online_Resources/County_Profiles/California/cp06077.pdf\" target=\"_blank\">San Joaquin County</a></strong></a></span></li><li><span><a href=\"#Limitations-of-the-data-and-information-available\" data-toc-modified-id=\"Limitations-of-the-data-and-information-available-10.4\"><span class=\"toc-item-num\">10.4&nbsp;&nbsp;</span>Limitations of the data and information available</a></span></li></ul></li><li><span><a href=\"#Forecasting-with-RNN-(Recurrent-Neural-Networks)\" data-toc-modified-id=\"Forecasting-with-RNN-(Recurrent-Neural-Networks)-11\"><span class=\"toc-item-num\">11&nbsp;&nbsp;</span>Forecasting with RNN (<strong><a href=\"https://towardsdatascience.com/temporal-loops-intro-to-recurrent-neural-networks-for-time-series-forecasting-in-python-b0398963dc1f#:~:text=Recurrent%20Neural%20Networks%3A%20The%20Concept,data%20such%20as%20time%20series.\" target=\"_blank\">Recurrent Neural Networks</a></strong>)</a></span></li></ul></div>"
   ]
  },
  {
   "cell_type": "markdown",
   "metadata": {},
   "source": [
    "# Notes: \n",
    "\n",
    "- ~Are there any plans to show how this idea can affect unemployment rate?~ \n",
    "    - ~Consider # of ag/migrant workers that would convert to students in the offseason & # of open positions in trades in specific county.~\n",
    "    - ~Consider what trades are most needed and if this small change will completely, partially, or overwhelm the industry.~ \n",
    "   \n",
    "- ~Beef up classification~\n",
    "    - ~Confusion Matrix~\n",
    "    - ~Classification Report to evaluate classifiers~\n",
    "    - ~Communication of evaluation metrics based on stakeholder's needs~\n",
    "\n",
    "- ~How do you evaluate your time series models?~ \n",
    "    - ~RMSE~\n",
    "- Consider using __[Neural Network](https://towardsdatascience.com/time-series-forecasting-with-deep-learning-and-attention-mechanism-2d001fc871fc#:~:text=Conclusions,series%20in%20many%20different%20problems.)__ or FBProphet"
   ]
  },
  {
   "cell_type": "markdown",
   "metadata": {},
   "source": [
    "## Dataset \n",
    "\n",
    "__['Local Area Unemployment Statistics'](https://data.ca.gov/dataset/local-area-unemployment-statistics-laus)__  current as of March, 2023. <br> \n",
    "\n",
    "## Business Problem\n",
    "\n",
    "According to a recent article posted on what could be considered America's most uncelebrated holiday __['National Skilled Trades Day'](https://gvwire.com/2023/05/02/on-national-skilled-trades-day-americas-labor-shortage-looms/)__, there is a high need for skilled labor in the job market. Specifically, these are blue collar jobs in the trades (carpentry, HVAC, iron work, sheet metal, and aviation). There is a growing sentiment in the United States that there aren't people willing to work, but according to the article by Elen  Theodossiou and Steven F. Hipple, __['Unemployment remains high in 2010'](https://www.bls.gov/opub/mlr/2011/03/art1full.pdf)__, __\"Workers with less education continued to experience a substantially higher unemployment rate than did better educated members of the labor force.\"__(4)\n",
    "<br> \n",
    "\n",
    "Taking into consideration that ALL the jobs highlighted in the article __['National Skilled Trades Day'](https://gvwire.com/2023/05/02/on-national-skilled-trades-day-americas-labor-shortage-looms/)__ require some kind of certificate of completion from a trade school or on the job training, it is our intention to look at counties in California with high unemployment rates and attempt to identify members of specific business sectors that the EDD (State of California Employment Development Department) can recruit for training in these high demand jobs. \n",
    "<br>\n",
    "\n",
    "Are there then groups in our data on counties and unemployment rate that may shed light on a potential group of candidates for a proposal for an EDD sponsored version of job training? That is the goal of our project. \n",
    "\n",
    "## Method of Analysis/ Time Series Analysis of California's Unemployment Rate\n",
    "\n",
    "Now that we have determined that there is a relationship between higher rates of unemployment and education we will look to determine a predictive model on the time series data we have for the top five crop producing counties in California and determine when the highest rate of unemployment (seasonality) occurs for each county and determine when a potential educational program could be implemented. <br>\n",
    "\n",
    "With this data we can carefully craft the skeleton of a 6-month educational program and through the published opinions of local experts and government entities begin looking at potential fields of study/educational partners to reach out to in order to create a specialized educational program. <br> \n",
    "\n",
    "Ultimately, the reason for making these suggestions is to help improve the __[living conditions](https://www.hcd.ca.gov/planning-and-community-development/housing-elements/building-blocks/farmworkers)__ and occupational opportunities of skilled laborers in the agricultural field. <br> \n",
    "\n",
    "### College Educational Programs and Community College opportunties for trades and beyond\n",
    "\n",
    "The reason for proposing trade school opportunities primarily is that there is a significantly smaller amount of __[training to deployment](https://toptrade.school/how-long-does-trade-school-take/)__ than traditional four year schools, something to the tune of 6 months to a year for a full time student. Since our proposal is for off-season migrant and farm workers who would be able to take advantage of these programs during the off-season, time is a crucial factor. From here however, once given the ability to rise financially and educationally, our educated workforce would be able to improve living conditions and explore other educational opportunities.   "
   ]
  },
  {
   "cell_type": "code",
   "execution_count": 1,
   "metadata": {},
   "outputs": [
    {
     "name": "stderr",
     "output_type": "stream",
     "text": [
      "C:\\Users\\jkrug\\anaconda3\\envs\\learn-env\\lib\\site-packages\\numpy\\_distributor_init.py:30: UserWarning: loaded more than 1 DLL from .libs:\n",
      "C:\\Users\\jkrug\\anaconda3\\envs\\learn-env\\lib\\site-packages\\numpy\\.libs\\libopenblas.FB5AE2TYXYH2IJRDKGDGQ3XBKLKTF43H.gfortran-win_amd64.dll\n",
      "C:\\Users\\jkrug\\anaconda3\\envs\\learn-env\\lib\\site-packages\\numpy\\.libs\\libopenblas.pyqhxlvvq7vesdpuvuadxevjobghjpay.gfortran-win_amd64.dll\n",
      "C:\\Users\\jkrug\\anaconda3\\envs\\learn-env\\lib\\site-packages\\numpy\\.libs\\libopenblas64__v0.3.21-gcc_10_3_0.dll\n",
      "  warnings.warn(\"loaded more than 1 DLL from .libs:\"\n"
     ]
    },
    {
     "ename": "ModuleNotFoundError",
     "evalue": "No module named 'tensorflow.tsl'",
     "output_type": "error",
     "traceback": [
      "\u001b[1;31m---------------------------------------------------------------------------\u001b[0m",
      "\u001b[1;31mModuleNotFoundError\u001b[0m                       Traceback (most recent call last)",
      "\u001b[1;32m<ipython-input-1-a9c8f51e84ad>\u001b[0m in \u001b[0;36m<module>\u001b[1;34m\u001b[0m\n\u001b[1;32m----> 1\u001b[1;33m \u001b[1;32mimport\u001b[0m \u001b[0mtensorflow\u001b[0m \u001b[1;32mas\u001b[0m \u001b[0mtf\u001b[0m\u001b[1;33m\u001b[0m\u001b[1;33m\u001b[0m\u001b[0m\n\u001b[0m\u001b[0;32m      2\u001b[0m \u001b[1;32mimport\u001b[0m \u001b[0mpandas\u001b[0m \u001b[1;32mas\u001b[0m \u001b[0mpd\u001b[0m\u001b[1;33m\u001b[0m\u001b[1;33m\u001b[0m\u001b[0m\n\u001b[0;32m      3\u001b[0m \u001b[1;32mimport\u001b[0m \u001b[0mmatplotlib\u001b[0m \u001b[1;32mas\u001b[0m \u001b[0mplt\u001b[0m\u001b[1;33m\u001b[0m\u001b[1;33m\u001b[0m\u001b[0m\n\u001b[0;32m      4\u001b[0m \u001b[1;32mimport\u001b[0m \u001b[0mmatplotlib\u001b[0m\u001b[1;33m.\u001b[0m\u001b[0mpyplot\u001b[0m \u001b[1;32mas\u001b[0m \u001b[0mplt\u001b[0m\u001b[1;33m\u001b[0m\u001b[1;33m\u001b[0m\u001b[0m\n\u001b[0;32m      5\u001b[0m \u001b[1;32mimport\u001b[0m \u001b[0mnumpy\u001b[0m \u001b[1;32mas\u001b[0m \u001b[0mnp\u001b[0m\u001b[1;33m\u001b[0m\u001b[1;33m\u001b[0m\u001b[0m\n",
      "\u001b[1;32m~\\anaconda3\\envs\\learn-env\\lib\\site-packages\\tensorflow\\__init__.py\u001b[0m in \u001b[0;36m<module>\u001b[1;34m\u001b[0m\n\u001b[0;32m     35\u001b[0m \u001b[1;32mimport\u001b[0m \u001b[0mtyping\u001b[0m \u001b[1;32mas\u001b[0m \u001b[0m_typing\u001b[0m\u001b[1;33m\u001b[0m\u001b[1;33m\u001b[0m\u001b[0m\n\u001b[0;32m     36\u001b[0m \u001b[1;33m\u001b[0m\u001b[0m\n\u001b[1;32m---> 37\u001b[1;33m \u001b[1;32mfrom\u001b[0m \u001b[0mtensorflow\u001b[0m\u001b[1;33m.\u001b[0m\u001b[0mpython\u001b[0m\u001b[1;33m.\u001b[0m\u001b[0mtools\u001b[0m \u001b[1;32mimport\u001b[0m \u001b[0mmodule_util\u001b[0m \u001b[1;32mas\u001b[0m \u001b[0m_module_util\u001b[0m\u001b[1;33m\u001b[0m\u001b[1;33m\u001b[0m\u001b[0m\n\u001b[0m\u001b[0;32m     38\u001b[0m \u001b[1;32mfrom\u001b[0m \u001b[0mtensorflow\u001b[0m\u001b[1;33m.\u001b[0m\u001b[0mpython\u001b[0m\u001b[1;33m.\u001b[0m\u001b[0mutil\u001b[0m\u001b[1;33m.\u001b[0m\u001b[0mlazy_loader\u001b[0m \u001b[1;32mimport\u001b[0m \u001b[0mLazyLoader\u001b[0m \u001b[1;32mas\u001b[0m \u001b[0m_LazyLoader\u001b[0m\u001b[1;33m\u001b[0m\u001b[1;33m\u001b[0m\u001b[0m\n\u001b[0;32m     39\u001b[0m \u001b[1;33m\u001b[0m\u001b[0m\n",
      "\u001b[1;32m~\\anaconda3\\envs\\learn-env\\lib\\site-packages\\tensorflow\\python\\__init__.py\u001b[0m in \u001b[0;36m<module>\u001b[1;34m\u001b[0m\n\u001b[0;32m     38\u001b[0m \u001b[1;31m# pylint: disable=wildcard-import,g-bad-import-order,g-import-not-at-top\u001b[0m\u001b[1;33m\u001b[0m\u001b[1;33m\u001b[0m\u001b[1;33m\u001b[0m\u001b[0m\n\u001b[0;32m     39\u001b[0m \u001b[1;33m\u001b[0m\u001b[0m\n\u001b[1;32m---> 40\u001b[1;33m \u001b[1;32mfrom\u001b[0m \u001b[0mtensorflow\u001b[0m\u001b[1;33m.\u001b[0m\u001b[0mpython\u001b[0m\u001b[1;33m.\u001b[0m\u001b[0meager\u001b[0m \u001b[1;32mimport\u001b[0m \u001b[0mcontext\u001b[0m\u001b[1;33m\u001b[0m\u001b[1;33m\u001b[0m\u001b[0m\n\u001b[0m\u001b[0;32m     41\u001b[0m \u001b[1;33m\u001b[0m\u001b[0m\n\u001b[0;32m     42\u001b[0m \u001b[1;31m# pylint: enable=wildcard-import\u001b[0m\u001b[1;33m\u001b[0m\u001b[1;33m\u001b[0m\u001b[1;33m\u001b[0m\u001b[0m\n",
      "\u001b[1;32m~\\anaconda3\\envs\\learn-env\\lib\\site-packages\\tensorflow\\python\\eager\\context.py\u001b[0m in \u001b[0;36m<module>\u001b[1;34m\u001b[0m\n\u001b[0;32m     31\u001b[0m \u001b[1;33m\u001b[0m\u001b[0m\n\u001b[0;32m     32\u001b[0m \u001b[1;32mfrom\u001b[0m \u001b[0mtensorflow\u001b[0m\u001b[1;33m.\u001b[0m\u001b[0mcore\u001b[0m\u001b[1;33m.\u001b[0m\u001b[0mframework\u001b[0m \u001b[1;32mimport\u001b[0m \u001b[0mfunction_pb2\u001b[0m\u001b[1;33m\u001b[0m\u001b[1;33m\u001b[0m\u001b[0m\n\u001b[1;32m---> 33\u001b[1;33m \u001b[1;32mfrom\u001b[0m \u001b[0mtensorflow\u001b[0m\u001b[1;33m.\u001b[0m\u001b[0mcore\u001b[0m\u001b[1;33m.\u001b[0m\u001b[0mprotobuf\u001b[0m \u001b[1;32mimport\u001b[0m \u001b[0mconfig_pb2\u001b[0m\u001b[1;33m\u001b[0m\u001b[1;33m\u001b[0m\u001b[0m\n\u001b[0m\u001b[0;32m     34\u001b[0m \u001b[1;32mfrom\u001b[0m \u001b[0mtensorflow\u001b[0m\u001b[1;33m.\u001b[0m\u001b[0mcore\u001b[0m\u001b[1;33m.\u001b[0m\u001b[0mprotobuf\u001b[0m \u001b[1;32mimport\u001b[0m \u001b[0mrewriter_config_pb2\u001b[0m\u001b[1;33m\u001b[0m\u001b[1;33m\u001b[0m\u001b[0m\n\u001b[0;32m     35\u001b[0m \u001b[1;32mfrom\u001b[0m \u001b[0mtensorflow\u001b[0m\u001b[1;33m.\u001b[0m\u001b[0mpython\u001b[0m \u001b[1;32mimport\u001b[0m \u001b[0mpywrap_tfe\u001b[0m\u001b[1;33m\u001b[0m\u001b[1;33m\u001b[0m\u001b[0m\n",
      "\u001b[1;32m~\\anaconda3\\envs\\learn-env\\lib\\site-packages\\tensorflow\\core\\protobuf\\config_pb2.py\u001b[0m in \u001b[0;36m<module>\u001b[1;34m\u001b[0m\n\u001b[0;32m     18\u001b[0m \u001b[1;32mfrom\u001b[0m \u001b[0mtensorflow\u001b[0m\u001b[1;33m.\u001b[0m\u001b[0mcore\u001b[0m\u001b[1;33m.\u001b[0m\u001b[0mprotobuf\u001b[0m \u001b[1;32mimport\u001b[0m \u001b[0mdebug_pb2\u001b[0m \u001b[1;32mas\u001b[0m \u001b[0mtensorflow_dot_core_dot_protobuf_dot_debug__pb2\u001b[0m\u001b[1;33m\u001b[0m\u001b[1;33m\u001b[0m\u001b[0m\n\u001b[0;32m     19\u001b[0m \u001b[1;32mfrom\u001b[0m \u001b[0mtensorflow\u001b[0m\u001b[1;33m.\u001b[0m\u001b[0mcore\u001b[0m\u001b[1;33m.\u001b[0m\u001b[0mprotobuf\u001b[0m \u001b[1;32mimport\u001b[0m \u001b[0mrewriter_config_pb2\u001b[0m \u001b[1;32mas\u001b[0m \u001b[0mtensorflow_dot_core_dot_protobuf_dot_rewriter__config__pb2\u001b[0m\u001b[1;33m\u001b[0m\u001b[1;33m\u001b[0m\u001b[0m\n\u001b[1;32m---> 20\u001b[1;33m \u001b[1;32mfrom\u001b[0m \u001b[0mtensorflow\u001b[0m\u001b[1;33m.\u001b[0m\u001b[0mcore\u001b[0m\u001b[1;33m.\u001b[0m\u001b[0mprotobuf\u001b[0m \u001b[1;32mimport\u001b[0m \u001b[0mrpc_options_pb2\u001b[0m \u001b[1;32mas\u001b[0m \u001b[0mtensorflow_dot_core_dot_protobuf_dot_rpc__options__pb2\u001b[0m\u001b[1;33m\u001b[0m\u001b[1;33m\u001b[0m\u001b[0m\n\u001b[0m\u001b[0;32m     21\u001b[0m \u001b[1;32mtry\u001b[0m\u001b[1;33m:\u001b[0m\u001b[1;33m\u001b[0m\u001b[1;33m\u001b[0m\u001b[0m\n\u001b[0;32m     22\u001b[0m   \u001b[0mtensorflow_dot_tsl_dot_protobuf_dot_rpc__options__pb2\u001b[0m \u001b[1;33m=\u001b[0m \u001b[0mtensorflow_dot_core_dot_protobuf_dot_rpc__options__pb2\u001b[0m\u001b[1;33m.\u001b[0m\u001b[0mtensorflow_dot_tsl_dot_protobuf_dot_rpc__options__pb2\u001b[0m\u001b[1;33m\u001b[0m\u001b[1;33m\u001b[0m\u001b[0m\n",
      "\u001b[1;32m~\\anaconda3\\envs\\learn-env\\lib\\site-packages\\tensorflow\\core\\protobuf\\rpc_options_pb2.py\u001b[0m in \u001b[0;36m<module>\u001b[1;34m\u001b[0m\n\u001b[0;32m     12\u001b[0m \u001b[1;33m\u001b[0m\u001b[0m\n\u001b[0;32m     13\u001b[0m \u001b[1;33m\u001b[0m\u001b[0m\n\u001b[1;32m---> 14\u001b[1;33m \u001b[1;32mfrom\u001b[0m \u001b[0mtensorflow\u001b[0m\u001b[1;33m.\u001b[0m\u001b[0mtsl\u001b[0m\u001b[1;33m.\u001b[0m\u001b[0mprotobuf\u001b[0m \u001b[1;32mimport\u001b[0m \u001b[0mrpc_options_pb2\u001b[0m \u001b[1;32mas\u001b[0m \u001b[0mtensorflow_dot_tsl_dot_protobuf_dot_rpc__options__pb2\u001b[0m\u001b[1;33m\u001b[0m\u001b[1;33m\u001b[0m\u001b[0m\n\u001b[0m\u001b[0;32m     15\u001b[0m \u001b[1;33m\u001b[0m\u001b[0m\n\u001b[0;32m     16\u001b[0m \u001b[1;32mfrom\u001b[0m \u001b[0mtensorflow\u001b[0m\u001b[1;33m.\u001b[0m\u001b[0mtsl\u001b[0m\u001b[1;33m.\u001b[0m\u001b[0mprotobuf\u001b[0m\u001b[1;33m.\u001b[0m\u001b[0mrpc_options_pb2\u001b[0m \u001b[1;32mimport\u001b[0m \u001b[1;33m*\u001b[0m\u001b[1;33m\u001b[0m\u001b[1;33m\u001b[0m\u001b[0m\n",
      "\u001b[1;31mModuleNotFoundError\u001b[0m: No module named 'tensorflow.tsl'"
     ]
    }
   ],
   "source": [
    "import tensorflow as tf\n",
    "import pandas as pd \n",
    "import matplotlib as plt\n",
    "import matplotlib.pyplot as plt\n",
    "import numpy as np\n",
    "import warnings \n",
    "warnings.filterwarnings('ignore')\n",
    "\n",
    "%matplotlib inline\n",
    "plt.style.use('ggplot')\n",
    "plt.style.use('fivethirtyeight')"
   ]
  },
  {
   "cell_type": "code",
   "execution_count": null,
   "metadata": {},
   "outputs": [],
   "source": [
    "# bring in our 'county_ed' dataset \n",
    "df1 = pd.read_csv('data/county_ed.csv')\n",
    "df1.head()"
   ]
  },
  {
   "cell_type": "code",
   "execution_count": null,
   "metadata": {
    "scrolled": true
   },
   "outputs": [],
   "source": [
    "# Since we are only planning on focusing on the rop 5 producing counties for the scope of this project, call on .head() to\n",
    "# get those 5 counties. \n",
    "df1 = df1.sort_values('2017 Census of Agriculture Rank(Crops)', ascending = True)\n",
    "df1.head()"
   ]
  },
  {
   "cell_type": "code",
   "execution_count": null,
   "metadata": {},
   "outputs": [],
   "source": [
    "# Bring in the 'counties.csv' dataset from our EDA_notebook. This data will already be pruned and marked in the EDA_notebook\n",
    "df = pd.read_csv('data/counties.csv')\n",
    "df.head()"
   ]
  },
  {
   "cell_type": "code",
   "execution_count": null,
   "metadata": {},
   "outputs": [],
   "source": [
    "df.set_index('month_year', inplace = True)"
   ]
  },
  {
   "cell_type": "code",
   "execution_count": null,
   "metadata": {},
   "outputs": [],
   "source": [
    "# import adfuller\n",
    "from statsmodels.tsa.stattools import adfuller\n",
    "\n",
    "# import diff() function from our work_shown notebook\n",
    "def diff(county): \n",
    "    county = county.sort_index()\n",
    "    county = county.drop(['Area Name', \n",
    "                          'Labor Force', \n",
    "                          'Employment', \n",
    "                          'Unemployment'],\n",
    "                       axis =1)\n",
    "    \n",
    "    county_diff = county.diff(periods =1)\n",
    "    county_diff = county_diff.dropna()\n",
    "\n",
    "# Plot county with trends removed\n",
    "    county_diff.plot(figsize = (18,6))\n",
    "    plt.xlabel('Year', fontsize = 18)\n",
    "    plt.ylabel('Unemployment Rate')\n",
    "    plt.title(\"Stationary data\", fontsize = 18);\n",
    "\n",
    "    dftest = adfuller(county_diff)\n",
    "\n",
    "# Display testing data \n",
    "    dfoutput = pd.Series(\n",
    "                dftest[0:4], \n",
    "                index=['Test Statistic',\n",
    "                       'p-value',\n",
    "                       '#Lags Used',\n",
    "                       'Number of Observations Used']\n",
    "    )\n",
    "\n",
    "    for key,value in dftest[4].items():\n",
    "        dfoutput['Critical Value (%s)'%key] = value\n",
    "    \n",
    "    display(dfoutput)"
   ]
  },
  {
   "cell_type": "code",
   "execution_count": null,
   "metadata": {},
   "outputs": [],
   "source": [
    "# import adfuller\n",
    "from statsmodels.tsa.stattools import adfuller\n",
    "\n",
    "# import diff() function from our work_shown notebook\n",
    "def diff_unemployment(county): \n",
    "    county = county.sort_index()\n",
    "    county = county.drop(['Area Name', \n",
    "                          'Labor Force', \n",
    "                          'Employment', \n",
    "                          'Unemployment Rate'],\n",
    "                       axis =1)\n",
    "    \n",
    "    county_diff = county.diff(periods =1)\n",
    "    county_diff = county_diff.dropna()\n",
    "\n",
    "# Plot county with trends removed\n",
    "    county_diff.plot(figsize = (18,6))\n",
    "    plt.xlabel('Year', fontsize = 18)\n",
    "    plt.ylabel('Unemployment Rate')\n",
    "    plt.title(\"Stationary data\", fontsize = 18);\n",
    "\n",
    "    dftest = adfuller(county_diff)\n",
    "\n",
    "# Display testing data \n",
    "    dfoutput = pd.Series(\n",
    "                dftest[0:4], \n",
    "                index=['Test Statistic',\n",
    "                       'p-value',\n",
    "                       '#Lags Used',\n",
    "                       'Number of Observations Used']\n",
    "    )\n",
    "\n",
    "    for key,value in dftest[4].items():\n",
    "        dfoutput['Critical Value (%s)'%key] = value\n",
    "    \n",
    "    display(dfoutput)"
   ]
  },
  {
   "cell_type": "code",
   "execution_count": null,
   "metadata": {},
   "outputs": [],
   "source": [
    "# Break dataset into county areas using county name minus \n",
    "# the word, 'county' in variable name \n",
    "Los_Angeles = df.loc[df['Area Name'] == 'Los Angeles County']\n",
    "Alameda = df.loc[df['Area Name'] == 'Alameda County']\n",
    "San_Bernardino = df.loc[df['Area Name'] == 'San Bernardino County']\n",
    "Riverside = df.loc[df['Area Name'] == 'Riverside County']\n",
    "Placer = df.loc[df['Area Name'] == 'Placer County']\n",
    "Siskiyou = df.loc[df['Area Name'] == 'Siskiyou County']\n",
    "Madera = df.loc[df['Area Name'] == 'Madera County']\n",
    "El_Dorado = df.loc[df['Area Name'] == 'El Dorado County']\n",
    "Calaveras = df.loc[df['Area Name'] == 'Calaveras County']\n",
    "Sutter = df.loc[df['Area Name'] == 'Sutter County']\n",
    "Colusa = df.loc[df['Area Name'] == 'Colusa County']\n",
    "Butte = df.loc[df['Area Name'] == 'Butte County']\n",
    "Lake = df.loc[df['Area Name'] == 'Lake County']\n",
    "Yuba = df.loc[df['Area Name'] == 'Yuba County']\n",
    "Del_Norte = df.loc[df['Area Name'] == 'Del Norte County']\n",
    "Yolo = df.loc[df['Area Name'] == 'Yolo County']\n",
    "San_Diego = df.loc[df['Area Name'] == 'San Diego County']\n",
    "Humboldt = df.loc[df['Area Name'] == 'Humboldt County']\n",
    "Amador = df.loc[df['Area Name'] == 'Amador County']\n",
    "Glenn = df.loc[df['Area Name'] == 'Glenn County']\n",
    "Mono = df.loc[df['Area Name'] == 'Mono County']\n",
    "Ventura = df.loc[df['Area Name'] == 'Ventura County']\n",
    "Plumas = df.loc[df['Area Name'] == 'Plumas County']\n",
    "Solano = df.loc[df['Area Name'] == 'Solano County']\n",
    "Napa = df.loc[df['Area Name'] == 'Napa County']\n",
    "San_Luis_Obispo = df.loc[df['Area Name'] == 'San Luis Obispo County']\n",
    "Tuolumne = df.loc[df['Area Name'] == 'Tuolumne County']\n",
    "Alpine = df.loc[df['Area Name'] == 'Alpine County']\n",
    "Sierra = df.loc[df['Area Name'] == 'Sierra County']\n",
    "Tehama = df.loc[df['Area Name'] == 'Tehama County']\n",
    "Marin = df.loc[df['Area Name'] == 'Marin County']\n",
    "Trinity = df.loc[df['Area Name'] == 'Trinity County']\n",
    "Monterey = df.loc[df['Area Name'] == 'Monterey County']\n",
    "Orange = df.loc[df['Area Name'] == 'Orange County']\n",
    "San_Francisco = df.loc[df['Area Name'] == 'San Francisco County']\n",
    "Mendocino = df.loc[df['Area Name'] == 'Mendocino County']\n",
    "Santa_Cruz = df.loc[df['Area Name'] == 'Santa Cruz County']\n",
    "Kings = df.loc[df['Area Name'] == 'Kings County']\n",
    "Fresno = df.loc[df['Area Name'] == 'Fresno County']\n",
    "Santa_Barbara = df.loc[df['Area Name'] == 'Santa Barbara County']\n",
    "Shasta = df.loc[df['Area Name'] == 'Shasta County']\n",
    "Sonoma = df.loc[df['Area Name'] == 'Sonoma County']\n",
    "Kern = df.loc[df['Area Name'] == 'Kern County']\n",
    "Modoc = df.loc[df['Area Name'] == 'Modoc County']\n",
    "Sacramento = df.loc[df['Area Name'] == 'Sacramento County']\n",
    "Santa_Clara = df.loc[df['Area Name'] == 'Santa Clara County']\n",
    "San_Joaquin = df.loc[df['Area Name'] == 'San Joaquin County']\n",
    "Nevada = df.loc[df['Area Name'] == 'Nevada County']\n",
    "Mariposa = df.loc[df['Area Name'] == 'Mariposa County']\n",
    "Tulare = df.loc[df['Area Name'] == 'Tulare County']\n",
    "Contra_Costa = df.loc[df['Area Name'] == 'Contra Costa County']\n",
    "Merced = df.loc[df['Area Name'] == 'Merced County']\n",
    "San_Benito = df.loc[df['Area Name'] == 'San Benito County']\n",
    "Lassen = df.loc[df['Area Name'] == 'Lassen County']\n",
    "San_Mateo = df.loc[df['Area Name'] == 'San Mateo County']\n",
    "Stanislaus = df.loc[df['Area Name'] == 'Stanislaus County']\n",
    "Inyo = df.loc[df['Area Name'] == 'Inyo County']\n",
    "Imperial = df.loc[df['Area Name'] == 'Imperial County']"
   ]
  },
  {
   "cell_type": "markdown",
   "metadata": {},
   "source": [
    "## __[Fresno County](https://www.nass.usda.gov/Publications/AgCensus/2017/Online_Resources/County_Profiles/California/cp06019.pdf)__ Stationary Data\n",
    "\n",
    "Fresno County, the number one crop producing county in California has services available for migrant and farm workers to receive high school equivalent educations through several programs. One program that I am familiar with is through West Hills College and the __[Migrant High School Equivalency Program](https://westhillscollege.com/lemoore/resources/student-support/high-school-equivalency/)__ as well as college prep course through their __[College Assistance Migrant Program (CAMP)](https://westhillscollege.com/coalinga/resources/student-support/camp/services.php)__. <br> "
   ]
  },
  {
   "cell_type": "code",
   "execution_count": null,
   "metadata": {},
   "outputs": [],
   "source": [
    "# call our diff() function on Fresno county data to make stationary\n",
    "Fresno_stationary = diff(Fresno)\n",
    "Fresno_stationary"
   ]
  },
  {
   "cell_type": "code",
   "execution_count": null,
   "metadata": {},
   "outputs": [],
   "source": [
    "Fresno.tail()"
   ]
  },
  {
   "cell_type": "code",
   "execution_count": null,
   "metadata": {},
   "outputs": [],
   "source": [
    "# Drop columns to prep data for time series analysis\n",
    "Fresno_tsa = Fresno.drop(['Area Name', \n",
    "             'Labor Force',\n",
    "             'Employment', \n",
    "             'Unemployment'], axis =1 )\n",
    "Fresno_tsa.head()"
   ]
  },
  {
   "cell_type": "code",
   "execution_count": null,
   "metadata": {},
   "outputs": [],
   "source": [
    "# replicate stationary data\n",
    "Fresno_arma = Fresno_tsa.diff(periods =1)"
   ]
  },
  {
   "cell_type": "code",
   "execution_count": null,
   "metadata": {},
   "outputs": [],
   "source": [
    "# create cutoff variable for train/test split\n",
    "cutoff = round(Fresno_arma.shape[0] * 0.75)\n",
    "cutoff"
   ]
  },
  {
   "cell_type": "markdown",
   "metadata": {},
   "source": [
    "Cell is being used as a holder for the graph function below: \n",
    "\n",
    "xmin, xmax = ax.get_xlim()\n",
    "ax.set_xticks(np.round(np.linspace(xmin, xmax), 2))\n"
   ]
  },
  {
   "cell_type": "code",
   "execution_count": null,
   "metadata": {},
   "outputs": [],
   "source": [
    "# plot our new split \n",
    "train = Fresno_arma[:cutoff]\n",
    "test = Fresno_arma[cutoff: ]\n",
    "\n",
    "fig, ax = plt.subplots(figsize = (12,8))\n",
    "plt.xticks(fontsize=8, rotation=90)\n",
    "ax.plot(train, label = 'Train')\n",
    "ax.plot(test, label = 'Test')\n",
    "ax.set_title('Fresno County Train/Test Split')\n",
    "ax.set_xticks(range(0,len(Fresno_arma), 12)) \n",
    "\n",
    "plt.legend();"
   ]
  },
  {
   "cell_type": "code",
   "execution_count": null,
   "metadata": {},
   "outputs": [],
   "source": [
    "# import acf, pacf and plotting tools \n",
    "from statsmodels.tsa.stattools import acf, pacf \n",
    "from statsmodels.graphics.tsaplots import plot_acf, plot_pacf\n",
    "\n",
    "plot_acf(Fresno_arma.dropna());"
   ]
  },
  {
   "cell_type": "code",
   "execution_count": null,
   "metadata": {
    "scrolled": true
   },
   "outputs": [],
   "source": [
    "# plot pacf and get our ar term\n",
    "plot_pacf(Fresno_arma.dropna());"
   ]
  },
  {
   "cell_type": "code",
   "execution_count": null,
   "metadata": {},
   "outputs": [],
   "source": [
    "# import ARIMA from statsmodels.tsa.arima.model\n",
    "\n",
    "# Let's create our baseline model \n",
    "from statsmodels.tsa.arima.model import ARIMA\n",
    "arma_Fresno = ARIMA(train, order = (0,0,0)).fit()"
   ]
  },
  {
   "cell_type": "code",
   "execution_count": null,
   "metadata": {},
   "outputs": [],
   "source": [
    "print(arma_Fresno.summary())"
   ]
  },
  {
   "cell_type": "code",
   "execution_count": null,
   "metadata": {},
   "outputs": [],
   "source": [
    "train = train.dropna()"
   ]
  },
  {
   "cell_type": "code",
   "execution_count": null,
   "metadata": {},
   "outputs": [],
   "source": [
    "y_hat = arma_Fresno.predict(type='levels')\n",
    "y_hat = y_hat[1:]"
   ]
  },
  {
   "cell_type": "code",
   "execution_count": null,
   "metadata": {},
   "outputs": [],
   "source": [
    "# RMSE on our baseline predictor\n",
    "\n",
    "# import mean_squared_error from sklearn.metrics\n",
    "from sklearn.metrics import mean_squared_error\n",
    "\n",
    "\n",
    "np.sqrt(mean_squared_error(train, y_hat))"
   ]
  },
  {
   "cell_type": "markdown",
   "metadata": {},
   "source": [
    "We will need to figure out how to address acf and pacf. Perhaps a gridsearch function with all of the potential values that could improve our AIC score. "
   ]
  },
  {
   "cell_type": "markdown",
   "metadata": {},
   "source": [
    "### Gridsearch Function\n",
    "\n",
    "Thank you to Ely and their article from https://medium.com/@ely-lin/grid-searching-time-series-models-1214dfa3de60 for the two functions below. These function as gridsearch functions and will tell us our best model performance."
   ]
  },
  {
   "cell_type": "code",
   "execution_count": null,
   "metadata": {},
   "outputs": [],
   "source": [
    "def gridsearch(dataset, p_list, d_list, q_list):\n",
    "    # set initial best AIC score at infinity to start lowering it\n",
    "    best_aic=float('inf')\n",
    "    for p in p_list:\n",
    "        for d in d_list:\n",
    "            for q in q_list:\n",
    "                try:\n",
    "                    # fit the model to this set of parameters\n",
    "                    model = ARIMA(dataset, order=(p,d,q)).fit()\n",
    "                    # assign the model's aic attribute to a variable\n",
    "                    aic = model.aic\n",
    "                    # compare it to the previous set                               \n",
    "                    if aic < best_aic:\n",
    "                        best_aic=aic\n",
    "                        best_order = (p,d,q)\n",
    "                        best_model = model\n",
    "                except:\n",
    "                    continue\n",
    "    return best_aic, best_order, best_model"
   ]
  },
  {
   "cell_type": "code",
   "execution_count": null,
   "metadata": {},
   "outputs": [],
   "source": [
    "## Uncomment whole cell to run \n",
    "\n",
    "## runs gridsearch on train, will take about 7 minutes\n",
    "\n",
    "# b_aic, b_order, b_model = gridsearch(train,\n",
    "#                                      [0,6,12,18],\n",
    "#                                      [1,2,3,4,5,6],\n",
    "#                                      [0,6,12,18])\n",
    "# print(f'The best AIC score is {b_aic}')\n",
    "# print(f'The best order set is {b_order}')\n",
    "\n",
    "## Expected Output: The best AIC score is -1960.1035756349838\n",
    "## Expected Output: The best order set is (18, 1, 0)"
   ]
  },
  {
   "cell_type": "code",
   "execution_count": null,
   "metadata": {},
   "outputs": [],
   "source": [
    "arma_Fresno = ARIMA(train, order = (18,1,0)).fit()"
   ]
  },
  {
   "cell_type": "code",
   "execution_count": null,
   "metadata": {},
   "outputs": [],
   "source": [
    "print(arma_Fresno.summary())"
   ]
  },
  {
   "cell_type": "code",
   "execution_count": null,
   "metadata": {},
   "outputs": [],
   "source": [
    "# Because there is a drift of 1 we will have to drop nulls\n",
    "train = train.dropna()"
   ]
  },
  {
   "cell_type": "code",
   "execution_count": null,
   "metadata": {},
   "outputs": [],
   "source": [
    "# RMSE for our new model \n",
    "y_hat = arma_Fresno.predict(typ='levels')\n",
    "np.sqrt(mean_squared_error(train,y_hat))"
   ]
  },
  {
   "cell_type": "code",
   "execution_count": null,
   "metadata": {},
   "outputs": [],
   "source": [
    "# fit same ARIMA parameters to  test set \n",
    "arma_Fresno_test = ARIMA(test, order = (18,1,0)).fit()"
   ]
  },
  {
   "cell_type": "code",
   "execution_count": null,
   "metadata": {},
   "outputs": [],
   "source": [
    "# Get aic score for test score\n",
    "print(arma_Fresno_test.aic)"
   ]
  },
  {
   "cell_type": "code",
   "execution_count": null,
   "metadata": {},
   "outputs": [],
   "source": [
    "# RMSE score for test data\n",
    "y_hat = arma_Fresno_test.predict(typ='levels')\n",
    "np.sqrt(mean_squared_error(test, y_hat))"
   ]
  },
  {
   "cell_type": "markdown",
   "metadata": {},
   "source": [
    "### Predict Fresno County's incoming unemployment rates\n",
    "\n",
    "Our prophet model did not perform better than our gridsearch model, we will move forward with the gridsearch model and use that to make some predictions on the next year. "
   ]
  },
  {
   "cell_type": "code",
   "execution_count": null,
   "metadata": {},
   "outputs": [],
   "source": [
    "forecast = arma_Fresno.forecast(112)\n",
    "forecast"
   ]
  },
  {
   "cell_type": "code",
   "execution_count": null,
   "metadata": {},
   "outputs": [],
   "source": [
    "forecast.index.tolist()"
   ]
  },
  {
   "cell_type": "code",
   "execution_count": null,
   "metadata": {},
   "outputs": [],
   "source": [
    "test.index.tolist()"
   ]
  },
  {
   "cell_type": "code",
   "execution_count": null,
   "metadata": {},
   "outputs": [],
   "source": [
    "forecast = pd.DataFrame(forecast)"
   ]
  },
  {
   "cell_type": "code",
   "execution_count": null,
   "metadata": {},
   "outputs": [],
   "source": [
    "forecast.tail()"
   ]
  },
  {
   "cell_type": "code",
   "execution_count": null,
   "metadata": {},
   "outputs": [],
   "source": [
    "list = ['2014-10',\n",
    " '2014-09',\n",
    " '2015-04',\n",
    " '2015-08',\n",
    " '2015-12',\n",
    " '2015-02',\n",
    " '2015-01',\n",
    " '2015-07',\n",
    " '2015-06',\n",
    " '2015-03',\n",
    " '2015-05',\n",
    " '2015-11',\n",
    " '2015-10',\n",
    " '2015-09',\n",
    " '2016-04',\n",
    " '2016-08',\n",
    " '2016-12',\n",
    " '2016-02',\n",
    " '2016-01',\n",
    " '2016-07',\n",
    " '2016-06',\n",
    " '2016-03',\n",
    " '2016-05',\n",
    " '2016-11',\n",
    " '2016-10',\n",
    " '2016-09',\n",
    " '2017-04',\n",
    " '2017-08',\n",
    " '2017-12',\n",
    " '2017-02',\n",
    " '2017-01',\n",
    " '2017-07',\n",
    " '2017-06',\n",
    " '2017-03',\n",
    " '2017-05',\n",
    " '2017-11',\n",
    " '2017-10',\n",
    " '2017-09',\n",
    " '2018-04',\n",
    " '2018-08',\n",
    " '2018-12',\n",
    " '2018-02',\n",
    " '2018-01',\n",
    " '2018-07',\n",
    " '2018-06',\n",
    " '2018-03',\n",
    " '2018-05',\n",
    " '2018-11',\n",
    " '2018-10',\n",
    " '2018-09',\n",
    " '2019-04',\n",
    " '2019-08',\n",
    " '2019-12',\n",
    " '2019-02',\n",
    " '2019-01',\n",
    " '2019-07',\n",
    " '2019-06',\n",
    " '2019-03',\n",
    " '2019-05',\n",
    " '2019-11',\n",
    " '2019-10',\n",
    " '2019-09',\n",
    " '2020-04',\n",
    " '2020-08',\n",
    " '2020-12',\n",
    " '2020-02',\n",
    " '2020-01',\n",
    " '2020-07',\n",
    " '2020-06',\n",
    " '2020-03',\n",
    " '2020-05',\n",
    " '2020-11',\n",
    " '2020-10',\n",
    " '2020-09',\n",
    " '2021-04',\n",
    " '2021-08',\n",
    " '2021-12',\n",
    " '2021-02',\n",
    " '2021-01',\n",
    " '2021-07',\n",
    " '2021-06',\n",
    " '2021-03',\n",
    " '2021-05',\n",
    " '2021-11',\n",
    " '2021-10',\n",
    " '2021-09',\n",
    " '2022-04',\n",
    " '2022-08',\n",
    " '2022-02',\n",
    " '2022-01',\n",
    " '2022-07',\n",
    " '2022-06',\n",
    " '2022-03',\n",
    " '2022-05',\n",
    " '2022-11',\n",
    " '2022-10',\n",
    " '2022-09',\n",
    " '2023-02',\n",
    " '2023-01',\n",
    " '2023-03',\n",
    "       '2023-04',\n",
    "       '2023-05',\n",
    "       '2023-06',\n",
    "       '2023-07',\n",
    "       '2023-08',\n",
    "       '2023-09',\n",
    "       '2023-10',\n",
    "       '2023-11',\n",
    "       '2023-12',\n",
    "       '2024-01',\n",
    "       '2024-02',\n",
    "       '2024-03'\n",
    "       ]\n",
    "\n",
    "forecast['Year'] = list\n",
    "\n",
    "forecast"
   ]
  },
  {
   "cell_type": "code",
   "execution_count": null,
   "metadata": {},
   "outputs": [],
   "source": [
    "forecast = forecast.set_index('Year')"
   ]
  },
  {
   "cell_type": "code",
   "execution_count": null,
   "metadata": {},
   "outputs": [],
   "source": [
    "fig, ax = plt.subplots(figsize = (12,8))\n",
    "plt.xticks(fontsize=8, rotation=90)\n",
    "xmin, xmax = ax.get_xlim()\n",
    "ax.set_xticks(np.round(np.linspace(xmin, xmax), 2))\n",
    "ax.plot(train, label = 'Train')\n",
    "ax.plot(forecast, label = 'Forecast')\n",
    "ax.plot(test, label = 'Test')\n",
    "ax.set_title('Fresno County Unemployment Rate Prediction to 2023')\n",
    "ax.set_xlabel('Year')\n",
    "ax.set_xticks(range(0,len(Fresno_arma), 12)) \n",
    "ax.legend();"
   ]
  },
  {
   "cell_type": "markdown",
   "metadata": {},
   "source": [
    "According to our predictive model (set for 12 months from March 2023) we will see a lower rate of unemployment than we have historically. "
   ]
  },
  {
   "cell_type": "markdown",
   "metadata": {},
   "source": [
    "### FB Prophet: Fresno\n",
    "\n",
    "Let's try Facebook's Prophet model to see if we can create a better performant model than our Gridsearch Function. "
   ]
  },
  {
   "cell_type": "code",
   "execution_count": null,
   "metadata": {},
   "outputs": [],
   "source": [
    "# import tools for prophet\n",
    "from prophet.plot import plot_plotly, plot_components_plotly\n",
    "from fbprophet import Prophet"
   ]
  },
  {
   "cell_type": "code",
   "execution_count": null,
   "metadata": {},
   "outputs": [],
   "source": [
    "# Call on original 'Fresno' variable and reset_index()\n",
    "fresno = Fresno.copy()\n",
    "Fresno = Fresno.reset_index()"
   ]
  },
  {
   "cell_type": "code",
   "execution_count": null,
   "metadata": {},
   "outputs": [],
   "source": [
    "Fresno = Fresno.drop(['Area Name', 'Labor Force', 'Employment',\n",
    "             'Unemployment'], axis =1)"
   ]
  },
  {
   "cell_type": "code",
   "execution_count": null,
   "metadata": {},
   "outputs": [],
   "source": [
    "Fresno.head()"
   ]
  },
  {
   "cell_type": "code",
   "execution_count": null,
   "metadata": {},
   "outputs": [],
   "source": [
    "# Based on documentation, column names are hard coded as 'ds' and 'y'\n",
    "Fresno.columns = ['ds', 'y']"
   ]
  },
  {
   "cell_type": "code",
   "execution_count": null,
   "metadata": {},
   "outputs": [],
   "source": [
    "Fresno['ds'] = pd.to_datetime(Fresno['ds'])\n",
    "Fresno.tail()"
   ]
  },
  {
   "cell_type": "code",
   "execution_count": null,
   "metadata": {
    "scrolled": true
   },
   "outputs": [],
   "source": [
    "# plot data, should look fairly familiar \n",
    "Fresno.plot(x='ds', y='y', figsize = (18,6))"
   ]
  },
  {
   "cell_type": "code",
   "execution_count": null,
   "metadata": {},
   "outputs": [],
   "source": [
    "len(Fresno)"
   ]
  },
  {
   "cell_type": "code",
   "execution_count": null,
   "metadata": {},
   "outputs": [],
   "source": [
    "# call same cutoff block as before \n",
    "cutoff = round(Fresno.shape[0] * 0.75)\n",
    "    \n",
    "    # plot our new split \n",
    "train = Fresno[:cutoff]\n",
    "test = Fresno[cutoff: ]"
   ]
  },
  {
   "cell_type": "code",
   "execution_count": null,
   "metadata": {},
   "outputs": [],
   "source": [
    "# fit our prophet onto our training set and make some predictions, \n",
    "# for now we will just make predictions onto full test set to \n",
    "# test score and get RMSE for test set \n",
    "m = Prophet()\n",
    "m.fit(train)\n",
    "future = m.make_future_dataframe(periods = 100, freq = 'M')\n",
    "forecast = m.predict(future)"
   ]
  },
  {
   "cell_type": "code",
   "execution_count": null,
   "metadata": {},
   "outputs": [],
   "source": [
    "forecast.tail()"
   ]
  },
  {
   "cell_type": "code",
   "execution_count": null,
   "metadata": {},
   "outputs": [],
   "source": [
    "forecast[['ds', 'yhat', 'yhat_lower', 'yhat_upper']].tail()"
   ]
  },
  {
   "cell_type": "code",
   "execution_count": null,
   "metadata": {},
   "outputs": [],
   "source": [
    "test.tail()"
   ]
  },
  {
   "cell_type": "code",
   "execution_count": null,
   "metadata": {},
   "outputs": [],
   "source": [
    "# plot our sexy prophet model\n",
    "plot_plotly(m, forecast)"
   ]
  },
  {
   "cell_type": "code",
   "execution_count": null,
   "metadata": {},
   "outputs": [],
   "source": [
    "from statsmodels.tools.eval_measures import rmse"
   ]
  },
  {
   "cell_type": "code",
   "execution_count": null,
   "metadata": {},
   "outputs": [],
   "source": [
    "predictions = forecast.iloc[cutoff:]['yhat']"
   ]
  },
  {
   "cell_type": "code",
   "execution_count": null,
   "metadata": {},
   "outputs": [],
   "source": [
    "# Settle the bet, is this a better performant model than the previous one?\n",
    "print(\"Root Mean Squared Error between actual and  predicted values: \",rmse(predictions,test['y']))\n",
    "print(\"Mean Value of Test Dataset:\", test['y'].mean())\n",
    "     "
   ]
  },
  {
   "cell_type": "markdown",
   "metadata": {},
   "source": [
    "Though prophet was not able to create a better performant model than our gridsearch function, let's create a function that completes the steps from our prophet model. \n",
    "\n",
    "## FB Prophet Function"
   ]
  },
  {
   "cell_type": "code",
   "execution_count": null,
   "metadata": {},
   "outputs": [],
   "source": [
    "# function to return graph of county's historical unemployment rate and baseline prophet model along with RMSE score \n",
    "def prophet(county):\n",
    "    \n",
    "    county = county.reset_index()\n",
    "    \n",
    "    county = county.drop(['Area Name', 'Labor Force', 'Employment',\n",
    "             'Unemployment'], axis =1)\n",
    "    \n",
    "    county.columns = ['ds', 'y']\n",
    "    \n",
    "    county['ds'] = pd.to_datetime(county['ds'])\n",
    "    \n",
    "    \n",
    "    \n",
    "    cutoff = round(county.shape[0] * 0.75)\n",
    "    \n",
    "    train = county[:cutoff]\n",
    "    test = county[cutoff: ]\n",
    "    \n",
    "    m = Prophet()\n",
    "    m.fit(train)\n",
    "    future = m.make_future_dataframe(periods = 100, freq ='M')\n",
    "    forecast = m.predict(future)\n",
    "    \n",
    "    county.plot(x = 'ds', y = 'y', figsize = (18,6))\n",
    "    predictions = forecast.iloc[cutoff:]['yhat']\n",
    "    print(\"Root Mean Squared Error between actual and  predicted values: \",rmse(predictions,test['y']))\n",
    "    print(\"Mean Value of Test Dataset:\", test['y'].mean())\n",
    "    return plot_plotly(m, forecast)\n",
    "    return\n",
    "    \n",
    "\n",
    "       "
   ]
  },
  {
   "cell_type": "code",
   "execution_count": null,
   "metadata": {},
   "outputs": [],
   "source": [
    "# function to return graph of county's historical unemployment rate and baseline prophet model along with RMSE score \n",
    "def prophet_unemployment(county):\n",
    "    \n",
    "    county = county.reset_index()\n",
    "    \n",
    "    county = county.drop(['Area Name', 'Labor Force', 'Employment',\n",
    "             'Unemployment Rate'], axis =1)\n",
    "    \n",
    "    county.columns = ['ds', 'y']\n",
    "    \n",
    "    county['ds'] = pd.to_datetime(county['ds'])\n",
    "    \n",
    "    \n",
    "    \n",
    "    cutoff = round(county.shape[0] * 0.75)\n",
    "    \n",
    "    train = county[:cutoff]\n",
    "    test = county[cutoff: ]\n",
    "    \n",
    "    m = Prophet()\n",
    "    m.fit(train)\n",
    "    future = m.make_future_dataframe(periods = 100, freq ='M')\n",
    "    forecast = m.predict(future)\n",
    "    \n",
    "    county.plot(x = 'ds', y = 'y', figsize = (18,6))\n",
    "    predictions = forecast.iloc[cutoff:]['yhat']\n",
    "    print(\"Root Mean Squared Error between actual and  predicted values: \",rmse(predictions,test['y']))\n",
    "    print(\"Mean Value of Test Dataset:\", test['y'].mean())\n",
    "    return plot_plotly(m, forecast)\n",
    "    return\n",
    "    \n",
    "\n",
    "       "
   ]
  },
  {
   "cell_type": "markdown",
   "metadata": {},
   "source": [
    "## Effect on Unemployment \n",
    "\n",
    "The most recent data available regarding __[Fresno County](https://www.nass.usda.gov/Publications/AgCensus/2017/Online_Resources/County_Profiles/California/cp06019.pdf)__'s ag workforce (2017) puts the total number of workers at 8,206. These are split into: <br>\n",
    "- 5,554 male workers\n",
    "- 2,652 female workers  \n",
    "- 556 of which are under the age of 35 \n",
    "- 4,760 between the ages of 35-64\n",
    "- 2,890 who are 65 or older. <br> \n",
    "\n",
    "Likely not all candidates would make it through the entire educational program for trade schools, in fact according to __[Graduation Rates at American Trade School](https://www.univstats.com/colleges/american-trade-school/graduation-rate/)__ graduation rates of this specific trade school were slightly above 50% <br> \n",
    "\n",
    "Let's take a look at the number of actual unemployed and consider that 25% (a rudimentary estimate) of our total seasonally unemployed workers make it through a trade school and are able to be employed in trades. <br> \n",
    "\n",
    "For the sake of our hypothetical scenario we can consider that 25% of the total population of workers would apply for this program, and if 50% are expected to graduate: <br> \n",
    "\n",
    "- 2051.5 potential students at a 50% anticipated graduation rate\n",
    "    - 1025.75 converted students to active trade school grads"
   ]
  },
  {
   "cell_type": "code",
   "execution_count": null,
   "metadata": {},
   "outputs": [],
   "source": [
    "fresno = fresno.sort_index()"
   ]
  },
  {
   "cell_type": "markdown",
   "metadata": {},
   "source": [
    "Historically, February is the month with the highest level of unemployment. September looks to be the month of highest employment. With this in mind, let's take a look at our dataset's historical numbers; which year was February the highest in unemployment rate and the same for September. We could also just take median and do our research on that year. <br> \n",
    "\n",
    "Let's take 2017 (the year that we have # of employed ag/migrant workers figures) and base our effect on unemployment analysis on that.  "
   ]
  },
  {
   "cell_type": "code",
   "execution_count": null,
   "metadata": {},
   "outputs": [],
   "source": [
    "fresno.tail()"
   ]
  },
  {
   "cell_type": "code",
   "execution_count": null,
   "metadata": {},
   "outputs": [],
   "source": [
    "# Our most recent/last entry was 397, March 2023. We are looking for data that is from six years ago (72 months, \n",
    "# 74 if we start from January)\n",
    "fresno_2017 = fresno.iloc[324: 336]"
   ]
  },
  {
   "cell_type": "code",
   "execution_count": null,
   "metadata": {},
   "outputs": [],
   "source": [
    "fresno_2017"
   ]
  },
  {
   "cell_type": "markdown",
   "metadata": {},
   "source": [
    "For 2017, February was the highest level of unemployment with September being the lowest. Our proposed school year for Fresno County would be from October to March with the understanding that a large number of ag/migrant workers will still likely be unemployed/underemployed during this time and would potentially be able to take advantage of educational opportunities as they collect unemployment. <br> \n",
    "\n",
    "Let's consider that it may take up to two years (6 months to 1 year of full time education to deployment as previously stated) and take a look at the number of potential ag/migrant workers that would be fully employed and the effect it would potentially have on 2019's data. "
   ]
  },
  {
   "cell_type": "code",
   "execution_count": null,
   "metadata": {},
   "outputs": [],
   "source": [
    "fresno_2019 = fresno.iloc[348:360]\n",
    "fresno_2019_ur = fresno_2019.copy()"
   ]
  },
  {
   "cell_type": "code",
   "execution_count": null,
   "metadata": {},
   "outputs": [],
   "source": [
    "# labor force would be unaffected in this case as we have not actually introduced any new employable members\n",
    "fresno_2019['Employment'] = fresno_2019['Employment'].astype(int) + 1025\n",
    "\n",
    "\n"
   ]
  },
  {
   "cell_type": "code",
   "execution_count": null,
   "metadata": {},
   "outputs": [],
   "source": [
    "fresno_2019['Unemployment'] = fresno_2019['Unemployment'].astype(int) - 1025"
   ]
  },
  {
   "cell_type": "code",
   "execution_count": null,
   "metadata": {},
   "outputs": [],
   "source": [
    "# Unemployment Rate is unemployment/labor force\n",
    "fresno_2019['Unemployment Rate'] = fresno_2019['Unemployment'].astype(int)/fresno_2019['Labor Force'].astype(int)"
   ]
  },
  {
   "cell_type": "code",
   "execution_count": null,
   "metadata": {},
   "outputs": [],
   "source": [
    "fresno_2019"
   ]
  },
  {
   "cell_type": "code",
   "execution_count": null,
   "metadata": {},
   "outputs": [],
   "source": [
    "fresno_2019_ur"
   ]
  },
  {
   "cell_type": "code",
   "execution_count": null,
   "metadata": {},
   "outputs": [],
   "source": [
    "fresno_2019['Unemployment Rate Change'] = (fresno_2019_ur['Unemployment Rate'] - fresno_2019['Unemployment Rate'])"
   ]
  },
  {
   "cell_type": "code",
   "execution_count": null,
   "metadata": {},
   "outputs": [],
   "source": [
    "fresno_2019"
   ]
  },
  {
   "cell_type": "markdown",
   "metadata": {},
   "source": [
    "Great, we were able to get a record of the effect on unemployment if our educational program were to be implemented in Fresno County! \n",
    "\n",
    "### What industries/trades in Fresno County have the largest growth/opportunity?\n",
    "\n",
    "There appear to be differing opinions on the matter but there is a significant amount of construction work available as Fresno County is still performing work on their high speed rail and construction continues to rise back toward pre-pandemic levels. The educational program that Melissa Montalvo highlights in their article in the Fresno Bee is welding and the construction training program available in Mendota, CA. __['Broken Ladders: Looking for a new job in Fresno? Here’s how you can get free career training'](https://www.fresnobee.com/fresnoland/article261398132.html)__ <br> \n",
    "\n",
    "<img src = 'pics/mendota-city-municipal-website-by-vortal-website-design-entrance.jpg'>\n",
    "\n"
   ]
  },
  {
   "cell_type": "markdown",
   "metadata": {},
   "source": [
    "### Function for effect on unemployment rate "
   ]
  },
  {
   "cell_type": "code",
   "execution_count": null,
   "metadata": {},
   "outputs": [],
   "source": [
    "# as a note, you will still need to do all of the preprocessing steps for a given county: \n",
    "# find ag/migrant employment numbers and consider how many of these workers would be able to \n",
    "# convert to skilled trade workers, potentially\n",
    "def effect(county, x): # x serves as our numerical value placeholder \n",
    "    \n",
    "    # insurance that our index is sorted based on actual time series\n",
    "    county = county.sort_index()\n",
    "    # slice dataframe to only include 2019's data\n",
    "    county_2019 = county.iloc[348:360]\n",
    "    # create new variable copy\n",
    "    county_2019_ur = county_2019.copy()\n",
    "    # simple math for employment numbers, x is an input from our previous preprocessing steps\n",
    "    county_2019['Employment'] = county_2019['Employment'].astype(int) + x\n",
    "    # simple math for unemployment \n",
    "    county_2019['Unemployment'] = county_2019['Unemployment'].astype(int) - x\n",
    "    # divide unemployment by labor force to get our new unemployment rate \n",
    "    county_2019['Unemployment Rate'] = county_2019['Unemployment'].astype(int)/county_2019['Labor Force']\n",
    "    # create new column 'Unemployment Rate Change' to show rate of unemployment change \n",
    "    county_2019['Unemployment Rate Change'] = (county_2019_ur['Unemployment Rate'] - county_2019['Unemployment Rate'])\n",
    "    # return 2019 data\n",
    "    return county_2019"
   ]
  },
  {
   "cell_type": "markdown",
   "metadata": {},
   "source": [
    "# For consideration, should we also create a predictive model for unemployment?"
   ]
  },
  {
   "cell_type": "markdown",
   "metadata": {},
   "source": [
    "## __[Monterey County](https://www.nass.usda.gov/Publications/AgCensus/2017/Online_Resources/County_Profiles/California/cp06053.pdf)__ Stationary Data "
   ]
  },
  {
   "cell_type": "code",
   "execution_count": null,
   "metadata": {
    "scrolled": true
   },
   "outputs": [],
   "source": [
    "# # call our diff() function on Monterey county data to make stationary\n",
    "# Monterey_stationary = diff(Monterey)\n",
    "# Monterey_stationary"
   ]
  },
  {
   "cell_type": "code",
   "execution_count": null,
   "metadata": {},
   "outputs": [],
   "source": [
    "# county = Monterey.drop(['Area Name', \n",
    "#                           'Labor Force', \n",
    "#                           'Employment', \n",
    "#                           'Unemployment'], axis =1)\n",
    "\n",
    "# county = county.diff(periods =1)\n",
    "    \n",
    "# cutoff = round(county.shape[0] * 0.75)\n",
    "    \n",
    "#     # plot our new split \n",
    "# train = county[:cutoff]\n",
    "# test = county[cutoff: ]"
   ]
  },
  {
   "cell_type": "markdown",
   "metadata": {},
   "source": [
    "### Gridsearch Function Monterey County"
   ]
  },
  {
   "cell_type": "code",
   "execution_count": null,
   "metadata": {},
   "outputs": [],
   "source": [
    "# # Uncomment whole cell to run\n",
    "\n",
    "# # runs gridsearch function on training data, takes another 7 minutes\n",
    "\n",
    "# b_aic, b_order, b_model = gridsearch(train, \n",
    "#                                     [0,6,12,18], \n",
    "#                                     [1,2,3,4,5,6], \n",
    "#                                     [0,6,12,18])\n",
    "# print(f'The best AIC score is {b_aic}')\n",
    "# print(f'The best order set is {b_order}')\n",
    "# # Expected output: The best AIC score is -1919.760684917757\n",
    "# # Expected output: The best order set is (18, 1, 0)"
   ]
  },
  {
   "cell_type": "code",
   "execution_count": null,
   "metadata": {},
   "outputs": [],
   "source": [
    "# arma_Monterey = ARIMA(train, order = (18,1,0)).fit()"
   ]
  },
  {
   "cell_type": "code",
   "execution_count": null,
   "metadata": {},
   "outputs": [],
   "source": [
    "# print(arma_Monterey.summary())"
   ]
  },
  {
   "cell_type": "code",
   "execution_count": null,
   "metadata": {},
   "outputs": [],
   "source": [
    "# train = train.dropna()"
   ]
  },
  {
   "cell_type": "code",
   "execution_count": null,
   "metadata": {},
   "outputs": [],
   "source": [
    "# y_hat = arma_Monterey.predict(typ='levels') \n",
    "# y_hat = y_hat[1:]\n",
    "# np.sqrt(mean_squared_error(train, y_hat))"
   ]
  },
  {
   "cell_type": "code",
   "execution_count": null,
   "metadata": {},
   "outputs": [],
   "source": [
    "# arma_Monterey_test = ARIMA(test, order = (18,1,0)).fit()"
   ]
  },
  {
   "cell_type": "code",
   "execution_count": null,
   "metadata": {},
   "outputs": [],
   "source": [
    "# print(arma_Monterey_test.aic)"
   ]
  },
  {
   "cell_type": "code",
   "execution_count": null,
   "metadata": {},
   "outputs": [],
   "source": [
    "# y_hat = arma_Monterey_test.predict(typ='levels')\n",
    "# np.sqrt(mean_squared_error(test, y_hat))"
   ]
  },
  {
   "cell_type": "markdown",
   "metadata": {},
   "source": [
    "### Predict Monterey County's incoming unemployment rates"
   ]
  },
  {
   "cell_type": "code",
   "execution_count": null,
   "metadata": {},
   "outputs": [],
   "source": [
    "# forecast = arma_Monterey.forecast(112)\n",
    "# forecast"
   ]
  },
  {
   "cell_type": "code",
   "execution_count": null,
   "metadata": {},
   "outputs": [],
   "source": [
    "# forecast.index.tolist()"
   ]
  },
  {
   "cell_type": "code",
   "execution_count": null,
   "metadata": {},
   "outputs": [],
   "source": [
    "# test.index.tolist()"
   ]
  },
  {
   "cell_type": "code",
   "execution_count": null,
   "metadata": {},
   "outputs": [],
   "source": [
    "# forecast = pd.DataFrame(forecast)"
   ]
  },
  {
   "cell_type": "code",
   "execution_count": null,
   "metadata": {},
   "outputs": [],
   "source": [
    "# forecast.tail()"
   ]
  },
  {
   "cell_type": "code",
   "execution_count": null,
   "metadata": {},
   "outputs": [],
   "source": [
    "# forecast['Year'] = list\n",
    "# forecast"
   ]
  },
  {
   "cell_type": "code",
   "execution_count": null,
   "metadata": {},
   "outputs": [],
   "source": [
    "# forecast = forecast.set_index('Year')"
   ]
  },
  {
   "cell_type": "code",
   "execution_count": null,
   "metadata": {
    "scrolled": true
   },
   "outputs": [],
   "source": [
    "# fig, ax = plt.subplots(figsize = (12,8))\n",
    "# plt.xticks(fontsize=8, rotation=90)\n",
    "# xmin, xmax = ax.get_xlim()\n",
    "# ax.set_xticks(np.round(np.linspace(xmin, xmax), 2))\n",
    "# ax.plot(train, label = 'Train')\n",
    "# ax.plot(forecast, label = 'Forecast')\n",
    "# ax.plot(test, label = 'Test')\n",
    "\n",
    "# ax.set_title('Monterey County Prediction to 2024')\n",
    "# ax.set_xlabel('Year')\n",
    "# ax.set_xticks(range(0,len(Monterey), 12)) \n",
    "# ax.legend();"
   ]
  },
  {
   "cell_type": "markdown",
   "metadata": {},
   "source": [
    "### FB Prophet: Monterey"
   ]
  },
  {
   "cell_type": "code",
   "execution_count": null,
   "metadata": {
    "scrolled": false
   },
   "outputs": [],
   "source": [
    "# prophet(Monterey)"
   ]
  },
  {
   "cell_type": "markdown",
   "metadata": {},
   "source": [
    "Unfortunately Prophet does not provide us with a more powerful model. "
   ]
  },
  {
   "cell_type": "markdown",
   "metadata": {},
   "source": [
    "### Effect on Unemployment Rate: Monterey County\n",
    "\n",
    "According to our data on __[Monterey County](https://www.nass.usda.gov/Publications/AgCensus/2017/Online_Resources/County_Profiles/California/cp06053.pdf)__'s ag worker data, there are: <br> \n",
    "\n",
    "- 1,356 male workers \n",
    "- 588 female workers\n",
    "- 175 of which are under the age of 35\n",
    "- 1174 between the ages of 35-64 \n",
    "- 595 above the age of 65 <br> \n",
    "- total 1,944 workers\n",
    "\n",
    "Again, with consideration that not all of the workforce will take this educational opportunity, we will use the same parameters as on Fresno county's agriculture workforce. <br> \n",
    "\n",
    "So again, with 1,944 total ag workers, with an anticipated 25% taking advantage of an educational opportunity, and a 50% anticipated graduation rate we would have: <br> \n",
    "\n",
    "- 243 new skilled trade workers in 2019"
   ]
  },
  {
   "cell_type": "code",
   "execution_count": null,
   "metadata": {},
   "outputs": [],
   "source": [
    "# effect(Monterey, 243)"
   ]
  },
  {
   "cell_type": "markdown",
   "metadata": {},
   "source": [
    "According to a recent article from _Monterey County Weekly_ in their article __[Housing and labor shortages are holding back the Monterey Bay region’s economy](https://www.montereycountyweekly.com/blogs/news_blog/housing-and-labor-shortages-are-holding-back-the-monterey-bay-region-s-economy/article_2b1542f2-fb81-11ed-8042-47ed37dd3160.html)__ published May 25, 2023, the largest growing sector currently is manufacturing but according to Christopher Thornberg of Beacon Economics, at the MBEP’s (Monterey Bay Economic Partnership) 2023 Regional Economic Outlook virtual event, the current housing crisis in Monterey County is not based in unaffordable housing, it is due to lack of housing. <br> \n",
    "\n",
    "Rey Mashayekhi, the author of the article outlines Thornberg's sentiments, that \n",
    "<br>\n",
    "\"The “real worries,” he noted, should be around housing shortages impacting workers in places like California, which are contributing to the “enormous issue” of labor shortages that are hurting businesses. That’s led to California’s declining population and lower net migration pattern in recent years, which have affected the Monterey Bay region’s economy.\"<br> \n",
    "\n",
    "It is suggested that potential candidates take advantage of drywall, plumbing, hvac, or electrical schooling in the Monterey County area.<br> \n",
    "\n",
    "<img src = 'pics/MCH-L-HOUSING-1201.webp'> \n",
    "<p style=\"text-align: center;\">Housing construction in Monterey County from the Monterey Herald</p>"
   ]
  },
  {
   "cell_type": "markdown",
   "metadata": {},
   "source": [
    "## __[Kern County](https://www.nass.usda.gov/Publications/AgCensus/2017/Online_Resources/County_Profiles/California/cp06029.pdf)__ Stationary Data"
   ]
  },
  {
   "cell_type": "code",
   "execution_count": null,
   "metadata": {},
   "outputs": [],
   "source": [
    "# Kern_stationary = diff(Kern)\n",
    "# Kern_stationary"
   ]
  },
  {
   "cell_type": "code",
   "execution_count": null,
   "metadata": {},
   "outputs": [],
   "source": [
    "# county = Kern.drop(['Area Name', \n",
    "#                           'Labor Force', \n",
    "#                           'Employment', \n",
    "#                           'Unemployment'], axis =1)\n",
    "\n",
    "# county = county.diff(periods =1)\n",
    "    \n",
    "# cutoff = round(county.shape[0] * 0.75)\n",
    "    \n",
    "#     # plot our new split \n",
    "# train = county[:cutoff]\n",
    "# test = county[cutoff: ]"
   ]
  },
  {
   "cell_type": "markdown",
   "metadata": {},
   "source": [
    "### Gridsearch Function Kern County"
   ]
  },
  {
   "cell_type": "code",
   "execution_count": null,
   "metadata": {},
   "outputs": [],
   "source": [
    "# # Uncomment whole cell to run\n",
    "\n",
    "# # runs gridsearch function on training data, takes another 7 minutes\n",
    "\n",
    "# b_aic, b_order, b_model = gridsearch(train, \n",
    "#                                     [0,6,12,18], \n",
    "#                                     [1,2,3,4,5,6], \n",
    "#                                     [0,6,12,18])\n",
    "# print(f'The best AIC score is {b_aic}')\n",
    "# print(f'The best order set is {b_order}')\n",
    "# # Expected output: The best AIC score is -1926.5166750777462\n",
    "# # Expected output: The best order set is (12, 1, 18)"
   ]
  },
  {
   "cell_type": "code",
   "execution_count": null,
   "metadata": {},
   "outputs": [],
   "source": [
    "# arma_Kern = ARIMA(train, order = (12,1,18)).fit()"
   ]
  },
  {
   "cell_type": "code",
   "execution_count": null,
   "metadata": {},
   "outputs": [],
   "source": [
    "# print(arma_Kern.summary())"
   ]
  },
  {
   "cell_type": "code",
   "execution_count": null,
   "metadata": {},
   "outputs": [],
   "source": [
    "# train = train.dropna()"
   ]
  },
  {
   "cell_type": "code",
   "execution_count": null,
   "metadata": {},
   "outputs": [],
   "source": [
    "# y_hat = arma_Kern.predict(typ = 'levels')\n",
    "# y_hat = y_hat[1:]\n",
    "# np.sqrt(mean_squared_error(train, y_hat))"
   ]
  },
  {
   "cell_type": "code",
   "execution_count": null,
   "metadata": {},
   "outputs": [],
   "source": [
    "# arma_Kern_test = ARIMA(test, order = (12,1,18)).fit()"
   ]
  },
  {
   "cell_type": "code",
   "execution_count": null,
   "metadata": {},
   "outputs": [],
   "source": [
    "# print(arma_Kern_test.aic)"
   ]
  },
  {
   "cell_type": "code",
   "execution_count": null,
   "metadata": {},
   "outputs": [],
   "source": [
    "# y_hat = arma_Kern_test.predict(typ='levels')\n",
    "# np.sqrt(mean_squared_error(test, y_hat))"
   ]
  },
  {
   "cell_type": "markdown",
   "metadata": {},
   "source": [
    "### Predict Kern County's incoming unemployment rates"
   ]
  },
  {
   "cell_type": "code",
   "execution_count": null,
   "metadata": {},
   "outputs": [],
   "source": [
    "# forecast = arma_Kern.forecast(112)\n",
    "# forecast.index.tolist()\n",
    "# test.index.tolist()"
   ]
  },
  {
   "cell_type": "code",
   "execution_count": null,
   "metadata": {},
   "outputs": [],
   "source": [
    "# forecast = pd.DataFrame(forecast)\n",
    "# forecast.tail()"
   ]
  },
  {
   "cell_type": "code",
   "execution_count": null,
   "metadata": {},
   "outputs": [],
   "source": [
    "# forecast['Year'] = list\n",
    "# forecast = forecast.set_index('Year')"
   ]
  },
  {
   "cell_type": "code",
   "execution_count": null,
   "metadata": {
    "scrolled": true
   },
   "outputs": [],
   "source": [
    "# fig, ax = plt.subplots(figsize = (12,8))\n",
    "# plt.xticks(fontsize=8, rotation=90)\n",
    "# xmin, xmax = ax.get_xlim()\n",
    "# ax.set_xticks(np.round(np.linspace(xmin, xmax), 2))\n",
    "# ax.plot(train, label = 'Train')\n",
    "# ax.plot(forecast, label = 'Forecast')\n",
    "# ax.plot(test, label = 'Test')\n",
    "\n",
    "# ax.set_title('Kern County Prediction to 2024')\n",
    "# ax.set_xlabel('Year')\n",
    "# ax.set_xticks(range(0,len(Kern), 12)) \n",
    "# ax.legend();"
   ]
  },
  {
   "cell_type": "markdown",
   "metadata": {},
   "source": [
    "### FB Prophet: Kern County"
   ]
  },
  {
   "cell_type": "code",
   "execution_count": null,
   "metadata": {},
   "outputs": [],
   "source": [
    "# prophet(Kern)"
   ]
  },
  {
   "cell_type": "markdown",
   "metadata": {},
   "source": [
    "### Effect on Unemployment Rate: Kern County\n",
    "\n",
    "__[Kern County](https://www.nass.usda.gov/Publications/AgCensus/2017/Online_Resources/County_Profiles/California/cp06029.pdf)__'s ag worker data shows that in 2017 there were: <br> \n",
    "\n",
    "- 2,162 male workers \n",
    "- 997 female workers \n",
    "- 230 under the age of 35\n",
    "- 1,820 between the ages of 35-64\n",
    "- 1,109 over the age of 65\n",
    "- in total there are 3,159 workers in Kern County <br> \n",
    "\n",
    "We anticipate that somewhere around 394 workers would become skilled trade workers in 2019. \n"
   ]
  },
  {
   "cell_type": "code",
   "execution_count": null,
   "metadata": {},
   "outputs": [],
   "source": [
    "# effect(Kern, 394)"
   ]
  },
  {
   "cell_type": "markdown",
   "metadata": {},
   "source": [
    "According to the __[Kern County Economic Forecast](https://dot.ca.gov/-/media/dot-media/programs/transportation-planning/documents/data-analytics-services/transportation-economics/socioeconomic-forecasts/2021/2021-pdf/kern-profile-a11y.pdf)__, published in 2021, \"Construction saw a relatively large decline\" but was anticipated to have \"a full recovery ... expected in 2023 or 2024.\" "
   ]
  },
  {
   "cell_type": "markdown",
   "metadata": {},
   "source": [
    "## __[Tulare County](https://www.nass.usda.gov/Publications/AgCensus/2017/Online_Resources/County_Profiles/California/cp06107.pdf)__ Stationary Data"
   ]
  },
  {
   "cell_type": "code",
   "execution_count": null,
   "metadata": {},
   "outputs": [],
   "source": [
    "# Tulare_stationary = diff(Tulare)\n",
    "# Tulare_stationary"
   ]
  },
  {
   "cell_type": "code",
   "execution_count": null,
   "metadata": {},
   "outputs": [],
   "source": [
    "# county = Tulare.drop(['Area Name', \n",
    "#                           'Labor Force', \n",
    "#                           'Employment', \n",
    "#                           'Unemployment'], axis =1)\n",
    "\n",
    "# county = county.diff(periods =1)\n",
    "    \n",
    "# cutoff = round(county.shape[0] * 0.75)\n",
    "    \n",
    "#     # plot our new split \n",
    "# train = county[:cutoff]\n",
    "# test = county[cutoff: ]"
   ]
  },
  {
   "cell_type": "markdown",
   "metadata": {},
   "source": [
    "### Gridsearch Function Tulare County"
   ]
  },
  {
   "cell_type": "code",
   "execution_count": null,
   "metadata": {},
   "outputs": [],
   "source": [
    "# # Uncomment whole cell to run\n",
    "\n",
    "# # runs gridsearch function on training data, takes another 7 minutes\n",
    "\n",
    "# b_aic, b_order, b_model = gridsearch(train, \n",
    "#                                     [0,6,12,18], \n",
    "#                                     [1,2,3,4,5,6], \n",
    "#                                     [0,6,12,18])\n",
    "# print(f'The best AIC score is {b_aic}')\n",
    "# print(f'The best order set is {b_order}')\n",
    "# # Expected output: The best AIC score is -1708.1863069146839\n",
    "# # Expected output: The best order set is (18, 1, 18)"
   ]
  },
  {
   "cell_type": "code",
   "execution_count": null,
   "metadata": {},
   "outputs": [],
   "source": [
    "# arma_Tulare = ARIMA(train, order = (18,1,18)).fit()"
   ]
  },
  {
   "cell_type": "code",
   "execution_count": null,
   "metadata": {},
   "outputs": [],
   "source": [
    "# print(arma_Tulare.summary())"
   ]
  },
  {
   "cell_type": "code",
   "execution_count": null,
   "metadata": {},
   "outputs": [],
   "source": [
    "# train = train.dropna()"
   ]
  },
  {
   "cell_type": "code",
   "execution_count": null,
   "metadata": {},
   "outputs": [],
   "source": [
    "# y_hat = arma_Tulare.predict(typ='levels')\n",
    "# y_hat = y_hat[1:]\n",
    "# np.sqrt(mean_squared_error(train, y_hat))"
   ]
  },
  {
   "cell_type": "code",
   "execution_count": null,
   "metadata": {},
   "outputs": [],
   "source": [
    "# arma_Tulare_test = ARIMA(test, order= (18,1,18)).fit()"
   ]
  },
  {
   "cell_type": "code",
   "execution_count": null,
   "metadata": {},
   "outputs": [],
   "source": [
    "# print(arma_Tulare_test.aic)"
   ]
  },
  {
   "cell_type": "code",
   "execution_count": null,
   "metadata": {},
   "outputs": [],
   "source": [
    "# y_hat = arma_Tulare_test.predict(typ='levels')\n",
    "# np.sqrt(mean_squared_error(test, y_hat))"
   ]
  },
  {
   "cell_type": "markdown",
   "metadata": {},
   "source": [
    "### Predict Tulare County's incoming unemployment rates"
   ]
  },
  {
   "cell_type": "code",
   "execution_count": null,
   "metadata": {},
   "outputs": [],
   "source": [
    "# forecast = arma_Tulare.forecast(112)\n",
    "# forecast.index.tolist()\n",
    "# test.index.tolist()"
   ]
  },
  {
   "cell_type": "code",
   "execution_count": null,
   "metadata": {},
   "outputs": [],
   "source": [
    "# forecast = pd.DataFrame(forecast)"
   ]
  },
  {
   "cell_type": "code",
   "execution_count": null,
   "metadata": {},
   "outputs": [],
   "source": [
    "# forecast['Year'] = list\n",
    "# forecast"
   ]
  },
  {
   "cell_type": "code",
   "execution_count": null,
   "metadata": {},
   "outputs": [],
   "source": [
    "# forecast = forecast.set_index('Year')"
   ]
  },
  {
   "cell_type": "code",
   "execution_count": null,
   "metadata": {},
   "outputs": [],
   "source": [
    "# fig, ax = plt.subplots(figsize = (12,8))\n",
    "# plt.xticks(fontsize=8, rotation=90)\n",
    "# xmin, xmax = ax.get_xlim()\n",
    "# ax.set_xticks(np.round(np.linspace(xmin, xmax), 2))\n",
    "# ax.plot(train, label = 'Train')\n",
    "# ax.plot(forecast, label = 'Forecast')\n",
    "# ax.plot(test, label = 'Test')\n",
    "\n",
    "# ax.set_title('Tulare County Prediction to 2024')\n",
    "# ax.set_xlabel('Year')\n",
    "# ax.set_xticks(range(0,len(Tulare), 12)) \n",
    "# ax.legend();"
   ]
  },
  {
   "cell_type": "markdown",
   "metadata": {},
   "source": [
    "### FB Prophet: Tulare County"
   ]
  },
  {
   "cell_type": "code",
   "execution_count": null,
   "metadata": {},
   "outputs": [],
   "source": [
    "# prophet(Tulare)"
   ]
  },
  {
   "cell_type": "markdown",
   "metadata": {},
   "source": [
    "### Effect on Unemployment Rate: Tulare County\n",
    "\n",
    "__[Tulare County](https://www.nass.usda.gov/Publications/AgCensus/2017/Online_Resources/County_Profiles/California/cp06107.pdf)__ has a total of 7,163 ag workers, with an anticipated 895 that would apply and graduate from an educational program. "
   ]
  },
  {
   "cell_type": "code",
   "execution_count": null,
   "metadata": {},
   "outputs": [],
   "source": [
    "# effect(Tulare, 895)"
   ]
  },
  {
   "cell_type": "markdown",
   "metadata": {},
   "source": [
    "Reggie Ellis wrote a piece on __[Chris Thornberg's presentation to Tulare County officials in 2022](https://thesungazette.com/article/news/2022/02/22/economist-chris-thornberg-tells-tulare-county-to-focus-on-workers-workers-workers/)__, Ellis outlines Thornberg's presentation on the labor shortage as a shortage of amenities, affordable homes for families, and lack of workforce. This would seem paradoxical, as Thornburg explains, \"There is not enough housing for people to live in this state,\" and that \"if you don't build them, people aren't going to come.\" <br> \n",
    "\n",
    "There appears to be a clear push for construction work to be done in the Central Valley. \n",
    "\n",
    "<img src='pics/2-18_re-summit_chris-thornberg-labor-market-1.jpg'>\n",
    "<center>Chris Thornberg of Beacon Economics giving a presentation to Tulare County officials in 2022 on the labor shortage</center>"
   ]
  },
  {
   "cell_type": "markdown",
   "metadata": {},
   "source": [
    "## __[San Joaquin County](https://www.nass.usda.gov/Publications/AgCensus/2017/Online_Resources/County_Profiles/California/cp06077.pdf)__ Stationary Data"
   ]
  },
  {
   "cell_type": "code",
   "execution_count": null,
   "metadata": {},
   "outputs": [],
   "source": [
    "# San_Joaquin_stationary = diff(San_Joaquin)\n",
    "# San_Joaquin_stationary"
   ]
  },
  {
   "cell_type": "code",
   "execution_count": null,
   "metadata": {},
   "outputs": [],
   "source": [
    "# county = San_Joaquin.drop(['Area Name', \n",
    "#                           'Labor Force', \n",
    "#                           'Employment', \n",
    "#                           'Unemployment'], axis =1)\n",
    "\n",
    "# county = county.diff(periods =1)\n",
    "    \n",
    "# cutoff = round(county.shape[0] * 0.75)\n",
    "    \n",
    "#     # plot our new split \n",
    "# train = county[:cutoff]\n",
    "# test = county[cutoff: ]"
   ]
  },
  {
   "cell_type": "code",
   "execution_count": null,
   "metadata": {},
   "outputs": [],
   "source": [
    "# # Uncomment whole cell to run\n",
    "\n",
    "# # runs gridsearch function on training data, takes another 7 minutes\n",
    "\n",
    "# b_aic, b_order, b_model = gridsearch(train, \n",
    "#                                     [0,6,12,18], \n",
    "#                                     [1,2,3,4,5,6], \n",
    "#                                     [0,6,12,18])\n",
    "# print(f'The best AIC score is {b_aic}')\n",
    "# print(f'The best order set is {b_order}')\n",
    "# # Expected output: The best AIC score is -2030.3340755639715\n",
    "# # Expected output: The best order set is (18, 1, 0)"
   ]
  },
  {
   "cell_type": "code",
   "execution_count": null,
   "metadata": {},
   "outputs": [],
   "source": [
    "# arma_SJ = ARIMA(train, order = (18,1,0)).fit()"
   ]
  },
  {
   "cell_type": "code",
   "execution_count": null,
   "metadata": {},
   "outputs": [],
   "source": [
    "# print(arma_SJ.summary())"
   ]
  },
  {
   "cell_type": "code",
   "execution_count": null,
   "metadata": {},
   "outputs": [],
   "source": [
    "# train = train.dropna()"
   ]
  },
  {
   "cell_type": "code",
   "execution_count": null,
   "metadata": {},
   "outputs": [],
   "source": [
    "# y_hat = arma_SJ.predict(typ='levels')\n",
    "# y_hat = y_hat[1:]\n",
    "# np.sqrt(mean_squared_error(train, y_hat))"
   ]
  },
  {
   "cell_type": "code",
   "execution_count": null,
   "metadata": {},
   "outputs": [],
   "source": [
    "# arma_SJ_test = ARIMA(test, order = (18,1,0)).fit()"
   ]
  },
  {
   "cell_type": "code",
   "execution_count": null,
   "metadata": {},
   "outputs": [],
   "source": [
    "# print(arma_SJ_test.aic)"
   ]
  },
  {
   "cell_type": "code",
   "execution_count": null,
   "metadata": {},
   "outputs": [],
   "source": [
    "# y_hat = arma_SJ_test.predict(typ='levels')\n",
    "# np.sqrt(mean_squared_error(test, y_hat))"
   ]
  },
  {
   "cell_type": "markdown",
   "metadata": {},
   "source": [
    "### Predict San Joaquin County's incoming unemployment rates "
   ]
  },
  {
   "cell_type": "code",
   "execution_count": null,
   "metadata": {},
   "outputs": [],
   "source": [
    "# forecast = arma_SJ.forecast(112)\n",
    "# forecast.index.tolist()\n",
    "# test.index.tolist()"
   ]
  },
  {
   "cell_type": "code",
   "execution_count": null,
   "metadata": {},
   "outputs": [],
   "source": [
    "# forecast = pd.DataFrame(forecast)"
   ]
  },
  {
   "cell_type": "code",
   "execution_count": null,
   "metadata": {},
   "outputs": [],
   "source": [
    "# forecast['Year'] = list \n",
    "# forecast"
   ]
  },
  {
   "cell_type": "code",
   "execution_count": null,
   "metadata": {},
   "outputs": [],
   "source": [
    "# forecast = forecast.set_index('Year')"
   ]
  },
  {
   "cell_type": "code",
   "execution_count": null,
   "metadata": {},
   "outputs": [],
   "source": [
    "# fig, ax = plt.subplots(figsize = (12,8))\n",
    "# plt.xticks(fontsize=8, rotation=90)\n",
    "# xmin, xmax = ax.get_xlim()\n",
    "# ax.set_xticks(np.round(np.linspace(xmin, xmax), 2))\n",
    "# ax.plot(train, label = 'Train')\n",
    "# ax.plot(forecast, label = 'Forecast')\n",
    "# ax.plot(test, label = 'Test')\n",
    "\n",
    "# ax.set_title('San Joaquin County Prediction to 2024')\n",
    "# ax.set_xlabel('Year')\n",
    "# ax.set_xticks(range(0,len(San_Joaquin), 12)) \n",
    "# ax.legend();"
   ]
  },
  {
   "cell_type": "markdown",
   "metadata": {},
   "source": [
    "### FB Prophet: San Joaquin County"
   ]
  },
  {
   "cell_type": "code",
   "execution_count": null,
   "metadata": {},
   "outputs": [],
   "source": [
    "# prophet(San_Joaquin)"
   ]
  },
  {
   "cell_type": "markdown",
   "metadata": {},
   "source": [
    "### Effect on Unemployment Rate:  __[San Joaquin County](https://www.nass.usda.gov/Publications/AgCensus/2017/Online_Resources/County_Profiles/California/cp06077.pdf)__\n",
    "\n",
    "Of the 6,176 total ag/migrant workers in San Joaquin County we anticipate that 772 workers would graduate from a trade school given the opportunity. "
   ]
  },
  {
   "cell_type": "code",
   "execution_count": null,
   "metadata": {},
   "outputs": [],
   "source": [
    "# effect(San_Joaquin, 772)"
   ]
  },
  {
   "cell_type": "markdown",
   "metadata": {},
   "source": [
    "According to the EDD, there is a list of the top 5 __[In-Demand Middle-Skill Occupations](https://edd.ca.gov/siteassets/files/jobs_and_training/pubs/carrerladder_sanjoaquinvalley.pdf)__ for the entire San Joaquin Valley Region (Fresno, Inyo, Kern, Kings, Madera, Merced, Mono, San Joaquin, Stanislaus, and Tulare counties), the first of which is a Heavy and Tractor-Trailer Trucker Driver. Heavy equipment driving is not what is considered skilled trade work, but there is an eduational component involved and is skilled work, non-union represented. <br>\n",
    "\n",
    "### Limitations of the data and information available\n",
    "\n",
    "The greatest limitation of data available is the number of actual migrant workers currently in employ in California. The figures that we were able to find were from 2017; this may be smaller or larger in 2023 and could affect the analysis of our potential pool of workers. This could also affect labor pool, employed, unemployed, and unemployment rate numbers. \n",
    "\n",
    "# Concluding Remarks\n",
    "\n",
    "Based on the business problem I believe that we have successfully identified a group of workers inside California that would be considered capable of filling the skilled labor gap present in our communities. <br>\n",
    "\n",
    "The groups of workers in question is ag/migrant workers and though they are critical to the infrastructure and supply of food not only for California, but for the world (California is the fourth largest supplier of crops in the world), Chris Thornberg in his __[presentation to Tulare County officials](https://thesungazette.com/article/news/2022/02/22/economist-chris-thornberg-tells-tulare-county-to-focus-on-workers-workers-workers/)__ stated that there are only three ways to increase the workforce in a region: <br> \n",
    "\n",
    "- Extensive: increasing labor force through immigration (SR) or birthrates (LR) \n",
    "- Intensive: raising participation rates among the existing population\n",
    "- Productivity enhancements: capital investments/ skill training<br> \n",
    "\n",
    "We have suggested in some part, all three of these measures: <br> \n",
    "\n",
    "- Extensive: migrant workers support the largest economy in the central valley of California but suffer the largest inequities in regards to pay, shelter, and opportunity for growth; disruption of that business model in the form of an educational program like the one suggested would inevitably shake up the structure of the current and afford more opportunity to incoming migrant workers thus filling the gaps in the laborforce while forcing __[conditions](https://calmatters.org/california-divide/2023/02/farmworkers-conditions-california-report/)__ to improve based on competition with an educational program that would afford migrant workers opportunities to further their upward mobility in America. \n",
    "- Intensive: migrant workers already live and exist in the central valley of California and suffer from unemployment due to the seasonal nature of their work. Though they are supported by a union and are given the ability to look for work during their times of unemployment, there is no built in educational program that might afford migrant workers the ability to find work. \n",
    "- Productivity enhancements: skilled labor would be considered a form of skill training; the beauty of skilled labor is that oftentimes once an apprenticeship has begun there are opportunities to be paid for work and at higher rates than what is offered to migrant and seasonal farm workers. "
   ]
  },
  {
   "cell_type": "markdown",
   "metadata": {},
   "source": [
    "## Forecasting with RNN (__[Recurrent Neural Networks](https://towardsdatascience.com/temporal-loops-intro-to-recurrent-neural-networks-for-time-series-forecasting-in-python-b0398963dc1f#:~:text=Recurrent%20Neural%20Networks%3A%20The%20Concept,data%20such%20as%20time%20series.)__)\n",
    "\n",
    "RNN's are deep learning models, typically used to solve problems with sequential input data such as time series. RNN's are a type of neural network that retains a memory of what it has already processed and thus can learn from previous iterations during its training. Majority of code is taken from walkthrough by __[Nachiketa Hebbar](https://www.youtube.com/watch?v=S8tpSG6Q2H0)__ "
   ]
  },
  {
   "cell_type": "code",
   "execution_count": null,
   "metadata": {},
   "outputs": [],
   "source": [
    "fresno.index = pd.to_datetime(fresno.index)"
   ]
  },
  {
   "cell_type": "code",
   "execution_count": null,
   "metadata": {},
   "outputs": [],
   "source": [
    "fresno = fresno.sort_index()"
   ]
  },
  {
   "cell_type": "code",
   "execution_count": null,
   "metadata": {},
   "outputs": [],
   "source": [
    "# For the sake of this exercise let's try using whole percentages\n",
    "fresno['Unemployment Rate'] *= 100"
   ]
  },
  {
   "cell_type": "code",
   "execution_count": null,
   "metadata": {},
   "outputs": [],
   "source": [
    "# let's try this out on the fresno dataset\n",
    "# import seasonal_decompose from statsmodels.tsa.seasonal \n",
    "from statsmodels.tsa.seasonal import seasonal_decompose"
   ]
  },
  {
   "cell_type": "code",
   "execution_count": null,
   "metadata": {},
   "outputs": [],
   "source": [
    "plt.style.use('ggplot')\n",
    "plt.style.use('classic')"
   ]
  },
  {
   "cell_type": "code",
   "execution_count": null,
   "metadata": {},
   "outputs": [],
   "source": [
    "results = seasonal_decompose(fresno['Unemployment Rate'], period =1)\n",
    "results.plot();"
   ]
  },
  {
   "cell_type": "markdown",
   "metadata": {},
   "source": [
    "Nothing too impressive going on with our seasonal_decompose. Let's move on. "
   ]
  },
  {
   "cell_type": "code",
   "execution_count": null,
   "metadata": {},
   "outputs": [],
   "source": [
    "# let's remind ourselves how long this dataset is. \n",
    "\n",
    "len(fresno)"
   ]
  },
  {
   "cell_type": "code",
   "execution_count": null,
   "metadata": {},
   "outputs": [],
   "source": [
    "fresno.head()"
   ]
  },
  {
   "cell_type": "code",
   "execution_count": null,
   "metadata": {},
   "outputs": [],
   "source": [
    "fresno = fresno.drop(['Area Name', \n",
    "             'Labor Force', \n",
    "             'Employment', \n",
    "             'Unemployment'], axis =1)"
   ]
  },
  {
   "cell_type": "code",
   "execution_count": null,
   "metadata": {},
   "outputs": [],
   "source": [
    "# We don't necessarily want to use the same train/test split\n",
    "# from earlier in the notebook, let's just try one year\n",
    "train = fresno.iloc[:386]\n",
    "test = fresno.iloc[386:]"
   ]
  },
  {
   "cell_type": "code",
   "execution_count": null,
   "metadata": {},
   "outputs": [],
   "source": [
    "# part of the reason that we wanted to look at percentage as \n",
    "# whole numbers was to make the job of MinMaxScaler a bit\n",
    "# more effective\n",
    "from sklearn.preprocessing import MinMaxScaler\n",
    "scaler = MinMaxScaler()"
   ]
  },
  {
   "cell_type": "code",
   "execution_count": null,
   "metadata": {},
   "outputs": [],
   "source": [
    "scaler.fit(train)\n",
    "scaled_train = scaler.transform(train)\n",
    "scaled_test = scaler.transform(test)"
   ]
  },
  {
   "cell_type": "markdown",
   "metadata": {},
   "source": [
    "# Notes:\n",
    "\n",
    "- this will not work on your computer outside of a tensorflow environment. \n",
    "- you will need to document all steps in creating this environment \n",
    "    - this is part of the reproducability portion. \n",
    "    - run this portion in google colab but be prepared to create a conda environment WITH DOCUMENTATION ON HOW YOU DID IT!"
   ]
  },
  {
   "cell_type": "code",
   "execution_count": null,
   "metadata": {},
   "outputs": [],
   "source": [
    "import tensorflow as tf"
   ]
  },
  {
   "cell_type": "code",
   "execution_count": null,
   "metadata": {},
   "outputs": [],
   "source": [
    "# from tensorflow import keras \n",
    "# from tensorflow.keras import layers\n",
    "\n",
    "from keras.preprocessing.sequence import TimeseriesGenerator"
   ]
  },
  {
   "cell_type": "code",
   "execution_count": null,
   "metadata": {},
   "outputs": [],
   "source": [
    "# define generator \n",
    "\n",
    "n_input = 3 \n",
    "n_features = 1\n",
    "generator = TimeseriesGenerator(scaled_train, \n",
    "                                scaled_train, \n",
    "                                length=n_input,\n",
    "                                batch_size=1)"
   ]
  },
  {
   "cell_type": "code",
   "execution_count": null,
   "metadata": {},
   "outputs": [],
   "source": [
    "X,y = generator[0]\n",
    "print(f'Given the Array: \\n{X.flatten()}')\n",
    "print(f'Predict this y: \\n{y}')"
   ]
  },
  {
   "cell_type": "code",
   "execution_count": null,
   "metadata": {},
   "outputs": [],
   "source": [
    "X.shape"
   ]
  },
  {
   "cell_type": "code",
   "execution_count": null,
   "metadata": {},
   "outputs": [],
   "source": [
    "n_input = 12\n",
    "generator = TimeseriesGenerator(scaled_train, \n",
    "                                scaled_train, \n",
    "                                length = n_input, \n",
    "                                batch_size = 1)"
   ]
  },
  {
   "cell_type": "code",
   "execution_count": 2,
   "metadata": {},
   "outputs": [
    {
     "ename": "ModuleNotFoundError",
     "evalue": "No module named 'tensorflow.tsl'",
     "output_type": "error",
     "traceback": [
      "\u001b[1;31m---------------------------------------------------------------------------\u001b[0m",
      "\u001b[1;31mModuleNotFoundError\u001b[0m                       Traceback (most recent call last)",
      "\u001b[1;32m<ipython-input-2-21f0146c8031>\u001b[0m in \u001b[0;36m<module>\u001b[1;34m\u001b[0m\n\u001b[1;32m----> 1\u001b[1;33m \u001b[1;32mfrom\u001b[0m \u001b[0mkeras\u001b[0m\u001b[1;33m.\u001b[0m\u001b[0mmodels\u001b[0m \u001b[1;32mimport\u001b[0m \u001b[0mSequential\u001b[0m\u001b[1;33m\u001b[0m\u001b[1;33m\u001b[0m\u001b[0m\n\u001b[0m\u001b[0;32m      2\u001b[0m \u001b[1;32mfrom\u001b[0m \u001b[0mkeras\u001b[0m\u001b[1;33m.\u001b[0m\u001b[0mlayers\u001b[0m \u001b[1;32mimport\u001b[0m \u001b[0mDense\u001b[0m\u001b[1;33m\u001b[0m\u001b[1;33m\u001b[0m\u001b[0m\n\u001b[0;32m      3\u001b[0m \u001b[1;32mfrom\u001b[0m \u001b[0mkeras\u001b[0m\u001b[1;33m.\u001b[0m\u001b[0mlayers\u001b[0m \u001b[1;32mimport\u001b[0m \u001b[0mLSTM\u001b[0m\u001b[1;33m\u001b[0m\u001b[1;33m\u001b[0m\u001b[0m\n",
      "\u001b[1;32m~\\anaconda3\\envs\\learn-env\\lib\\site-packages\\keras\\__init__.py\u001b[0m in \u001b[0;36m<module>\u001b[1;34m\u001b[0m\n\u001b[0;32m     19\u001b[0m \"\"\"\n\u001b[0;32m     20\u001b[0m \u001b[1;32mfrom\u001b[0m \u001b[0mkeras\u001b[0m \u001b[1;32mimport\u001b[0m \u001b[0mdistribute\u001b[0m\u001b[1;33m\u001b[0m\u001b[1;33m\u001b[0m\u001b[0m\n\u001b[1;32m---> 21\u001b[1;33m \u001b[1;32mfrom\u001b[0m \u001b[0mkeras\u001b[0m \u001b[1;32mimport\u001b[0m \u001b[0mmodels\u001b[0m\u001b[1;33m\u001b[0m\u001b[1;33m\u001b[0m\u001b[0m\n\u001b[0m\u001b[0;32m     22\u001b[0m \u001b[1;32mfrom\u001b[0m \u001b[0mkeras\u001b[0m\u001b[1;33m.\u001b[0m\u001b[0mengine\u001b[0m\u001b[1;33m.\u001b[0m\u001b[0minput_layer\u001b[0m \u001b[1;32mimport\u001b[0m \u001b[0mInput\u001b[0m\u001b[1;33m\u001b[0m\u001b[1;33m\u001b[0m\u001b[0m\n\u001b[0;32m     23\u001b[0m \u001b[1;32mfrom\u001b[0m \u001b[0mkeras\u001b[0m\u001b[1;33m.\u001b[0m\u001b[0mengine\u001b[0m\u001b[1;33m.\u001b[0m\u001b[0msequential\u001b[0m \u001b[1;32mimport\u001b[0m \u001b[0mSequential\u001b[0m\u001b[1;33m\u001b[0m\u001b[1;33m\u001b[0m\u001b[0m\n",
      "\u001b[1;32m~\\anaconda3\\envs\\learn-env\\lib\\site-packages\\keras\\models\\__init__.py\u001b[0m in \u001b[0;36m<module>\u001b[1;34m\u001b[0m\n\u001b[0;32m     16\u001b[0m \u001b[1;33m\u001b[0m\u001b[0m\n\u001b[0;32m     17\u001b[0m \u001b[1;33m\u001b[0m\u001b[0m\n\u001b[1;32m---> 18\u001b[1;33m \u001b[1;32mfrom\u001b[0m \u001b[0mkeras\u001b[0m\u001b[1;33m.\u001b[0m\u001b[0mengine\u001b[0m\u001b[1;33m.\u001b[0m\u001b[0mfunctional\u001b[0m \u001b[1;32mimport\u001b[0m \u001b[0mFunctional\u001b[0m\u001b[1;33m\u001b[0m\u001b[1;33m\u001b[0m\u001b[0m\n\u001b[0m\u001b[0;32m     19\u001b[0m \u001b[1;32mfrom\u001b[0m \u001b[0mkeras\u001b[0m\u001b[1;33m.\u001b[0m\u001b[0mengine\u001b[0m\u001b[1;33m.\u001b[0m\u001b[0msequential\u001b[0m \u001b[1;32mimport\u001b[0m \u001b[0mSequential\u001b[0m\u001b[1;33m\u001b[0m\u001b[1;33m\u001b[0m\u001b[0m\n\u001b[0;32m     20\u001b[0m \u001b[1;32mfrom\u001b[0m \u001b[0mkeras\u001b[0m\u001b[1;33m.\u001b[0m\u001b[0mengine\u001b[0m\u001b[1;33m.\u001b[0m\u001b[0mtraining\u001b[0m \u001b[1;32mimport\u001b[0m \u001b[0mModel\u001b[0m\u001b[1;33m\u001b[0m\u001b[1;33m\u001b[0m\u001b[0m\n",
      "\u001b[1;32m~\\anaconda3\\envs\\learn-env\\lib\\site-packages\\keras\\engine\\functional.py\u001b[0m in \u001b[0;36m<module>\u001b[1;34m\u001b[0m\n\u001b[0;32m     22\u001b[0m \u001b[1;32mimport\u001b[0m \u001b[0mwarnings\u001b[0m\u001b[1;33m\u001b[0m\u001b[1;33m\u001b[0m\u001b[0m\n\u001b[0;32m     23\u001b[0m \u001b[1;33m\u001b[0m\u001b[0m\n\u001b[1;32m---> 24\u001b[1;33m \u001b[1;32mimport\u001b[0m \u001b[0mtensorflow\u001b[0m\u001b[1;33m.\u001b[0m\u001b[0mcompat\u001b[0m\u001b[1;33m.\u001b[0m\u001b[0mv2\u001b[0m \u001b[1;32mas\u001b[0m \u001b[0mtf\u001b[0m\u001b[1;33m\u001b[0m\u001b[1;33m\u001b[0m\u001b[0m\n\u001b[0m\u001b[0;32m     25\u001b[0m \u001b[1;33m\u001b[0m\u001b[0m\n\u001b[0;32m     26\u001b[0m \u001b[1;32mfrom\u001b[0m \u001b[0mkeras\u001b[0m \u001b[1;32mimport\u001b[0m \u001b[0mbackend\u001b[0m\u001b[1;33m\u001b[0m\u001b[1;33m\u001b[0m\u001b[0m\n",
      "\u001b[1;32m~\\anaconda3\\envs\\learn-env\\lib\\site-packages\\tensorflow\\__init__.py\u001b[0m in \u001b[0;36m<module>\u001b[1;34m\u001b[0m\n\u001b[0;32m     35\u001b[0m \u001b[1;32mimport\u001b[0m \u001b[0mtyping\u001b[0m \u001b[1;32mas\u001b[0m \u001b[0m_typing\u001b[0m\u001b[1;33m\u001b[0m\u001b[1;33m\u001b[0m\u001b[0m\n\u001b[0;32m     36\u001b[0m \u001b[1;33m\u001b[0m\u001b[0m\n\u001b[1;32m---> 37\u001b[1;33m \u001b[1;32mfrom\u001b[0m \u001b[0mtensorflow\u001b[0m\u001b[1;33m.\u001b[0m\u001b[0mpython\u001b[0m\u001b[1;33m.\u001b[0m\u001b[0mtools\u001b[0m \u001b[1;32mimport\u001b[0m \u001b[0mmodule_util\u001b[0m \u001b[1;32mas\u001b[0m \u001b[0m_module_util\u001b[0m\u001b[1;33m\u001b[0m\u001b[1;33m\u001b[0m\u001b[0m\n\u001b[0m\u001b[0;32m     38\u001b[0m \u001b[1;32mfrom\u001b[0m \u001b[0mtensorflow\u001b[0m\u001b[1;33m.\u001b[0m\u001b[0mpython\u001b[0m\u001b[1;33m.\u001b[0m\u001b[0mutil\u001b[0m\u001b[1;33m.\u001b[0m\u001b[0mlazy_loader\u001b[0m \u001b[1;32mimport\u001b[0m \u001b[0mLazyLoader\u001b[0m \u001b[1;32mas\u001b[0m \u001b[0m_LazyLoader\u001b[0m\u001b[1;33m\u001b[0m\u001b[1;33m\u001b[0m\u001b[0m\n\u001b[0;32m     39\u001b[0m \u001b[1;33m\u001b[0m\u001b[0m\n",
      "\u001b[1;32m~\\anaconda3\\envs\\learn-env\\lib\\site-packages\\tensorflow\\python\\__init__.py\u001b[0m in \u001b[0;36m<module>\u001b[1;34m\u001b[0m\n\u001b[0;32m     38\u001b[0m \u001b[1;31m# pylint: disable=wildcard-import,g-bad-import-order,g-import-not-at-top\u001b[0m\u001b[1;33m\u001b[0m\u001b[1;33m\u001b[0m\u001b[1;33m\u001b[0m\u001b[0m\n\u001b[0;32m     39\u001b[0m \u001b[1;33m\u001b[0m\u001b[0m\n\u001b[1;32m---> 40\u001b[1;33m \u001b[1;32mfrom\u001b[0m \u001b[0mtensorflow\u001b[0m\u001b[1;33m.\u001b[0m\u001b[0mpython\u001b[0m\u001b[1;33m.\u001b[0m\u001b[0meager\u001b[0m \u001b[1;32mimport\u001b[0m \u001b[0mcontext\u001b[0m\u001b[1;33m\u001b[0m\u001b[1;33m\u001b[0m\u001b[0m\n\u001b[0m\u001b[0;32m     41\u001b[0m \u001b[1;33m\u001b[0m\u001b[0m\n\u001b[0;32m     42\u001b[0m \u001b[1;31m# pylint: enable=wildcard-import\u001b[0m\u001b[1;33m\u001b[0m\u001b[1;33m\u001b[0m\u001b[1;33m\u001b[0m\u001b[0m\n",
      "\u001b[1;32m~\\anaconda3\\envs\\learn-env\\lib\\site-packages\\tensorflow\\python\\eager\\context.py\u001b[0m in \u001b[0;36m<module>\u001b[1;34m\u001b[0m\n\u001b[0;32m     31\u001b[0m \u001b[1;33m\u001b[0m\u001b[0m\n\u001b[0;32m     32\u001b[0m \u001b[1;32mfrom\u001b[0m \u001b[0mtensorflow\u001b[0m\u001b[1;33m.\u001b[0m\u001b[0mcore\u001b[0m\u001b[1;33m.\u001b[0m\u001b[0mframework\u001b[0m \u001b[1;32mimport\u001b[0m \u001b[0mfunction_pb2\u001b[0m\u001b[1;33m\u001b[0m\u001b[1;33m\u001b[0m\u001b[0m\n\u001b[1;32m---> 33\u001b[1;33m \u001b[1;32mfrom\u001b[0m \u001b[0mtensorflow\u001b[0m\u001b[1;33m.\u001b[0m\u001b[0mcore\u001b[0m\u001b[1;33m.\u001b[0m\u001b[0mprotobuf\u001b[0m \u001b[1;32mimport\u001b[0m \u001b[0mconfig_pb2\u001b[0m\u001b[1;33m\u001b[0m\u001b[1;33m\u001b[0m\u001b[0m\n\u001b[0m\u001b[0;32m     34\u001b[0m \u001b[1;32mfrom\u001b[0m \u001b[0mtensorflow\u001b[0m\u001b[1;33m.\u001b[0m\u001b[0mcore\u001b[0m\u001b[1;33m.\u001b[0m\u001b[0mprotobuf\u001b[0m \u001b[1;32mimport\u001b[0m \u001b[0mrewriter_config_pb2\u001b[0m\u001b[1;33m\u001b[0m\u001b[1;33m\u001b[0m\u001b[0m\n\u001b[0;32m     35\u001b[0m \u001b[1;32mfrom\u001b[0m \u001b[0mtensorflow\u001b[0m\u001b[1;33m.\u001b[0m\u001b[0mpython\u001b[0m \u001b[1;32mimport\u001b[0m \u001b[0mpywrap_tfe\u001b[0m\u001b[1;33m\u001b[0m\u001b[1;33m\u001b[0m\u001b[0m\n",
      "\u001b[1;32m~\\anaconda3\\envs\\learn-env\\lib\\site-packages\\tensorflow\\core\\protobuf\\config_pb2.py\u001b[0m in \u001b[0;36m<module>\u001b[1;34m\u001b[0m\n\u001b[0;32m     18\u001b[0m \u001b[1;32mfrom\u001b[0m \u001b[0mtensorflow\u001b[0m\u001b[1;33m.\u001b[0m\u001b[0mcore\u001b[0m\u001b[1;33m.\u001b[0m\u001b[0mprotobuf\u001b[0m \u001b[1;32mimport\u001b[0m \u001b[0mdebug_pb2\u001b[0m \u001b[1;32mas\u001b[0m \u001b[0mtensorflow_dot_core_dot_protobuf_dot_debug__pb2\u001b[0m\u001b[1;33m\u001b[0m\u001b[1;33m\u001b[0m\u001b[0m\n\u001b[0;32m     19\u001b[0m \u001b[1;32mfrom\u001b[0m \u001b[0mtensorflow\u001b[0m\u001b[1;33m.\u001b[0m\u001b[0mcore\u001b[0m\u001b[1;33m.\u001b[0m\u001b[0mprotobuf\u001b[0m \u001b[1;32mimport\u001b[0m \u001b[0mrewriter_config_pb2\u001b[0m \u001b[1;32mas\u001b[0m \u001b[0mtensorflow_dot_core_dot_protobuf_dot_rewriter__config__pb2\u001b[0m\u001b[1;33m\u001b[0m\u001b[1;33m\u001b[0m\u001b[0m\n\u001b[1;32m---> 20\u001b[1;33m \u001b[1;32mfrom\u001b[0m \u001b[0mtensorflow\u001b[0m\u001b[1;33m.\u001b[0m\u001b[0mcore\u001b[0m\u001b[1;33m.\u001b[0m\u001b[0mprotobuf\u001b[0m \u001b[1;32mimport\u001b[0m \u001b[0mrpc_options_pb2\u001b[0m \u001b[1;32mas\u001b[0m \u001b[0mtensorflow_dot_core_dot_protobuf_dot_rpc__options__pb2\u001b[0m\u001b[1;33m\u001b[0m\u001b[1;33m\u001b[0m\u001b[0m\n\u001b[0m\u001b[0;32m     21\u001b[0m \u001b[1;32mtry\u001b[0m\u001b[1;33m:\u001b[0m\u001b[1;33m\u001b[0m\u001b[1;33m\u001b[0m\u001b[0m\n\u001b[0;32m     22\u001b[0m   \u001b[0mtensorflow_dot_tsl_dot_protobuf_dot_rpc__options__pb2\u001b[0m \u001b[1;33m=\u001b[0m \u001b[0mtensorflow_dot_core_dot_protobuf_dot_rpc__options__pb2\u001b[0m\u001b[1;33m.\u001b[0m\u001b[0mtensorflow_dot_tsl_dot_protobuf_dot_rpc__options__pb2\u001b[0m\u001b[1;33m\u001b[0m\u001b[1;33m\u001b[0m\u001b[0m\n",
      "\u001b[1;32m~\\anaconda3\\envs\\learn-env\\lib\\site-packages\\tensorflow\\core\\protobuf\\rpc_options_pb2.py\u001b[0m in \u001b[0;36m<module>\u001b[1;34m\u001b[0m\n\u001b[0;32m     12\u001b[0m \u001b[1;33m\u001b[0m\u001b[0m\n\u001b[0;32m     13\u001b[0m \u001b[1;33m\u001b[0m\u001b[0m\n\u001b[1;32m---> 14\u001b[1;33m \u001b[1;32mfrom\u001b[0m \u001b[0mtensorflow\u001b[0m\u001b[1;33m.\u001b[0m\u001b[0mtsl\u001b[0m\u001b[1;33m.\u001b[0m\u001b[0mprotobuf\u001b[0m \u001b[1;32mimport\u001b[0m \u001b[0mrpc_options_pb2\u001b[0m \u001b[1;32mas\u001b[0m \u001b[0mtensorflow_dot_tsl_dot_protobuf_dot_rpc__options__pb2\u001b[0m\u001b[1;33m\u001b[0m\u001b[1;33m\u001b[0m\u001b[0m\n\u001b[0m\u001b[0;32m     15\u001b[0m \u001b[1;33m\u001b[0m\u001b[0m\n\u001b[0;32m     16\u001b[0m \u001b[1;32mfrom\u001b[0m \u001b[0mtensorflow\u001b[0m\u001b[1;33m.\u001b[0m\u001b[0mtsl\u001b[0m\u001b[1;33m.\u001b[0m\u001b[0mprotobuf\u001b[0m\u001b[1;33m.\u001b[0m\u001b[0mrpc_options_pb2\u001b[0m \u001b[1;32mimport\u001b[0m \u001b[1;33m*\u001b[0m\u001b[1;33m\u001b[0m\u001b[1;33m\u001b[0m\u001b[0m\n",
      "\u001b[1;31mModuleNotFoundError\u001b[0m: No module named 'tensorflow.tsl'"
     ]
    }
   ],
   "source": [
    "from keras.models import Sequential\n",
    "from keras.layers import Dense \n",
    "from keras.layers import LSTM"
   ]
  },
  {
   "cell_type": "code",
   "execution_count": null,
   "metadata": {},
   "outputs": [],
   "source": [
    "# define our model \n",
    "model = Sequential()\n",
    "model.add(LSTM(100, activation='relu', input_shape=(n_input, n_features)))\n",
    "model.add(Dense(1))\n",
    "model.compile(optimizer='adam', loss='mse')"
   ]
  },
  {
   "cell_type": "code",
   "execution_count": null,
   "metadata": {},
   "outputs": [],
   "source": []
  }
 ],
 "metadata": {
  "kernelspec": {
   "display_name": "Python (learn-env)",
   "language": "python",
   "name": "lean-env"
  },
  "language_info": {
   "codemirror_mode": {
    "name": "ipython",
    "version": 3
   },
   "file_extension": ".py",
   "mimetype": "text/x-python",
   "name": "python",
   "nbconvert_exporter": "python",
   "pygments_lexer": "ipython3",
   "version": "3.8.5"
  },
  "toc": {
   "base_numbering": 1,
   "nav_menu": {},
   "number_sections": true,
   "sideBar": true,
   "skip_h1_title": true,
   "title_cell": "Table of Contents",
   "title_sidebar": "Contents",
   "toc_cell": true,
   "toc_position": {
    "height": "calc(100% - 180px)",
    "left": "10px",
    "top": "150px",
    "width": "165px"
   },
   "toc_section_display": true,
   "toc_window_display": true
  }
 },
 "nbformat": 4,
 "nbformat_minor": 4
}
